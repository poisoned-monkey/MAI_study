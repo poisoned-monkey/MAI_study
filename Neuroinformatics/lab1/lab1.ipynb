{
  "nbformat": 4,
  "nbformat_minor": 0,
  "metadata": {
    "kernelspec": {
      "display_name": "Python 3",
      "language": "python",
      "name": "python3"
    },
    "language_info": {
      "codemirror_mode": {
        "name": "ipython",
        "version": 3
      },
      "file_extension": ".py",
      "mimetype": "text/x-python",
      "name": "python",
      "nbconvert_exporter": "python",
      "pygments_lexer": "ipython3",
      "version": "3.8.3"
    },
    "colab": {
      "name": "NI_1_solution.ipynb",
      "provenance": [],
      "collapsed_sections": []
    }
  },
  "cells": [
    {
      "cell_type": "markdown",
      "metadata": {
        "id": "t0tIY0s_wLhq"
      },
      "source": [
        "##### Кузьмичев Александр Николаевич\n",
        "##### М8О-406Б-18"
      ]
    },
    {
      "cell_type": "markdown",
      "metadata": {
        "id": "nh9tEB1PwLhz"
      },
      "source": [
        "<h1><center> Перцептрон Розенблата </center></h1>"
      ]
    },
    {
      "cell_type": "markdown",
      "metadata": {
        "id": "9mXzRxeWwLh1"
      },
      "source": [
        "<center><h2> Вариант №12 </h2></center>"
      ]
    },
    {
      "cell_type": "markdown",
      "metadata": {
        "id": "th1tOs2_wLh2"
      },
      "source": [
        "Структура *Перцептрона Розенблата*. Мы будем строить слой из таких перцептронов в зависимости от того, на сколько классов надо разбить данные. По условию - выход перцептрона $net$, поэтому из схемы ниже нужно изключить пороговую функцию активации."
      ]
    },
    {
      "cell_type": "markdown",
      "metadata": {
        "id": "ypSLV8o7wLh4"
      },
      "source": [
        "<img src=\"https://www.machinelearningmastery.ru/img/0-675619-991897.png\">"
      ]
    },
    {
      "cell_type": "markdown",
      "metadata": {
        "id": "7NLXNvPUwLh5"
      },
      "source": [
        "### Алгоритм обучения"
      ]
    },
    {
      "cell_type": "markdown",
      "metadata": {
        "id": "PX0lAI8RwLh6"
      },
      "source": [
        "Если дана $(X, Y)$ - обучающая выборка, то задача - найти веса и смещение $(W, b)$ для каждого парцептрона из слоя. \n",
        "Алгоритм работает за заданное $N$ количество шагов, или пока веса не перестанут меняться.\n",
        "\n",
        "1. Инициализация весов и смещения случайным образом. Номер шага $k = 0$.\n",
        "\n",
        "\n",
        "2. Пока веса изменяются и $k < N$:\n",
        "    - Для каждого поданного на вход значения $p_i \\in X, \\; \\forall i: 0 \\leq i < |X|$:\n",
        "    \n",
        "        * Если: $y_i (p_i \\cdot W + b) < 0$, cчитаем ошибку $e = y_i - (p_i \\cdot W + b)$ меняем веса:\n",
        "        \n",
        "        $$W = W + e*p_i$$\n",
        "        $$b = b +e$$\n",
        "        \n",
        "        \n",
        "3. Полученные  веса и смещения - результат обучения."
      ]
    },
    {
      "cell_type": "markdown",
      "metadata": {
        "id": "KYId0BTXwLh9"
      },
      "source": [
        "### Реализация сети"
      ]
    },
    {
      "cell_type": "markdown",
      "metadata": {
        "id": "1DdhFehYwLh-"
      },
      "source": [
        "При обучении добавим к тренировочным данным еденичный столбец для смещения."
      ]
    },
    {
      "cell_type": "code",
      "metadata": {
        "id": "KQv809vgwLh_"
      },
      "source": [
        "import random\n",
        "import numpy as np\n",
        "import matplotlib.pyplot as plt\n",
        "from tqdm import tqdm"
      ],
      "execution_count": 1,
      "outputs": []
    },
    {
      "cell_type": "code",
      "metadata": {
        "id": "UmZGDs9wwLiD"
      },
      "source": [
        "class RosenblattLayer:\n",
        "    def __init__(self, steps = 50, early_stop = False):\n",
        "        self.steps = steps\n",
        "        self.w = None\n",
        "        self.negative_is_zero = False\n",
        "        self.early_stop = early_stop\n",
        "    \n",
        "    def fit(self, X, y):\n",
        "        # add column for bias and transpose data for comphort operations:\n",
        "        X_t = np.append(X, np.ones((1, X.shape[1])), axis = 0).T\n",
        "        y_t = np.array(y.T)\n",
        "        \n",
        "        if (y_t == 0).sum():\n",
        "            self.negative_is_zero = True\n",
        "            y_t[y_t == 0] = -1\n",
        "\n",
        "        #init weights\n",
        "        if self.w is None:\n",
        "            self.w = np.random.random((X_t.shape[1], y_t.shape[1]))\n",
        "        \n",
        "        # main loop\n",
        "        \n",
        "        for step in tqdm(range(self.steps)):\n",
        "            stop = True\n",
        "            for i in range(X_t.shape[0]):\n",
        "                # compute error of all perceptrons\n",
        "                predict = X_t[i].dot(self.w)\n",
        "                if np.sum(predict*y_t[i] < 0):\n",
        "                    stop = False\n",
        "                    e = y_t[i] - X_t[i].dot(self.w)\n",
        "                    e[predict*y_t[i] >= 0] = 0.0\n",
        "                    self.w += X_t[i].reshape(X_t.shape[1], 1).dot(e.reshape(1, y_t.shape[1]))\n",
        "            if stop and self.early_stop:\n",
        "                break\n",
        "                \n",
        "        return self\n",
        "    \n",
        "    def set_steps(self, steps):\n",
        "        self.steps = steps\n",
        "        \n",
        "    def set_early_stop(self, stop):\n",
        "        self.early_stop = stop\n",
        "    \n",
        "    # Predict answers\n",
        "    def predict(self, X):\n",
        "        X_t = np.append(X, np.ones((1, X.shape[1])), axis = 0).T\n",
        "        return X_t.dot(self.w).T\n",
        "    \n",
        "    def predict_classes(self, X):\n",
        "        X_t = np.append(X, np.ones((1, X.shape[1])), axis = 0).T\n",
        "        ans = X_t.dot(self.w)\n",
        "        a_t =  ans < 0\n",
        "        if self.negative_is_zero:\n",
        "            ans[a_t] = 0\n",
        "        else:\n",
        "            ans[a_t] = -1\n",
        "        ans[np.logical_not(a_t)] = 1\n",
        "        return ans.T\n",
        "    \n",
        "    def display(self):\n",
        "        ans = \" Input(n,\" + str(self.w.shape[0] - 1) + \")  -->  \"\n",
        "        ans += \"Rosenblat Perceptrons(\" + str(self.w.shape[1]) + \")  -->  \"\n",
        "        ans += \"Output(n, \" + str(self.w.shape[1]) + \")\"\n",
        "        return ans\n",
        "    \n",
        "    def weights(self):\n",
        "        return self.w[:-1]\n",
        "    \n",
        "    def bias(self):\n",
        "        return self.w[-1]\n",
        "        \n",
        "    \n",
        "    # MAE\n",
        "    def score(self, X, y):\n",
        "        X_t = np.append(X, np.ones((1, X.shape[1])), axis = 0).T\n",
        "        y_t = np.array(y.T)\n",
        "        y_t[y_t == 0] = -1\n",
        "        return np.abs(y_t - X_t.dot(self.w)).mean()"
      ],
      "execution_count": 2,
      "outputs": []
    },
    {
      "cell_type": "markdown",
      "metadata": {
        "id": "PdBQvrNqwLiK"
      },
      "source": [
        "### Решение"
      ]
    },
    {
      "cell_type": "markdown",
      "metadata": {
        "id": "wfnuq5oowLiL"
      },
      "source": [
        "***Задание №1***"
      ]
    },
    {
      "cell_type": "markdown",
      "metadata": {
        "id": "WiFpbEpawLiL"
      },
      "source": [
        "Данные:"
      ]
    },
    {
      "cell_type": "code",
      "metadata": {
        "id": "IVMn5kpawLiM"
      },
      "source": [
        "P = np.array([\n",
        "    [2.7, -3.8, -0.4, -1.7, 2.9, 0.2],\n",
        "    [4.3, 0.6, -4.9, -3.4, -1.9, -3.4]\n",
        "])\n",
        "\n",
        "T = np.array([[0, 0, 1, 1, 1, 1]])"
      ],
      "execution_count": 3,
      "outputs": []
    },
    {
      "cell_type": "markdown",
      "metadata": {
        "id": "5tiw77KHwLiM"
      },
      "source": [
        "Инициализируем модель и посмотрим архитектуру:"
      ]
    },
    {
      "cell_type": "code",
      "metadata": {
        "colab": {
          "base_uri": "https://localhost:8080/"
        },
        "id": "rADF2WcawLiN",
        "outputId": "41319cf6-b614-49ff-9106-4159251e9efa"
      },
      "source": [
        "model = RosenblattLayer(0).fit(P, T)\n",
        "print(model.display())"
      ],
      "execution_count": 4,
      "outputs": [
        {
          "output_type": "stream",
          "name": "stderr",
          "text": [
            "0it [00:00, ?it/s]"
          ]
        },
        {
          "output_type": "stream",
          "name": "stdout",
          "text": [
            " Input(n,2)  -->  Rosenblat Perceptrons(1)  -->  Output(n, 1)\n"
          ]
        },
        {
          "output_type": "stream",
          "name": "stderr",
          "text": [
            "\n"
          ]
        }
      ]
    },
    {
      "cell_type": "markdown",
      "metadata": {
        "id": "AxbbZhs1wLiP"
      },
      "source": [
        "Построение графика по весам модели:"
      ]
    },
    {
      "cell_type": "code",
      "metadata": {
        "id": "-hH-NkhSwLiQ"
      },
      "source": [
        "def plot_line(weights, bias):\n",
        "    x = list(np.arange(-5, 5, 0.01))\n",
        "    for i in range(bias.shape[0]):\n",
        "        w = weights[:, i].ravel()\n",
        "        b = bias[i]\n",
        "        y = list(map(lambda t: (-w[0]/w[1])*t - b/w[1], x))\n",
        "        plt.plot(x, y, label=\"Перцептрон №\" + str(i+1))"
      ],
      "execution_count": 5,
      "outputs": []
    },
    {
      "cell_type": "code",
      "metadata": {
        "colab": {
          "base_uri": "https://localhost:8080/",
          "height": 531
        },
        "id": "6JhCSIFiwLiQ",
        "outputId": "9695cef9-980d-471e-9e16-4373e74059f5"
      },
      "source": [
        "plt.figure(figsize=(15, 8))\n",
        "plot_line(model.weights(), model.bias())\n",
        "plt.scatter(P.T[T.ravel() == 0].T[0], P.T[T.ravel() == 0].T[1], label=\"Класс 1\")\n",
        "plt.scatter(P.T[T.ravel() == 1].T[0], P.T[T.ravel() == 1].T[1], label=\"Класс 2\")\n",
        "plt.title(\"Разделение случайными значениями\")\n",
        "plt.xlabel(\"x1\")\n",
        "plt.ylabel(\"x2\")\n",
        "plt.grid()\n",
        "plt.legend()"
      ],
      "execution_count": 6,
      "outputs": [
        {
          "output_type": "execute_result",
          "data": {
            "text/plain": [
              "<matplotlib.legend.Legend at 0x7f9eaeaac590>"
            ]
          },
          "metadata": {},
          "execution_count": 6
        },
        {
          "output_type": "display_data",
          "data": {
            "image/png": "[encoded data removed]",
            "text/plain": [
              "<Figure size 1080x576 with 1 Axes>"
            ]
          },
          "metadata": {
            "needs_background": "light"
          }
        }
      ]
    },
    {
      "cell_type": "markdown",
      "metadata": {
        "id": "X8JkST01wLiR"
      },
      "source": [
        "Обучим модель на 50 эпох:"
      ]
    },
    {
      "cell_type": "code",
      "metadata": {
        "colab": {
          "base_uri": "https://localhost:8080/"
        },
        "id": "zvL4ROzcwLiS",
        "outputId": "0a903d8e-eb9f-4a83-f3d5-45cb53f439ee"
      },
      "source": [
        "model.set_steps(50)\n",
        "model.set_early_stop(True)\n",
        "model.fit(P, T)"
      ],
      "execution_count": 7,
      "outputs": [
        {
          "output_type": "stream",
          "name": "stderr",
          "text": [
            "  2%|▏         | 1/50 [00:00<00:00, 1266.01it/s]\n"
          ]
        },
        {
          "output_type": "execute_result",
          "data": {
            "text/plain": [
              "<__main__.RosenblattLayer at 0x7f9eaecb77d0>"
            ]
          },
          "metadata": {},
          "execution_count": 7
        }
      ]
    },
    {
      "cell_type": "markdown",
      "metadata": {
        "id": "sXm-0l7xwLiS"
      },
      "source": [
        "Результат обучения:"
      ]
    },
    {
      "cell_type": "code",
      "metadata": {
        "colab": {
          "base_uri": "https://localhost:8080/",
          "height": 531
        },
        "id": "7yloV9MNwLiS",
        "outputId": "cd4522fc-526f-4ab7-d390-ac7acf6ea20e"
      },
      "source": [
        "plt.figure(figsize=(15, 8))\n",
        "plot_line(model.weights(), model.bias())\n",
        "plt.scatter(P.T[T.ravel() == 0].T[0], P.T[T.ravel() == 0].T[1], label=\"Класс 1\")\n",
        "plt.scatter(P.T[T.ravel() == 1].T[0], P.T[T.ravel() == 1].T[1], label=\"Класс 2\")\n",
        "x = np.random.randint(-5, 4, 3) + np.random.random(3)\n",
        "y = np.random.randint(-5, 4, 3) + np.random.random(3)\n",
        "plt.scatter(x, y, color=\"red\", label=\"3 случайные точки\")\n",
        "plt.xlabel(\"x1\")\n",
        "plt.ylabel(\"x2\")\n",
        "\n",
        "plt.title(\"Разделение выборки обученным перцептроном\")\n",
        "plt.grid()\n",
        "plt.legend()"
      ],
      "execution_count": 8,
      "outputs": [
        {
          "output_type": "execute_result",
          "data": {
            "text/plain": [
              "<matplotlib.legend.Legend at 0x7f9eae54c750>"
            ]
          },
          "metadata": {},
          "execution_count": 8
        },
        {
          "output_type": "display_data",
          "data": {
            "image/png": "[encoded data removed]",
            "text/plain": [
              "<Figure size 1080x576 with 1 Axes>"
            ]
          },
          "metadata": {
            "needs_background": "light"
          }
        }
      ]
    },
    {
      "cell_type": "code",
      "metadata": {
        "colab": {
          "base_uri": "https://localhost:8080/"
        },
        "id": "Q9cv2oL9wLiT",
        "outputId": "94752fc8-2bb1-490e-855b-7c0863444c43"
      },
      "source": [
        "test = np.append(x.reshape(1, 3), y.reshape(1, 3), axis=0)\n",
        "print(\"Test Data:\")\n",
        "print(test)\n",
        "print(\"Predict:\")\n",
        "print(model.predict_classes(test))"
      ],
      "execution_count": 9,
      "outputs": [
        {
          "output_type": "stream",
          "name": "stdout",
          "text": [
            "Test Data:\n",
            "[[ 0.32279564 -1.80453877  3.24492738]\n",
            " [-0.63238154 -0.4657158  -1.79242583]]\n",
            "Predict:\n",
            "[[1. 1. 1.]]\n"
          ]
        }
      ]
    },
    {
      "cell_type": "markdown",
      "metadata": {
        "id": "0fIKb7M2wLiU"
      },
      "source": [
        "*Выход* модели на тренировочных данных:"
      ]
    },
    {
      "cell_type": "code",
      "metadata": {
        "colab": {
          "base_uri": "https://localhost:8080/"
        },
        "id": "5bECwYQhwLiU",
        "outputId": "7461c315-a6d3-442e-923e-6b0acaed95b7"
      },
      "source": [
        "model.predict(P) ## result of net func"
      ],
      "execution_count": 10,
      "outputs": [
        {
          "output_type": "execute_result",
          "data": {
            "text/plain": [
              "array([[-1051.93234527,   -21.39283768,  1209.6902827 ,   882.52363172,\n",
              "          419.48976568,   838.7697828 ]])"
            ]
          },
          "metadata": {},
          "execution_count": 10
        }
      ]
    },
    {
      "cell_type": "markdown",
      "metadata": {
        "id": "zjN4i5-KwLiU"
      },
      "source": [
        "Полученные классы:"
      ]
    },
    {
      "cell_type": "code",
      "metadata": {
        "colab": {
          "base_uri": "https://localhost:8080/"
        },
        "id": "xeVmVF9BwLiV",
        "outputId": "1904aec4-3a4d-4b53-b3b1-54ec34f3d2b1"
      },
      "source": [
        "model.predict_classes(P)"
      ],
      "execution_count": 11,
      "outputs": [
        {
          "output_type": "execute_result",
          "data": {
            "text/plain": [
              "array([[0., 0., 1., 1., 1., 1.]])"
            ]
          },
          "metadata": {},
          "execution_count": 11
        }
      ]
    },
    {
      "cell_type": "markdown",
      "metadata": {
        "id": "b_TfSkVZwLiV"
      },
      "source": [
        "$MAE = \\displaystyle\\frac{\\sum\\limits_{i = 1}^{N}|t_i - a_i|}{N}$"
      ]
    },
    {
      "cell_type": "code",
      "metadata": {
        "colab": {
          "base_uri": "https://localhost:8080/"
        },
        "id": "Rfc_aSA5wLiW",
        "outputId": "187c86cb-549a-4fc8-8f9e-54373b26a6ec"
      },
      "source": [
        "model.score(P, T)"
      ],
      "execution_count": 12,
      "outputs": [
        {
          "output_type": "execute_result",
          "data": {
            "text/plain": [
              "736.299774308469"
            ]
          },
          "metadata": {},
          "execution_count": 12
        }
      ]
    },
    {
      "cell_type": "markdown",
      "metadata": {
        "id": "6P2ATwJ-wLiW"
      },
      "source": [
        "Коэффиценты и смещения:"
      ]
    },
    {
      "cell_type": "code",
      "metadata": {
        "colab": {
          "base_uri": "https://localhost:8080/"
        },
        "id": "li3VMXCnwLiW",
        "outputId": "a59ff9b0-edee-4d5f-e898-af5090d612d4"
      },
      "source": [
        "print(\"Веса:\")\n",
        "print(model.weights())\n",
        "print(\"Смещения:\")\n",
        "print(model.bias())"
      ],
      "execution_count": 13,
      "outputs": [
        {
          "output_type": "stream",
          "name": "stdout",
          "text": [
            "Веса:\n",
            "[[ -23.02834153]\n",
            " [-238.06899665]]\n",
            "Смещения:\n",
            "[33.94086248]\n"
          ]
        }
      ]
    },
    {
      "cell_type": "markdown",
      "metadata": {
        "id": "j27sXtmXwLiX"
      },
      "source": [
        "***Задание №2***"
      ]
    },
    {
      "cell_type": "markdown",
      "metadata": {
        "id": "VV5FpXhiwLiX"
      },
      "source": [
        "Сделаем выборку неразделимой:"
      ]
    },
    {
      "cell_type": "code",
      "metadata": {
        "id": "aommxsq9wLiY"
      },
      "source": [
        "P = np.append(P, np.array([[0.2], [3.4]]), axis=1)\n",
        "T = np.append(T, np.array([[1]]), axis=1)"
      ],
      "execution_count": 14,
      "outputs": []
    },
    {
      "cell_type": "markdown",
      "metadata": {
        "id": "D8fBsMIlwLiY"
      },
      "source": [
        "Как видим обучение прошло все шаги:"
      ]
    },
    {
      "cell_type": "code",
      "metadata": {
        "colab": {
          "base_uri": "https://localhost:8080/"
        },
        "id": "dfxLD3PKwLiZ",
        "outputId": "7171ba14-16f9-46a0-efec-3aa781422deb"
      },
      "source": [
        "model = RosenblattLayer(50, True)\n",
        "model.fit(P, T)"
      ],
      "execution_count": 15,
      "outputs": [
        {
          "output_type": "stream",
          "name": "stderr",
          "text": [
            "100%|██████████| 50/50 [00:00<00:00, 5187.25it/s]\n"
          ]
        },
        {
          "output_type": "execute_result",
          "data": {
            "text/plain": [
              "<__main__.RosenblattLayer at 0x7f9eae4ab6d0>"
            ]
          },
          "metadata": {},
          "execution_count": 15
        }
      ]
    },
    {
      "cell_type": "markdown",
      "metadata": {
        "id": "T63wQZ7kwLia"
      },
      "source": [
        "Резултат обучения:"
      ]
    },
    {
      "cell_type": "code",
      "metadata": {
        "colab": {
          "base_uri": "https://localhost:8080/",
          "height": 531
        },
        "id": "3l9fNNsdwLia",
        "outputId": "543a62fe-538a-451c-afe3-8a987546b584"
      },
      "source": [
        "plt.figure(figsize=(15, 8))\n",
        "plot_line(model.weights(), model.bias())\n",
        "plt.scatter(P.T[T.ravel() == 0].T[0], P.T[T.ravel() == 0].T[1], label=\"Класс 1\")\n",
        "plt.scatter(P.T[T.ravel() == 1].T[0], P.T[T.ravel() == 1].T[1], label=\"Класс 2\")\n",
        "plt.xlabel(\"x1\")\n",
        "plt.ylabel(\"x2\")\n",
        "\n",
        "plt.title(\"Разделение неразделимой выборки одним перцептроном\")\n",
        "plt.grid()\n",
        "plt.legend()"
      ],
      "execution_count": 16,
      "outputs": [
        {
          "output_type": "execute_result",
          "data": {
            "text/plain": [
              "<matplotlib.legend.Legend at 0x7f9eae474090>"
            ]
          },
          "metadata": {},
          "execution_count": 16
        },
        {
          "output_type": "display_data",
          "data": {
            "image/png": "[encoded data removed]",
            "text/plain": [
              "<Figure size 1080x576 with 1 Axes>"
            ]
          },
          "metadata": {
            "needs_background": "light"
          }
        }
      ]
    },
    {
      "cell_type": "markdown",
      "metadata": {
        "id": "lL6pr5vmwLib"
      },
      "source": [
        "Как видим, модель допускает ошибки:"
      ]
    },
    {
      "cell_type": "code",
      "metadata": {
        "colab": {
          "base_uri": "https://localhost:8080/"
        },
        "id": "yCew2D48wLib",
        "outputId": "75c10008-a383-4436-a97b-845cb0fcc94e"
      },
      "source": [
        "model.predict_classes(P) == T"
      ],
      "execution_count": 17,
      "outputs": [
        {
          "output_type": "execute_result",
          "data": {
            "text/plain": [
              "array([[False, False, False, False, False, False,  True]])"
            ]
          },
          "metadata": {},
          "execution_count": 17
        }
      ]
    },
    {
      "cell_type": "markdown",
      "metadata": {
        "id": "2piUM13FwLib"
      },
      "source": [
        "***Задание №3***"
      ]
    },
    {
      "cell_type": "markdown",
      "metadata": {
        "id": "t9cfQgtywLic"
      },
      "source": [
        "Данные:"
      ]
    },
    {
      "cell_type": "code",
      "metadata": {
        "id": "U_97oV-HwLic"
      },
      "source": [
        "P = np.array([\n",
        "    [-1.5, 4.6, 4.7, 1.6, 1.7, 1.2, -4.9, 4.7],\n",
        "    [-0.6, -4.6, -3.2, 0.8, -1.4, 3.1, -4.2, 1.5]\n",
        "])\n",
        "\n",
        "T = np.array([\n",
        "    [0, 0, 0, 1, 0, 1, 0, 1],\n",
        "    [0, 1, 1, 0, 0, 0, 1, 1]\n",
        "])"
      ],
      "execution_count": 24,
      "outputs": []
    },
    {
      "cell_type": "markdown",
      "metadata": {
        "id": "DWJieA9lwLid"
      },
      "source": [
        "Модель и ее структура:"
      ]
    },
    {
      "cell_type": "code",
      "metadata": {
        "colab": {
          "base_uri": "https://localhost:8080/"
        },
        "id": "Xl59W8c3wLie",
        "outputId": "88ea2b7a-52ec-4184-cfa4-890c89b0be8b"
      },
      "source": [
        "model = RosenblattLayer(0).fit(P, T)\n",
        "print(model.display())"
      ],
      "execution_count": 25,
      "outputs": [
        {
          "output_type": "stream",
          "name": "stderr",
          "text": [
            "0it [00:00, ?it/s]"
          ]
        },
        {
          "output_type": "stream",
          "name": "stdout",
          "text": [
            " Input(n,2)  -->  Rosenblat Perceptrons(2)  -->  Output(n, 2)\n"
          ]
        },
        {
          "output_type": "stream",
          "name": "stderr",
          "text": [
            "\n"
          ]
        }
      ]
    },
    {
      "cell_type": "code",
      "metadata": {
        "colab": {
          "base_uri": "https://localhost:8080/"
        },
        "id": "-KHNkz6WwLie",
        "outputId": "a7dff7d3-0270-4ba1-ba49-3378abcea50a"
      },
      "source": [
        "import numpy as np\n",
        "np.seterr(divide='ignore', invalid='ignore')\n",
        "\n",
        "model.set_steps(50)\n",
        "model.set_early_stop(True)\n",
        "model.fit(P, T)"
      ],
      "execution_count": 26,
      "outputs": [
        {
          "output_type": "stream",
          "name": "stderr",
          "text": [
            "100%|██████████| 50/50 [00:00<00:00, 5056.91it/s]\n"
          ]
        },
        {
          "output_type": "execute_result",
          "data": {
            "text/plain": [
              "<__main__.RosenblattLayer at 0x7f9eae44f550>"
            ]
          },
          "metadata": {},
          "execution_count": 26
        }
      ]
    },
    {
      "cell_type": "markdown",
      "metadata": {
        "id": "AGugTcukwLie"
      },
      "source": [
        "Посмотрим на разделение:"
      ]
    },
    {
      "cell_type": "code",
      "metadata": {
        "colab": {
          "base_uri": "https://localhost:8080/",
          "height": 531
        },
        "id": "8dNnJxmUwLif",
        "outputId": "42194367-7875-42f1-cc52-56e8257d4a49"
      },
      "source": [
        "plt.figure(figsize=(15, 8))\n",
        "plot_line(model.weights(), model.bias())\n",
        "plt.scatter(\n",
        "    P.T[(T[0] == 0) & (T[1] == 0)].T[0], \n",
        "    P.T[(T[0] == 0) & (T[1] == 0)].T[1], \n",
        "    label=\"Класс 1\"\n",
        ")\n",
        "plt.scatter(\n",
        "    P.T[(T[0] == 0) & (T[1] == 1)].T[0], \n",
        "    P.T[(T[0] == 0) & (T[1] == 1)].T[1], \n",
        "    label=\"Класс 2\"\n",
        ")\n",
        "plt.scatter(\n",
        "    P.T[(T[0] == 1) & (T[1] == 0)].T[0], \n",
        "    P.T[(T[0] == 1) & (T[1] == 0)].T[1], \n",
        "    label=\"Класс 3\"\n",
        ")\n",
        "plt.scatter(\n",
        "    P.T[(T[0] == 1) & (T[1] == 1)].T[0], \n",
        "    P.T[(T[0] == 1) & (T[1] == 1)].T[1], \n",
        "    label=\"Класс 4\"\n",
        ")\n",
        "\n",
        "x = np.random.randint(-5, 4, 5) + np.random.random(5)\n",
        "y = np.random.randint(-5, 4, 5) + np.random.random(5)\n",
        "\n",
        "plt.xlabel(\"x1\")\n",
        "plt.ylabel(\"x2\")\n",
        "plt.scatter(x, y, color=\"yellow\", label=\"5 случайных точек\")\n",
        "\n",
        "plt.title(\"Разделение 2-мя обученными перцептронами\")\n",
        "plt.grid()\n",
        "plt.legend()"
      ],
      "execution_count": 27,
      "outputs": [
        {
          "output_type": "execute_result",
          "data": {
            "text/plain": [
              "<matplotlib.legend.Legend at 0x7f9eae3290d0>"
            ]
          },
          "metadata": {},
          "execution_count": 27
        },
        {
          "output_type": "display_data",
          "data": {
            "image/png": "[encoded data removed]",
            "text/plain": [
              "<Figure size 1080x576 with 1 Axes>"
            ]
          },
          "metadata": {
            "needs_background": "light"
          }
        }
      ]
    },
    {
      "cell_type": "code",
      "metadata": {
        "colab": {
          "base_uri": "https://localhost:8080/"
        },
        "id": "tkjg86hFwLig",
        "outputId": "21b561a0-93cb-44cb-a559-6e4ce14abcb6"
      },
      "source": [
        "test = np.append(x.reshape(1, 5), y.reshape(1, 5), axis=0)\n",
        "print(\"Test Data:\")\n",
        "print(test)\n",
        "print(\"Predict:\")\n",
        "print(model.predict_classes(test))"
      ],
      "execution_count": 28,
      "outputs": [
        {
          "output_type": "stream",
          "name": "stdout",
          "text": [
            "Test Data:\n",
            "[[ 0.43262775 -0.34340912  0.7484183   1.26079776  0.82410727]\n",
            " [ 3.88910826  2.26368772  2.17143204 -4.06897181 -1.37720121]]\n",
            "Predict:\n",
            "[[1. 1. 1. 0. 0.]\n",
            " [1. 1. 1. 1. 1.]]\n"
          ]
        }
      ]
    },
    {
      "cell_type": "code",
      "metadata": {
        "colab": {
          "base_uri": "https://localhost:8080/"
        },
        "id": "PtsImHn9wLig",
        "outputId": "723c8734-5aa2-4a04-8cfa-e3b18998e5ee"
      },
      "source": [
        "print(\"Веса:\")\n",
        "print(model.weights())\n",
        "print(\"Смещения:\")\n",
        "print(model.bias())"
      ],
      "execution_count": 29,
      "outputs": [
        {
          "output_type": "stream",
          "name": "stdout",
          "text": [
            "Веса:\n",
            "[[6.78928959e+00 7.00305513e+91]\n",
            " [1.95760726e+01 2.17117716e+91]]\n",
            "Смещения:\n",
            "[8.67319022e+00 1.34449309e+91]\n"
          ]
        }
      ]
    }
  ]
}