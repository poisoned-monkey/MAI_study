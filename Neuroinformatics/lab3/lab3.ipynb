{
  "nbformat": 4,
  "nbformat_minor": 0,
  "metadata": {
    "kernelspec": {
      "display_name": "Python 3",
      "language": "python",
      "name": "python3"
    },
    "language_info": {
      "codemirror_mode": {
        "name": "ipython",
        "version": 3
      },
      "file_extension": ".py",
      "mimetype": "text/x-python",
      "name": "python",
      "nbconvert_exporter": "python",
      "pygments_lexer": "ipython3",
      "version": "3.6.9"
    },
    "colab": {
      "name": "lab3.ipynb",
      "provenance": []
    }
  },
  "cells": [
    {
      "cell_type": "markdown",
      "metadata": {
        "id": "Jrbm_4sTDmGO"
      },
      "source": [
        "##### Кузьмичев Александр Николаевич\n",
        "##### М8О-406Б-18"
      ]
    },
    {
      "cell_type": "markdown",
      "metadata": {
        "id": "TBAQX8scDmGR"
      },
      "source": [
        "<h1><center> Многослойные сети. Алгоритм обратного распространения ошибки </center></h1>"
      ]
    },
    {
      "cell_type": "markdown",
      "metadata": {
        "id": "FW4fogUmDmGS"
      },
      "source": [
        "**Целью работы** является исследование свойств многослойной нейронной сети прямого распространения и алгоритмов ее обучения, применение сети в задачах классификации и аппроксимации функции."
      ]
    },
    {
      "cell_type": "code",
      "metadata": {
        "id": "fkfbn-Q_DmGT"
      },
      "source": [
        "import random\n",
        "import numpy as np\n",
        "from numpy.random import permutation\n",
        "import matplotlib.pyplot as plt\n",
        "from tqdm import tqdm\n",
        "import math"
      ],
      "execution_count": null,
      "outputs": []
    },
    {
      "cell_type": "markdown",
      "metadata": {
        "id": "SNZxr-q6DmGT"
      },
      "source": [
        "**Вариант №12:** \n",
        "\n",
        "*Этап №1:*\n",
        "\n",
        "Эллипс: $a = 0.4, b = 0.15, \\alpha = \\frac{\\pi}{6}, x_0 = 0, y_0 = 0$\n",
        "\n",
        "Эллипс: $a = 0.7, b = 0.5, \\alpha = -\\frac{\\pi}{3}, x_0 = 0, y_0 = 0$\n",
        "\n",
        "Эллипс: $a = 1, b = 1, \\alpha = 0, x_0 = 0, y_0 = 0$\n",
        "\n",
        "`Метод Resilient propagation.`\n",
        "\n",
        "*Этап №2-3:*\n",
        "\n",
        "$$x = \\cos{(−3t^2 + 5t + 10)} , \\; t \\in [0, 2.5], h = 0.01$$\n",
        "\n",
        "`Метод градиентного спуска` и `метод, предложенный Бройденом, Флетчером, Гольдфарбом и Шанно.`"
      ]
    },
    {
      "cell_type": "code",
      "metadata": {
        "id": "jKBesJYKDmGU"
      },
      "source": [
        "# input data here\n",
        "# etap #1\n",
        "a1 = 0.4\n",
        "b1 = 0.15\n",
        "alpha1 = math.pi / 6\n",
        "\n",
        "a2 = 0.7\n",
        "b2 = 0.5\n",
        "alpha2 = -math.pi / 3\n",
        "\n",
        "a3 = 1.0\n",
        "b3 = 1.0\n",
        "alpha3 = 0.0\n",
        "\n",
        "# etap #2\n",
        "interval = (0, 3.5)\n",
        "step_h = 0.01"
      ],
      "execution_count": null,
      "outputs": []
    },
    {
      "cell_type": "code",
      "metadata": {
        "id": "wgS-sbFmDmGU"
      },
      "source": [
        "def elipsis(a, b):\n",
        "    const_start = 0.0\n",
        "    const_end = np.pi+np.pi # 2pi\n",
        "    const_step = 0.025\n",
        "    gen = np.arange(const_start, const_end, const_step)\n",
        "    x = list(map(lambda t: a*np.cos(t), gen))\n",
        "    y = list(map(lambda t: b*np.sin(t), gen))\n",
        "    \n",
        "    return np.array(x), np.array(y)"
      ],
      "execution_count": null,
      "outputs": []
    },
    {
      "cell_type": "code",
      "metadata": {
        "id": "fiazYE0VDmGU"
      },
      "source": [
        "def rotate_coords(x0, y0, alpha):\n",
        "    gen = zip(x0, y0)\n",
        "    func = lambda xy: (\n",
        "        np.cos(alpha)*xy[0] - np.sin(alpha)*xy[1],\n",
        "        np.sin(alpha)*xy[0] + np.cos(alpha)*xy[1]\n",
        "    )\n",
        "    transform = map(func, gen)\n",
        "    result = tuple(map(np.array, zip(*transform)))\n",
        "    \n",
        "    return result[0], result[1]"
      ],
      "execution_count": null,
      "outputs": []
    },
    {
      "cell_type": "code",
      "metadata": {
        "id": "xF7FMlilDmGV"
      },
      "source": [
        "def func_t(t):\n",
        "    return np.sin(np.sin(t)*t*t + 5*t)"
      ],
      "execution_count": null,
      "outputs": []
    },
    {
      "cell_type": "markdown",
      "metadata": {
        "id": "JHqDi7KWDmGV"
      },
      "source": [
        "### Описание"
      ]
    },
    {
      "cell_type": "markdown",
      "metadata": {
        "id": "pYNrFptLDmGV"
      },
      "source": [
        "Классическая глубокая нейронная сеть прямого распространения состоит из нескольких последовательно идущих слоев, таких что выход $i$-го слоя является входом $i+1$-го слоя."
      ]
    },
    {
      "cell_type": "markdown",
      "metadata": {
        "id": "3j6Tkpw7DmGW"
      },
      "source": [
        "<img src=\"https://pvsmt99345.i.lithium.com/t5/image/serverpage/image-id/42339i8BA3F2CCCEDE7458/image-size/large?v=1.0&px=999\">"
      ]
    },
    {
      "cell_type": "markdown",
      "metadata": {
        "id": "zuAhhp1nDmGW"
      },
      "source": [
        "Каждый такой слой состоит из набора из заданного количества нейронов, где каждый нейрон имеет следующий вид:\n",
        "\n",
        "<img src=\"https://www.researchgate.net/profile/Yuri_Gordienko/publication/318489183/figure/fig2/AS:538721193402369@1505452549773/The-Role-of-Activation-Function-in-the-Process-of-Learning-Neural-Net-6.png\">"
      ]
    },
    {
      "cell_type": "markdown",
      "metadata": {
        "id": "wLzZRchaDmGW"
      },
      "source": [
        "Далее будем обозначать *transfer function* $j$-го нейрона как $s_j$, а функцию активации как $o_j$."
      ]
    },
    {
      "cell_type": "markdown",
      "metadata": {
        "id": "bMZ33luJDmGW"
      },
      "source": [
        "### Алгоритм обучения"
      ]
    },
    {
      "cell_type": "markdown",
      "metadata": {
        "id": "Mgd6t8jiDmGW"
      },
      "source": [
        "**Методика обучения нейронных слоев**"
      ]
    },
    {
      "cell_type": "markdown",
      "metadata": {
        "id": "Lt6S_KSkDmGX"
      },
      "source": [
        "Для обучения линейного слоя используются градиентные оптимизационные методы поиска минимума, реализующие различные оптимизации *классического градиентного спуска*. Пусть дана функция ошибки $L(o_j)$ и функция её градиента $\\displaystyle\\frac{\\partial L(o_j)}{\\partial w_{ij}}$ по значениям весов $w_{ij}$ слоя, где $o_j$ - выход сети на $j$-ом нейроне. Тогда веса слоя обновляются иттерационно в сторону сходимости по описанным ниже формулам, в зависимости от используемого метода, до срабатывания критерия остановки (например, выполнения заданного количества шагов)."
      ]
    },
    {
      "cell_type": "markdown",
      "metadata": {
        "id": "K8AdinLyDmGX"
      },
      "source": [
        "\n",
        "**Gradient Descent**\n",
        "\n",
        "Иттерационный шаг:\n",
        "\n",
        "$w^{k+1} = w^{k} - \\alpha \\displaystyle\\frac{\\partial L(o_j)}{\\partial w^k},$\n",
        "\n",
        "где $\\alpha$ - темп обучения, который можно задать константным для каждой итерации."
      ]
    },
    {
      "cell_type": "markdown",
      "metadata": {
        "id": "kRp77PdhDmGY"
      },
      "source": [
        "**Resilient Propagation**\n",
        "\n",
        "Для любого веса $\\forall w_{ij}$ в нейронной сети иттерационый шаг расчитывается по следующему алгоритму: \n",
        "\n",
        "$\\Delta_{ij}^{k} = \\displaystyle\\left\\{    {\\eta^+\\,\\Delta_{ij}^{k},\\,\\displaystyle\\frac{\\partial L}{\\partial w^k_{ij}}\\,\\frac{\\partial L}{\\partial w^{k-1}_{ij}}\\,>\\,0}    \\atop{\\eta^-\\,\\Delta_{ij}^{k},\\,\\displaystyle\\frac{\\partial L}{\\partial w^k_{ij}}\\,\\frac{\\partial L}{\\partial w^{k-1}_{ij}}\\,<\\,0}\\right\\}$\n",
        "\n",
        "$=>$\n",
        "\n",
        "$\\Delta\\,w_{ij}^k\\,= \\displaystyle\\begin{Bmatrix}\n",
        "{-\\,\\Delta _{ij}^{(t)},\\,\\displaystyle\\frac{\\partial\\,L}{\\partial\\,w^k_{ij}} \\,>\\,0}  \\\\\n",
        "{+\\,\\Delta _{ij}^{(t)},\\,\\displaystyle\\frac{\\partial\\,L}{\\partial\\,w^k_{ij}} \\,<\\,0} \\\\\n",
        "{0,\\,\\displaystyle\\frac{\\partial\\,L}{\\partial\\,w^k_{ij}}\\,=\\,0}\n",
        "\\end{Bmatrix}$\n",
        "\n",
        "$=>$\n",
        "\n",
        "$w^{k+1}_{ij} = w_{ij}^k + \\Delta w_{ij}^k$, \n",
        "\n",
        "Здесь параметры $\\eta^+$, $\\eta^-$ задаются до начала обучения и влияют на степень изменения темпа обучения в зависимости от изменения знака производной."
      ]
    },
    {
      "cell_type": "markdown",
      "metadata": {
        "id": "mP-BkWg2DmGY"
      },
      "source": [
        "**BFGS**\n",
        "\n",
        "Иттерационный шаг расчитывается в несколько шагов по следующим формулам:\n",
        "\n",
        " $y_k = \\nabla L_{k+1} - \\nabla L_{k}$\n",
        "\n",
        " $s_k = L_{k+1} - L_{k}$\n",
        "\n",
        " ${\\displaystyle \\rho _{k}={\\frac {1}{y_{k}^{T}s_{k}}}}$\n",
        "\n",
        " ${\\displaystyle C_{k+1}=(I-\\rho _{k}s_{k}y_{k}^{T})C_{k}(I-\\rho _{k}y_{k}s_{k}^{T})+\\rho _{k}s_{k}s_{k}^{T},}$\n",
        "\n",
        " $p_{k}=-C_k\\nabla f(x_{k}).$\n",
        " \n",
        " \n",
        "$w^{k+1} = w^{k} + \\alpha^k p_k,$\n",
        "\n",
        "где $\\alpha^k$ - темп обучения, который следует подбирать линейным поиском для каждой иттерации, но в данной реализации задается константным для всех иттераций."
      ]
    },
    {
      "cell_type": "markdown",
      "metadata": {
        "id": "ATXPA4kLDmGZ"
      },
      "source": [
        "    "
      ]
    },
    {
      "cell_type": "markdown",
      "metadata": {
        "id": "5T5Q3HmaDmGZ"
      },
      "source": [
        " **Вычисление градиентов**"
      ]
    },
    {
      "cell_type": "markdown",
      "metadata": {
        "id": "_uvzlUUTDmGZ"
      },
      "source": [
        "Градиент выходного слоя вычисляется явно по значению функции ошибки и его функции активации. Однако возникает проблема расчета значений градиента во внутренних слоях нейронной сети. Для решения этой проблемы используется **алгоритм обратного распространиения ошибки**, в котором градиент ошибки $\\displaystyle\\frac{\\partial L(o_j)}{w_{ij}}$  на $j$-ом слое расчитывается по следующей формуле: \n",
        "\n",
        "$$\\displaystyle\\frac{\\partial L(o_j)}{w_{ij}} = \\displaystyle\\frac{\\partial L(o_j)}{o_j} \\displaystyle\\frac{\\partial o_j}{s_{j}} x_i$$\n",
        "\n",
        "Далее будем обозначать $\\displaystyle\\frac{\\partial L(o_j)}{o_j} \\displaystyle\\frac{\\partial o_j}{s_{j}} = \\delta_j$.\n",
        "\n",
        "При этом значение $\\displaystyle\\frac{\\partial L(o_j)}{o_j}$ определяется, как сказано выше, явно только на последнем, выходном  слое, когда как во внутренних слоях он зависит от значений градиента о вперед-идущих слоях согласно следующей формуле:\n",
        "\n",
        "$$\\displaystyle\\frac{\\partial L(o_j)}{o_j} = \\sum\\limits_{k = 1}^{m} w_{jk} \\displaystyle\\frac{\\partial L(o_k)}{o_k} \\displaystyle\\frac{\\partial o_k}{s_{k}} =  \\sum\\limits_{k = 1}^{m} w_{jk} \\delta_k$$\n",
        "\n",
        "Таким образом мы получили рекуррентную формулу для последовательного расчета значений градиентов на внутренних слоях начиная с выходного слоя. Именно эту формулу градиента мы будем использовать в итерационных алгоритмах оптимизации для нахождения минимума."
      ]
    },
    {
      "cell_type": "markdown",
      "metadata": {
        "id": "CpvbkzfHDmGZ"
      },
      "source": [
        "### Реализация сети"
      ]
    },
    {
      "cell_type": "markdown",
      "metadata": {
        "id": "DY4V27kaDmGa"
      },
      "source": [
        "**Функции активации:**"
      ]
    },
    {
      "cell_type": "markdown",
      "metadata": {
        "id": "1YzZWet3DmGa"
      },
      "source": [
        "*Общая схема:*"
      ]
    },
    {
      "cell_type": "code",
      "metadata": {
        "id": "XbhWGqXYDmGa"
      },
      "source": [
        "class ActivationFunction:\n",
        "    def __init__(self):\n",
        "        pass\n",
        "    \n",
        "    def grad(self, X):\n",
        "        pass\n",
        "    \n",
        "    def __call__(self, X):\n",
        "        pass"
      ],
      "execution_count": null,
      "outputs": []
    },
    {
      "cell_type": "markdown",
      "metadata": {
        "id": "VbisRWxMDmGa"
      },
      "source": [
        "*Линейная функция активации:*"
      ]
    },
    {
      "cell_type": "code",
      "metadata": {
        "id": "r_O7RfC1DmGa"
      },
      "source": [
        "class Purelin(ActivationFunction):\n",
        "    def __call__(self, x):\n",
        "        return x\n",
        "    \n",
        "    def grad(self, x):\n",
        "        return 1.0"
      ],
      "execution_count": null,
      "outputs": []
    },
    {
      "cell_type": "markdown",
      "metadata": {
        "id": "KDLTPL0zDmGa"
      },
      "source": [
        "*Гиперболический тангенс:*"
      ]
    },
    {
      "cell_type": "code",
      "metadata": {
        "id": "mm7BYRSrDmGb"
      },
      "source": [
        "class Tansig(ActivationFunction):\n",
        "    def __call__(self, x):\n",
        "        return np.tanh(x)\n",
        "    \n",
        "    def grad(self, x):\n",
        "        return 1.0 - self(x)**2.0"
      ],
      "execution_count": null,
      "outputs": []
    },
    {
      "cell_type": "code",
      "metadata": {
        "id": "v3I9hnriDmGb"
      },
      "source": [
        "class Sigmoid(ActivationFunction):\n",
        "    def __call__(self, x):\n",
        "        ans = np.zeros(x.shape)\n",
        "        mask = x < 0\n",
        "        ans[mask] = np.exp(x[mask]) / (1.0 + np.exp(x[mask]))\n",
        "        mask = x >= 0\n",
        "        ans[mask] = 1.0 / (1.0 + np.exp(-x[mask]))\n",
        "        return ans\n",
        "    \n",
        "    def grad(self, x):\n",
        "        sigm = self(x)\n",
        "        return sigm*(1.0 - sigm)"
      ],
      "execution_count": null,
      "outputs": []
    },
    {
      "cell_type": "markdown",
      "metadata": {
        "id": "sqUefZYrDmGb"
      },
      "source": [
        "**Методы оптимизации:**"
      ]
    },
    {
      "cell_type": "markdown",
      "metadata": {
        "id": "j15cfAn1DmGb"
      },
      "source": [
        "*Общая схема:*"
      ]
    },
    {
      "cell_type": "code",
      "metadata": {
        "id": "Yq_NGkaIDmGb"
      },
      "source": [
        "class OptimizeSolver:\n",
        "    def __init__(self):\n",
        "        self.graph = None\n",
        "        \n",
        "    def set_network(self, network):\n",
        "        self.graph = network\n",
        "        \n",
        "    \n",
        "    def __call__(self):\n",
        "        pass"
      ],
      "execution_count": null,
      "outputs": []
    },
    {
      "cell_type": "markdown",
      "metadata": {
        "id": "PZB8F9P0DmGb"
      },
      "source": [
        "*Градиентный спуск:*"
      ]
    },
    {
      "cell_type": "code",
      "metadata": {
        "id": "l3I_ed56DmGc"
      },
      "source": [
        "class GradientDescent(OptimizeSolver):\n",
        "    def __init__(self, learn_rate=0.001):\n",
        "        super().__init__()\n",
        "        self.lr = learn_rate\n",
        "        \n",
        "    def __call__(self):\n",
        "        for layer in self.graph:\n",
        "            layer.W -= self.lr*layer.grad_W"
      ],
      "execution_count": null,
      "outputs": []
    },
    {
      "cell_type": "markdown",
      "metadata": {
        "id": "VVrggUAODmGc"
      },
      "source": [
        "*Метод гибкого распространения:*"
      ]
    },
    {
      "cell_type": "code",
      "metadata": {
        "id": "5OcGF6j2DmGc"
      },
      "source": [
        "class RProp(OptimizeSolver):\n",
        "    def __init__(self, inf = 1e-6, sup = 50.0, n_neg=0.5, n_pos=1.2):\n",
        "        super().__init__()\n",
        "        self.last_grads = []\n",
        "        self.last_deltas = []\n",
        "        self.inf = inf\n",
        "        self.sup = sup\n",
        "        self.n_neg = n_neg\n",
        "        self.n_pos = n_pos\n",
        "        \n",
        "    def set_network(self, network):\n",
        "        super().set_network(network)\n",
        "        # init last layers\n",
        "        for layer in self.graph:\n",
        "            self.last_grads.append(np.ones(layer.W.shape))\n",
        "            self.last_deltas.append(np.random.random(layer.W.shape))\n",
        "            \n",
        "    def data_generator(self):\n",
        "        return zip(self.graph, self.last_grads, self.last_deltas)\n",
        "            \n",
        "            \n",
        "    def __call__(self):\n",
        "        for layer, l_g, l_delta in self.data_generator():\n",
        "            # compute new delta value inplace old value\n",
        "            temp = l_delta[layer.grad_W*l_g > 0]\n",
        "            l_delta[layer.grad_W*l_g > 0] = np.minimum(self.sup, temp*self.n_pos)\n",
        "            temp = l_delta[layer.grad_W*l_g < 0]\n",
        "            l_delta[layer.grad_W*l_g < 0] = np.maximum(self.inf, temp*self.n_neg)\n",
        "            # update weights\n",
        "            layer.W -= l_delta*np.sign(layer.grad_W)\n",
        "            # update old gradient data with new values\n",
        "            l_g[True] = layer.grad_W"
      ],
      "execution_count": null,
      "outputs": []
    },
    {
      "cell_type": "markdown",
      "metadata": {
        "id": "jl29TZwbDmGc"
      },
      "source": [
        "*Квазиньютоновский метод, предложенный Бройденом, Флетчером, Гольдфарбом и Шанно:*"
      ]
    },
    {
      "cell_type": "code",
      "metadata": {
        "id": "Oa1pUCNXDmGc"
      },
      "source": [
        "class BFGS(OptimizeSolver):\n",
        "    def __init__(self, learn_rate=0.001):\n",
        "        super().__init__()\n",
        "        self.last_H = None\n",
        "        self.last_g = None\n",
        "        self.last_W = None\n",
        "        self.lr = learn_rate\n",
        "        \n",
        "    def set_network(self, network):\n",
        "        super().set_network(network)\n",
        "        self.set_weights()\n",
        "        \n",
        "    #init last values as zeros\n",
        "    def set_weights(self):\n",
        "        i = 0\n",
        "        for layer in self.graph:\n",
        "            i += layer.W.ravel().shape[0]\n",
        "        \n",
        "        self.last_W = np.random.random(i)\n",
        "        self.last_g = np.zeros(i)\n",
        "        self.last_H = np.eye(i)\n",
        "    \n",
        "    def __call__(self):\n",
        "        grad_W = np.zeros(self.last_g.shape[0])\n",
        "        W = np.zeros(self.last_W.shape[0])\n",
        "        # store all weights in one matrix:\n",
        "        n = 0\n",
        "        for layer in self.graph:\n",
        "            grad_W[n:n + layer.grad_W.ravel().shape[0]] = layer.grad_W.ravel()\n",
        "            W[n:n + layer.W.ravel().shape[0]] = layer.W.ravel()\n",
        "            n +=  layer.grad_W.ravel().shape[0]\n",
        "        # g(k) - g(k - 1)\n",
        "        y = grad_W - self.last_g\n",
        "        # x(k) - x(k - 1)\n",
        "        s = W - self.last_W\n",
        "        \n",
        "        p = 1.0/(y.dot(s))\n",
        "        \n",
        "        y = y.reshape(1, n)\n",
        "        s = s.reshape(1, n)\n",
        "        # compute H(k)\n",
        "        H = (np.eye(n) - p*s.reshape(n, 1).dot(y))\n",
        "        H = H.dot(self.last_H)\n",
        "        H = H.dot(np.eye(n) - p*y.reshape(n, 1).dot(s))\n",
        "        H += p*s.reshape(n, 1).dot(s)\n",
        "        # update last values \n",
        "        self.last_H = H\n",
        "        self.last_g = grad_W\n",
        "        self.last_W = W\n",
        "        # update weights vector\n",
        "        orr = -self.lr * H.dot(grad_W.reshape(n, 1)).ravel()\n",
        "        W = self.last_W + orr\n",
        "        # update weights in layers\n",
        "        n = 0\n",
        "        for layer in self.graph:\n",
        "            layer.W = W[n:n + layer.W.ravel().shape[0]].reshape(layer.W.shape)\n",
        "            n += layer.W.ravel().shape[0]"
      ],
      "execution_count": null,
      "outputs": []
    },
    {
      "cell_type": "markdown",
      "metadata": {
        "id": "_t9-_dPaDmGd"
      },
      "source": [
        "<span style=\"color:green\"> *BFGS* реализован без подбора длины шага на каждой иттерации. Также, метод вычислительно неэффективен. Реализовано исключительно в академических целях. **Использовать не рекомендуется!**</span>"
      ]
    },
    {
      "cell_type": "markdown",
      "metadata": {
        "id": "Z74erDq0DmGd"
      },
      "source": [
        "**Выходной слой**"
      ]
    },
    {
      "cell_type": "markdown",
      "metadata": {
        "id": "0xdWvPmwDmGd"
      },
      "source": [
        "*Общая схема*"
      ]
    },
    {
      "cell_type": "code",
      "metadata": {
        "id": "h-re7-cvDmGe"
      },
      "source": [
        "class OutputLayer:\n",
        "    def __init__(self):\n",
        "        pass\n",
        "    \n",
        "    def __call__(self, X):\n",
        "        pass\n",
        "    \n",
        "    def loss_grad(self, X, Y):\n",
        "        pass\n",
        "    \n",
        "    def loss(self, X, Y):\n",
        "        pass\n",
        "    \n",
        "    def classify_task(self, X):\n",
        "        pass"
      ],
      "execution_count": null,
      "outputs": []
    },
    {
      "cell_type": "markdown",
      "metadata": {
        "id": "PyJNn_acDmGe"
      },
      "source": [
        "*Для задач классификации с **Softmax** выходом и **кросс-энтропией** в качестве функции потерь*"
      ]
    },
    {
      "cell_type": "code",
      "metadata": {
        "id": "DnquWhzTDmGe"
      },
      "source": [
        "class Softmax_with_CrossEntropy(OutputLayer): \n",
        "    def __call__(self, X):\n",
        "        ans = np.exp(X)\n",
        "        ans /= ans.sum(axis = 1).reshape(ans.shape[0], 1)\n",
        "        return ans\n",
        "    \n",
        "    def loss(self, Y_out, Y_real):\n",
        "        # loss - (log(q_i)*y_i).sum\n",
        "        # we will take mean error for n examples\n",
        "        return (-Y_real*np.log(Y_out)).sum(axis=1).mean()\n",
        "    \n",
        "    def loss_grad(self, Y_out, Y_real):\n",
        "        return (Y_out - Y_real)\n",
        "    \n",
        "    def classify(self, X):\n",
        "        return (X == X.max(axis=1)[:,None]).astype(np.int8)\n",
        "    \n",
        "    def classify_task(self, X):\n",
        "        return (X  >= 0.5).astype(np.int8)"
      ],
      "execution_count": null,
      "outputs": []
    },
    {
      "cell_type": "markdown",
      "metadata": {
        "id": "CLrZRxBvDmGe"
      },
      "source": [
        "*Для задач регрессии с линейным выходом и **среднеквадратичной** функцией потерь*"
      ]
    },
    {
      "cell_type": "code",
      "metadata": {
        "id": "EvWi_ZDbDmGe"
      },
      "source": [
        "class Linear_with_MSE(OutputLayer):\n",
        "    def __call__(self, X):\n",
        "        # nothing to change\n",
        "        return np.copy(X)\n",
        "    \n",
        "    def loss(self, Y_out, Y_real):\n",
        "        # we will take mean error for all axes \n",
        "        return ((Y_out - Y_real)**2.0).mean()\n",
        "    \n",
        "    def loss_grad(self, Y_out, Y_real):\n",
        "        return (Y_out - Y_real)\n",
        "    \n",
        "    def classify_task(self, X):\n",
        "        return (X  >= 0.5).astype(np.int8)"
      ],
      "execution_count": null,
      "outputs": []
    },
    {
      "cell_type": "markdown",
      "metadata": {
        "id": "oEqz7wE3DmGf"
      },
      "source": [
        "**Нейронный слой**"
      ]
    },
    {
      "cell_type": "markdown",
      "metadata": {
        "id": "2cZjIuciDmGf"
      },
      "source": [
        "*Полносвязный слой*"
      ]
    },
    {
      "cell_type": "code",
      "metadata": {
        "id": "tCsfJLfZDmGf"
      },
      "source": [
        "# Fully conncted Layer with biases\n",
        "class FullyConnectedLayer:\n",
        "    def __init__(self, neuros = 64, activation = Sigmoid()):\n",
        "        self.W = None\n",
        "        self.X = None\n",
        "        self.S = None\n",
        "        self.activ_f = activation\n",
        "        self.grad_W = None # current gradient for training\n",
        "        self.neuros = neuros\n",
        "    \n",
        "    # weights initializer\n",
        "    @staticmethod\n",
        "    def weights_random_init(shape, limits):\n",
        "        mult = limits[1] - limits[0]\n",
        "        return np.random.random(shape)*mult + limits[0]\n",
        "    \n",
        "    # w_diap - diapazon of weights in init, solver - gradient method\n",
        "    def compilation(self, prev_neuros, w_diap = (-5, 5)):\n",
        "        # init weight  by random (+ 1 for bias)\n",
        "        self.W = self.weights_random_init((prev_neuros + 1, self.neuros), w_diap)\n",
        "        \n",
        "        \n",
        "    # forward step - just multiply matrix and store result\n",
        "    def forward_step(self, X):\n",
        "        # add column of ones for bias weights\n",
        "        self.X = np.append(X, np.ones((X.shape[0], 1)), axis = 1)\n",
        "        # compute net(X) function\n",
        "        self.S = self.X.dot(self.W)\n",
        "        # output - activation(net(X))\n",
        "        return self.activ_f(self.S)\n",
        "    \n",
        "    # backward step - computes gradients of loss by each weights\n",
        "    def backward_step(self, L_grad):\n",
        "        L_grad *= self.activ_f.grad(self.S) # gradient from next layer\n",
        "        next_grad = L_grad.dot(self.W[:-1].T) # gradient for next layer\n",
        "        self.grad_W = np.zeros(self.W.shape) # init grad by (m, k) of 0.0\n",
        "        # (dL/dw) - sum (avg) by all input data\n",
        "        for i in range(self.X.shape[0]):\n",
        "            # X[i] - (1, m), (dL/ds) - (1, k) =>\n",
        "            # we need dot (m, 1) on (1, k) for get gradient by all weights of (m, k)\n",
        "            self.grad_W += \\\n",
        "                self.X[i].reshape(\n",
        "                    self.X.shape[1], 1\n",
        "                ).dot(L_grad[i].reshape(1, L_grad.shape[1]))\n",
        "        # self.opt_method(d_w) # update weights with some gradient optimize method\n",
        "        return next_grad # return grad by funtion of next layer (dL/df)\n",
        "    \n",
        "    # Magic methods:\n",
        "    def __str__(self):\n",
        "        return \"FullyConnected({})\".format(self.neuros)\n",
        "    \n",
        "    def __repr__(self):\n",
        "        return self.__str__()\n",
        "    \n",
        "    def __call__(self, X):\n",
        "        return self.forward_step(X)"
      ],
      "execution_count": null,
      "outputs": []
    },
    {
      "cell_type": "markdown",
      "metadata": {
        "id": "1JwVWnrFDmGf"
      },
      "source": [
        "#### Нейронная сеть:"
      ]
    },
    {
      "cell_type": "code",
      "metadata": {
        "id": "KRxDGu6EDmGg"
      },
      "source": [
        "class NeuralNetwork:\n",
        "    def __init__(self):\n",
        "        self.graph = []\n",
        "        self.solver = None\n",
        "        self.output = None\n",
        "    \n",
        "    #  add layer to model\n",
        "    def add(self, layer):\n",
        "        self.graph.append(layer)\n",
        "    \n",
        "    # compile sequential network\n",
        "    def compilation(self, solver, out_layer, data_dim):\n",
        "        # data_dim - dimention of input vectors\n",
        "        prev_neuros = data_dim\n",
        "        # for each layer define Weights\n",
        "        for layer in self.graph:\n",
        "            layer.compilation(prev_neuros)\n",
        "            prev_neuros = layer.neuros\n",
        "        # set loss funstion with solver\n",
        "        self.output = out_layer\n",
        "        solver.set_network(self.graph) #init solver data\n",
        "        self.solver = solver # set solver\n",
        "    \n",
        "    # train network\n",
        "    def fit(self, X, Y, X_val=None, Y_val=None, steps=600, batch_size=1):\n",
        "        hist = []\n",
        "        # compute history if validation data exist\n",
        "        if X_val is None and Y_val is None:\n",
        "            hist = None \n",
        "        # reshape Y\n",
        "        if len(Y.shape) == 1:\n",
        "            Y = np.reshape(Y, (Y.shape[0], 1))\n",
        "        # itterative weights updating\n",
        "        for _ in tqdm(range(steps)):\n",
        "            # for each batch in data do pass train pass in model\n",
        "            for i in range(0, X.shape[0] - batch_size + 1, batch_size):\n",
        "                # extract batch (X, Y)\n",
        "                X_pass = X[i: i + batch_size]\n",
        "                Y_pass = Y[i: i + batch_size]\n",
        "                # do forward pass which compute intermideate values for update\n",
        "                Y_out = self.forward_pass(X_pass)\n",
        "                # compute gradient of last output\n",
        "                Y_grad = self.output.loss_grad(Y_out, Y_pass)\n",
        "                # compuite gradients for each layer in graph\n",
        "                self.backward_pass(Y_grad)\n",
        "                # solver has graph, call will update weights of layers\n",
        "                self.solver()\n",
        "            # append val loss to history if exist\n",
        "            if hist is not None:\n",
        "                hist.append(self.loss(X_val, Y_val))\n",
        "        # return history of train\n",
        "        return hist\n",
        "    \n",
        "    # forward pass - just matrix mults from start to end\n",
        "    def forward_pass(self, X_pass):\n",
        "        X_pass = np.copy(X_pass)\n",
        "        for layer in self.graph:\n",
        "            X_pass = layer(X_pass)\n",
        "        \n",
        "        return self.output(X_pass)\n",
        "    \n",
        "    # backward pass - backdirection move, which computes derivatives for layers\n",
        "    def backward_pass(self, Y_grad):\n",
        "        # getback direction\n",
        "        back_direction = reversed(self.graph)\n",
        "        for layer in back_direction:\n",
        "            # compute gradient for next layer\n",
        "            Y_grad = layer.backward_step(Y_grad)\n",
        "            \n",
        "    def classify(self, X):\n",
        "        return self.output.classify(self(X))\n",
        "    \n",
        "    def classify_task(self, X):\n",
        "        return self.output.classify_task(self(X))\n",
        "    \n",
        "    def loss(self, X, Y):\n",
        "        return self.output.loss(self(X), Y)\n",
        "            \n",
        "    def __call__(self, X):\n",
        "        if len(X.shape) == 1:\n",
        "            X = X.reshape(1, X.shape[0])\n",
        "        return self.forward_pass(X)\n",
        "    \n",
        "    def __str__(self):\n",
        "        return \"Neural Network\"\n",
        "    \n",
        "    def __repr__(self):\n",
        "        return self.__str__()"
      ],
      "execution_count": null,
      "outputs": []
    },
    {
      "cell_type": "markdown",
      "metadata": {
        "id": "go_Pn3amDmGg"
      },
      "source": [
        "### Решение"
      ]
    },
    {
      "cell_type": "markdown",
      "metadata": {
        "id": "uiaXMKSVDmGg"
      },
      "source": [
        "***Этап №1***"
      ]
    },
    {
      "cell_type": "markdown",
      "metadata": {
        "id": "6sYeqglZDmGg"
      },
      "source": [
        "Сгенерируем входную последовательность на основе заднного интервала и шага, а также перемешаем её:"
      ]
    },
    {
      "cell_type": "code",
      "metadata": {
        "id": "QGPsV8ExDmGh"
      },
      "source": [
        "def gen_line(a, b, alpha):\n",
        "    points = rotate_coords(*elipsis(a, b), alpha)\n",
        "    x = np.reshape(points[0], (points[0].shape[0], 1))\n",
        "    y = np.reshape(points[1], (points[1].shape[0], 1))\n",
        "    return np.hstack((x, y))\n",
        "\n",
        "def create_dataset_classify(*args):\n",
        "    tmp = np.zeros(len(args))\n",
        "    tmp[0] = 1.0\n",
        "    X = args[0]\n",
        "    Y = np.zeros((X.shape[0], len(args)))\n",
        "    Y[:] = tmp\n",
        "    for i in range(1, len(args)):\n",
        "        tmp[i - 1], tmp[i] = 0.0, 1.0\n",
        "        X_cls = args[i]\n",
        "        Y_cls = np.zeros((X_cls.shape[0], len(args)))\n",
        "        Y_cls[:] = tmp\n",
        "        X = np.append(X, X_cls, axis=0)\n",
        "        Y = np.append(Y, Y_cls, axis=0)\n",
        "    permut = permutation(len(X))\n",
        "    return X[permut], Y[permut]\n",
        "\n",
        "def assimetric_dataset_classify(data, nums):\n",
        "    tmp = np.zeros(len(data))\n",
        "    tmp[0] = 1.0\n",
        "    permut = permutation(data[0].shape[0])[:nums[0]]\n",
        "    X = data[0][permut]\n",
        "    Y = np.zeros((len(permut), len(data)))\n",
        "    Y[:] = tmp\n",
        "    for i in range(1, len(data)):\n",
        "        tmp[i - 1], tmp[i] = 0.0, 1.0\n",
        "        permut = permutation(data[i].shape[0])[:nums[i]]\n",
        "        X_cls = data[i][permut]\n",
        "        Y_cls = np.zeros((len(permut), len(data)))\n",
        "        Y_cls[:] = tmp\n",
        "        X = np.append(X, X_cls, axis=0)\n",
        "        Y = np.append(Y, Y_cls, axis=0)\n",
        "    permut = permutation(len(X))\n",
        "    return X[permut], Y[permut]"
      ],
      "execution_count": null,
      "outputs": []
    },
    {
      "cell_type": "code",
      "metadata": {
        "id": "SoH2P8IiDmGh"
      },
      "source": [
        "cls1 = gen_line(a1, b1, alpha1)\n",
        "cls2 = gen_line(a2, b2, alpha2)\n",
        "cls3 = gen_line(a3, b3, alpha3)\n",
        "X, Y = assimetric_dataset_classify((cls1, cls2, cls3), (60, 100, 120))"
      ],
      "execution_count": null,
      "outputs": []
    },
    {
      "cell_type": "markdown",
      "metadata": {
        "id": "a4WUqrjhDmGh"
      },
      "source": [
        "Разделим множество на обучающее, контрольное, тестовое:"
      ]
    },
    {
      "cell_type": "code",
      "metadata": {
        "id": "ztDTe3KgDmGh"
      },
      "source": [
        "train_p = 0.7\n",
        "valid_p = 0.2\n",
        "test_p = 0.1"
      ],
      "execution_count": null,
      "outputs": []
    },
    {
      "cell_type": "code",
      "metadata": {
        "id": "PzEeiOpMDmGh"
      },
      "source": [
        "size_train = int(train_p * X.shape[0])\n",
        "bound_valid = size_train + int(valid_p * X.shape[0])\n",
        "\n",
        "X_train, Y_train = X[:size_train], Y[:size_train]\n",
        "X_valid, Y_valid = X[size_train:bound_valid], Y[size_train:bound_valid]\n",
        "X_test, Y_test = X[bound_valid:], Y[bound_valid:]"
      ],
      "execution_count": null,
      "outputs": []
    },
    {
      "cell_type": "markdown",
      "metadata": {
        "id": "a2r06oBcDmGh"
      },
      "source": [
        "Функция для отрисовки данных:"
      ]
    },
    {
      "cell_type": "code",
      "metadata": {
        "id": "_rLy7UQGDmGi"
      },
      "source": [
        "def plot_data(set_X, set_Y):\n",
        "    plt.figure(figsize=(16, 10))\n",
        "    tmp_x = list(set_X)\n",
        "    tmp_y = list(set_Y)\n",
        "    markers = ['.', 's', '^']\n",
        "    texts = [\"Train\", \"Test\", \"Validation\"]\n",
        "\n",
        "    for x, y, m, t in zip(tmp_x, tmp_y, markers, texts):\n",
        "        x_1 = x[y[:, 0] == 1]\n",
        "        x_2 = x[y[:, 1] == 1]\n",
        "        x_3 = x[y[:, 2] == 1]\n",
        "        plt.scatter(x_1.T[0], x_1.T[1], marker=m, color='b', linewidths=2, label=t)\n",
        "        plt.scatter(x_2.T[0], x_2.T[1], marker=m, color='g', linewidths=2)   \n",
        "        plt.scatter(x_3.T[0], x_3.T[1], marker=m, color='r', linewidths=2) \n",
        "        \n",
        "    plt.legend()\n",
        "    plt.title(\"Данные\")"
      ],
      "execution_count": null,
      "outputs": []
    },
    {
      "cell_type": "markdown",
      "metadata": {
        "id": "_O5X1PRgDmGi"
      },
      "source": [
        "Отрисуем полученные множества:"
      ]
    },
    {
      "cell_type": "code",
      "metadata": {
        "id": "q5ST3GEFDmGi",
        "outputId": "712766f7-5fb6-4251-c877-0be3bfb20c2b"
      },
      "source": [
        "plot_data([X_train, X_test, X_valid], [Y_train, Y_test, Y_valid])"
      ],
      "execution_count": null,
      "outputs": [
        {
          "data": {
            "image/png": "[encoded data removed]",
            "text/plain": [
              "<Figure size 1152x720 with 1 Axes>"
            ]
          },
          "metadata": {
            "needs_background": "light"
          },
          "output_type": "display_data"
        }
      ]
    },
    {
      "cell_type": "markdown",
      "metadata": {
        "id": "DFbIAJRHDmGj"
      },
      "source": [
        "Функция для отрисовки классификации на тестовых данных:"
      ]
    },
    {
      "cell_type": "code",
      "metadata": {
        "id": "Au_H3KB5DmGj"
      },
      "source": [
        "def plot_test_classify(X, Y, X_test, Y_out):\n",
        "    plt.figure(figsize=(15, 9))\n",
        "\n",
        "    x_1 = X_test[Y_out[:, 0] == 1]\n",
        "    x_2 = X_test[Y_out[:, 1] == 1]\n",
        "    x_3 = X_test[Y_out[:, 2] == 1]\n",
        "    x_4 = X_test[(Y_out[:, 0] == 0) & (Y_out[:, 1] == 0) & (Y_out[:, 2] == 0)]\n",
        "    plt.scatter(x_1.T[0], x_1.T[1], color='b', linewidths=2, label=\"Predicted\")\n",
        "    plt.scatter(x_2.T[0], x_2.T[1], color='g', linewidths=2)   \n",
        "    plt.scatter(x_3.T[0], x_3.T[1], color='r', linewidths=2)\n",
        "    plt.scatter(x_4.T[0], x_4.T[1], marker='^', color='black', linewidths=2, label=\"Not predicted\")\n",
        "\n",
        "\n",
        "    x_1 = X[Y[:, 0] == 1]\n",
        "    x_2 = X[Y[:, 1] == 1]\n",
        "    x_3 = X[Y[:, 2] == 1]\n",
        "    plt.scatter(x_1.T[0], x_1.T[1], color='b', s=2, label=\"Real\")\n",
        "    plt.scatter(x_2.T[0], x_2.T[1], color='g', s=2)   \n",
        "    plt.scatter(x_3.T[0], x_3.T[1], color='r', s=2) \n",
        "\n",
        "    plt.legend()\n",
        "    plt.title(\"Результат классификации\")"
      ],
      "execution_count": null,
      "outputs": []
    },
    {
      "cell_type": "markdown",
      "metadata": {
        "id": "IDOozQZLDmGj"
      },
      "source": [
        "Функция отрисовки процесса обучения по шагам:"
      ]
    },
    {
      "cell_type": "code",
      "metadata": {
        "id": "8JNCJyYZDmGj"
      },
      "source": [
        "def plot_history(hist):\n",
        "    plt.figure(figsize=(15, 7))\n",
        "    plt.plot(np.arange(len(hist)), hist, label=\"Validation error\")\n",
        "    plt.xlabel(\"step\")\n",
        "    plt.ylabel(\"MSE\")\n",
        "    plt.title(\"Функция потерь при обучении\")\n",
        "    plt.grid()\n",
        "    plt.legend()"
      ],
      "execution_count": null,
      "outputs": []
    },
    {
      "cell_type": "markdown",
      "metadata": {
        "id": "Zw6CtNkGDmGj"
      },
      "source": [
        "Функция классификации и отрисовки результата на заданном прямоуголькнике с 3 классами:\n"
      ]
    },
    {
      "cell_type": "code",
      "metadata": {
        "id": "cMK14utrDmGk"
      },
      "source": [
        "def classify_square3(model_func, a1, b1, a2, b2, step=0.025):\n",
        "    X_paint = np.array([[a1, a2]]).reshape((1, 2))\n",
        "\n",
        "    # init data\n",
        "    for i in np.arange(a1, b1, step):\n",
        "        for j in np.arange(a2, b2, step):\n",
        "            X_paint = np.append(X_paint, np.array([[i, j]]), axis=0)\n",
        "\n",
        "    Y_paint = model_func(X_paint)\n",
        "\n",
        "    color1 = 'black'\n",
        "    x1 = X_paint[(Y_paint[:, 0] == 0) & (Y_paint[:, 1] == 0) & (Y_paint[:, 2] == 0)]\n",
        "\n",
        "    color2 = 'r'\n",
        "    x2 = X_paint[(Y_paint[:, 0] == 0) & (Y_paint[:, 1] == 0) & (Y_paint[:, 2] == 1)]\n",
        "\n",
        "    color3 = 'g'\n",
        "    x3 = X_paint[(Y_paint[:, 0] == 0) & (Y_paint[:, 1] == 1) & (Y_paint[:, 2] == 0)]\n",
        "\n",
        "    color4 = 'b'\n",
        "    x4 = X_paint[(Y_paint[:, 0] == 1) & (Y_paint[:, 1] == 0) & (Y_paint[:, 2] == 0)]\n",
        "\n",
        "    color5 = 'orange'\n",
        "    x5 = X_paint[(Y_paint[:, 0] == 0) & (Y_paint[:, 1] == 1) & (Y_paint[:, 2] == 1)]\n",
        "\n",
        "    color6 = 'yellow'\n",
        "    x6 = X_paint[(Y_paint[:, 0] == 1) & (Y_paint[:, 1] == 1) & (Y_paint[:, 2] == 0)]\n",
        "\n",
        "    color7 = 'pink'\n",
        "    x7 = X_paint[(Y_paint[:, 0] == 1) & (Y_paint[:, 1] == 0) & (Y_paint[:, 2] == 1)]\n",
        "\n",
        "    plt.figure(figsize=(12, 8))\n",
        "    plt.scatter(x1.T[0], x1.T[1], marker='s', color=color1)\n",
        "    plt.scatter(x2.T[0], x2.T[1], marker='s', color=color2)\n",
        "    plt.scatter(x3.T[0], x3.T[1], marker='s', color=color3)\n",
        "    plt.scatter(x4.T[0], x4.T[1], marker='s', color=color4)\n",
        "    plt.scatter(x5.T[0], x5.T[1], marker='s', color=color5)\n",
        "    plt.scatter(x6.T[0], x6.T[1], marker='s', color=color6)\n",
        "    plt.scatter(x7.T[0], x7.T[1], marker='s', color=color7)\n",
        "    plt.title(\"Классификация заданной области на 3 класса\")"
      ],
      "execution_count": null,
      "outputs": []
    },
    {
      "cell_type": "markdown",
      "metadata": {
        "id": "6I7xi4nVDmGk"
      },
      "source": [
        "***Вариант №1:***"
      ]
    },
    {
      "cell_type": "markdown",
      "metadata": {
        "id": "hU73Tb6dDmGk"
      },
      "source": [
        "Создадим и скомпилируем нейронную сеть из 2-ух слоев с оптимизатором *Resilient Propogation* и обучим ее классифицировать объекты на тренировочных данных. Выход сети - *Sigmoid*, функция потерь - *MSE*."
      ]
    },
    {
      "cell_type": "code",
      "metadata": {
        "id": "ugfb__jKDmGk",
        "outputId": "313db6a1-40a0-4ac3-aaed-d06edb18ddb8"
      },
      "source": [
        "model = NeuralNetwork()\n",
        "model.add(FullyConnectedLayer(neuros=20, activation=Sigmoid()))\n",
        "model.add(FullyConnectedLayer(neuros=3, activation=Sigmoid()))\n",
        "\n",
        "model.compilation(solver=RProp(), out_layer=Linear_with_MSE(), data_dim=2)\n",
        "hist = model.fit(X_train, Y_train, X_valid, Y_valid, 40, X_train.shape[0])"
      ],
      "execution_count": null,
      "outputs": [
        {
          "name": "stderr",
          "output_type": "stream",
          "text": [
            "100%|██████████| 40/40 [00:00<00:00, 433.99it/s]\n"
          ]
        }
      ]
    },
    {
      "cell_type": "markdown",
      "metadata": {
        "id": "nbrPYmK_DmGk"
      },
      "source": [
        "Отобразим процесс обучения:"
      ]
    },
    {
      "cell_type": "code",
      "metadata": {
        "id": "xn8nCMnUDmGk",
        "outputId": "cb5baf94-9201-415f-9420-64362a551ac2"
      },
      "source": [
        "plot_history(hist)"
      ],
      "execution_count": null,
      "outputs": [
        {
          "data": {
            "image/png": "[encoded data removed]",
            "text/plain": [
              "<Figure size 1080x504 with 1 Axes>"
            ]
          },
          "metadata": {
            "needs_background": "light"
          },
          "output_type": "display_data"
        }
      ]
    },
    {
      "cell_type": "markdown",
      "metadata": {
        "id": "eIpLf4tjDmGl"
      },
      "source": [
        "Результат классификации на тестовых данных:"
      ]
    },
    {
      "cell_type": "code",
      "metadata": {
        "id": "YmVMU6U1DmGl",
        "outputId": "85f04a69-e81d-4e29-d01e-24c8c203f7c5"
      },
      "source": [
        "Y_out = model.classify_task(X_test)\n",
        "print(\"Ошибка на тестовой выборке:\", model.loss(X_test, Y_test))"
      ],
      "execution_count": null,
      "outputs": [
        {
          "name": "stdout",
          "output_type": "stream",
          "text": [
            "Ошибка на тестовой выборке: 0.04760350441147483\n"
          ]
        }
      ]
    },
    {
      "cell_type": "code",
      "metadata": {
        "id": "R6Jk9xdNDmGl",
        "outputId": "5e28ef67-fde9-4360-e02d-0edee060132c"
      },
      "source": [
        "plot_test_classify(X, Y, X_test, Y_out)"
      ],
      "execution_count": null,
      "outputs": [
        {
          "data": {
            "image/png": "[encoded data removed]",
            "text/plain": [
              "<Figure size 1080x648 with 1 Axes>"
            ]
          },
          "metadata": {
            "needs_background": "light"
          },
          "output_type": "display_data"
        }
      ]
    },
    {
      "cell_type": "markdown",
      "metadata": {
        "id": "-azCwDzNDmGl"
      },
      "source": [
        "Классифицируем область $[-1.2, 1.2] x [-1.2, 1.2]$ с шагом $h = 0.025$."
      ]
    },
    {
      "cell_type": "code",
      "metadata": {
        "id": "L8gim__aDmGl",
        "outputId": "f3fdb092-c148-4584-9eea-5b2f9608695a"
      },
      "source": [
        "classify_square3(model.classify_task, -1.2, 1.2, -1.2, 1.2, 0.025)"
      ],
      "execution_count": null,
      "outputs": [
        {
          "data": {
            "image/png": "[encoded data removed]",
            "text/plain": [
              "<Figure size 864x576 with 1 Axes>"
            ]
          },
          "metadata": {
            "needs_background": "light"
          },
          "output_type": "display_data"
        }
      ]
    },
    {
      "cell_type": "markdown",
      "metadata": {
        "id": "yecI1TQmDmGl"
      },
      "source": [
        "***Вариант №2:***"
      ]
    },
    {
      "cell_type": "markdown",
      "metadata": {
        "id": "XlrzayywDmGm"
      },
      "source": [
        "Создадим и скомпилируем нейронную сеть из 2-ух слоев с оптимизатором *Resilient Propogation* и обучим ее классифицировать объекты на тренировочных данных. Выход сети - *Softmax*, функция потерь - *Cross Entropy*."
      ]
    },
    {
      "cell_type": "code",
      "metadata": {
        "id": "sDPXnqr2DmGm",
        "outputId": "c19fd1d0-96a9-453b-e152-5562f1e59293"
      },
      "source": [
        "model = NeuralNetwork()\n",
        "model.add(FullyConnectedLayer(neuros=20, activation=Tansig()))\n",
        "model.add(FullyConnectedLayer(neuros=3, activation=Purelin())) # for softmax use linear output\n",
        "\n",
        "model.compilation(solver=RProp(), out_layer=Softmax_with_CrossEntropy(), data_dim=2)\n",
        "hist = model.fit(X_train, Y_train, X_valid, Y_valid, 40, X_train.shape[0])"
      ],
      "execution_count": null,
      "outputs": [
        {
          "name": "stderr",
          "output_type": "stream",
          "text": [
            "100%|██████████| 40/40 [00:00<00:00, 540.79it/s]\n"
          ]
        }
      ]
    },
    {
      "cell_type": "markdown",
      "metadata": {
        "id": "nSBPzJIjDmGm"
      },
      "source": [
        "Отобразим процесс обучения:"
      ]
    },
    {
      "cell_type": "code",
      "metadata": {
        "id": "BwblVujUDmGm",
        "outputId": "a81b7bef-a23f-4b9e-d8c1-6fd4f63dec05"
      },
      "source": [
        "plot_history(hist)"
      ],
      "execution_count": null,
      "outputs": [
        {
          "data": {
            "image/png": "[encoded data removed]",
            "text/plain": [
              "<Figure size 1080x504 with 1 Axes>"
            ]
          },
          "metadata": {
            "needs_background": "light"
          },
          "output_type": "display_data"
        }
      ]
    },
    {
      "cell_type": "markdown",
      "metadata": {
        "id": "ECYsvi9RDmGm"
      },
      "source": [
        "Результат классификации на тестовых данных:"
      ]
    },
    {
      "cell_type": "code",
      "metadata": {
        "id": "wvyrwT99DmGm",
        "outputId": "36bf7bbb-4925-4ad1-a1ec-f8a827d71907"
      },
      "source": [
        "Y_out = model.classify_task(X_test)\n",
        "print(\"Ошибка на тестовой выборке:\", model.loss(X_test, Y_test))"
      ],
      "execution_count": null,
      "outputs": [
        {
          "name": "stdout",
          "output_type": "stream",
          "text": [
            "Ошибка на тестовой выборке: 0.03547521349516663\n"
          ]
        }
      ]
    },
    {
      "cell_type": "markdown",
      "metadata": {
        "id": "g2ZkMlczDmGn"
      },
      "source": [
        "Классифицируем область $[-1.2, 1.2] x [-1.2, 1.2]$ с шагом $h = 0.025$."
      ]
    },
    {
      "cell_type": "code",
      "metadata": {
        "id": "jOsGVgPlDmGn",
        "outputId": "00c11f93-a800-4268-a679-740d323e1136"
      },
      "source": [
        "classify_square3(model.classify, -1.2, 1.2, -1.2, 1.2, 0.025)"
      ],
      "execution_count": null,
      "outputs": [
        {
          "data": {
            "image/png": "[encoded data removed]",
            "text/plain": [
              "<Figure size 864x576 with 1 Axes>"
            ]
          },
          "metadata": {
            "needs_background": "light"
          },
          "output_type": "display_data"
        }
      ]
    },
    {
      "cell_type": "markdown",
      "metadata": {
        "id": "-YdNtudzDmGn"
      },
      "source": [
        "***Этапы №2-3***"
      ]
    },
    {
      "cell_type": "markdown",
      "metadata": {
        "id": "X0mvDx2IDmGn"
      },
      "source": [
        "Сгенерируем и перемешаем входную последовательность на основе заднного интервала и шага:"
      ]
    },
    {
      "cell_type": "code",
      "metadata": {
        "id": "Cnm29th1DmGn"
      },
      "source": [
        "x = np.arange(*interval, step_h)\n",
        "y = func_t(x)\n",
        "\n",
        "permut = permutation(len(x))\n",
        "x, y = x[permut].reshape(x.shape[0], 1), y[permut].reshape(y.shape[0], 1)"
      ],
      "execution_count": null,
      "outputs": []
    },
    {
      "cell_type": "markdown",
      "metadata": {
        "id": "C_JqOCBxDmGn"
      },
      "source": [
        "Разделим выборку на обучающую и контрольную:"
      ]
    },
    {
      "cell_type": "code",
      "metadata": {
        "id": "UlZTgzRODmGo"
      },
      "source": [
        "train_p = 0.9\n",
        "valid_p = 0.1"
      ],
      "execution_count": null,
      "outputs": []
    },
    {
      "cell_type": "code",
      "metadata": {
        "id": "yP1qni2ZDmGo"
      },
      "source": [
        "size_train = int(train_p * x.shape[0])\n",
        "\n",
        "X_train, Y_train = x[:size_train], y[:size_train]\n",
        "X_valid, Y_valid = x[size_train:], y[size_train:]"
      ],
      "execution_count": null,
      "outputs": []
    },
    {
      "cell_type": "markdown",
      "metadata": {
        "id": "dxcwENI0DmGo"
      },
      "source": [
        "Зададим две нейронных сети, каждая из которых будет иметь по два слоя. Перввая будет в качестве решателя использовать `градиентный спуск`, а вторая `метод, предложенный Бройденом, Флетчером, Гольдфарбом и Шанно`. В качестве выхода будет использоваться *линейная функция активации* с функцией потерь - *MSE*."
      ]
    },
    {
      "cell_type": "code",
      "metadata": {
        "id": "ARjsbU43DmGo"
      },
      "source": [
        "model1 = NeuralNetwork()\n",
        "# model1.add(FullyConnectedLayer(neuros=32, activation=Tansig()))\n",
        "# model1.add(FullyConnectedLayer(neuros=16, activation=Tansig()))\n",
        "model1.add(FullyConnectedLayer(neuros=10, activation=Tansig()))\n",
        "model1.add(FullyConnectedLayer(neuros=1, activation=Purelin()))\n",
        "model1.compilation(solver=GradientDescent(learn_rate=0.00005), out_layer=Linear_with_MSE(), data_dim=1)\n",
        "\n",
        "model2 = NeuralNetwork()\n",
        "model2.add(FullyConnectedLayer(neuros=10, activation=Tansig()))\n",
        "model2.add(FullyConnectedLayer(neuros=1, activation=Purelin()))\n",
        "model2.compilation(solver=BFGS(learn_rate=0.000005), out_layer=Linear_with_MSE(), data_dim=1)"
      ],
      "execution_count": null,
      "outputs": []
    },
    {
      "cell_type": "markdown",
      "metadata": {
        "id": "vKsU4Ne7DmGo"
      },
      "source": [
        "Обучение сетей."
      ]
    },
    {
      "cell_type": "code",
      "metadata": {
        "id": "CKtC9YWIDmGp",
        "outputId": "8499e8f9-6fa4-43a3-aece-1b6792aa6f19"
      },
      "source": [
        "hist = model1.fit(X_train, Y_train, X_valid, Y_valid, 3000, X_train.shape[0])\n",
        "plot_history(hist)"
      ],
      "execution_count": null,
      "outputs": [
        {
          "name": "stderr",
          "output_type": "stream",
          "text": [
            "100%|██████████| 3000/3000 [00:06<00:00, 491.43it/s]\n"
          ]
        },
        {
          "data": {
            "image/png": "[encoded data removed]",
            "text/plain": [
              "<Figure size 1080x504 with 1 Axes>"
            ]
          },
          "metadata": {
            "needs_background": "light"
          },
          "output_type": "display_data"
        }
      ]
    },
    {
      "cell_type": "code",
      "metadata": {
        "id": "iik2ODY1DmGq",
        "outputId": "c1199d56-b2bb-4ac7-fdaf-37d427793b31"
      },
      "source": [
        "hist = model2.fit(X_train, Y_train, X_valid, Y_valid, 100, X_train.shape[0])\n",
        "plot_history(hist)"
      ],
      "execution_count": null,
      "outputs": [
        {
          "name": "stderr",
          "output_type": "stream",
          "text": [
            "100%|██████████| 100/100 [00:00<00:00, 444.89it/s]\n"
          ]
        },
        {
          "data": {
            "image/png": "[encoded data removed]",
            "text/plain": [
              "<Figure size 1080x504 with 1 Axes>"
            ]
          },
          "metadata": {
            "needs_background": "light"
          },
          "output_type": "display_data"
        }
      ]
    },
    {
      "cell_type": "markdown",
      "metadata": {
        "id": "PHJf9XGgDmGq"
      },
      "source": [
        "Результаты обучения:"
      ]
    },
    {
      "cell_type": "code",
      "metadata": {
        "id": "McZvIDjkDmGr"
      },
      "source": [
        "Y_gd_train = model1(X_train)\n",
        "Y_gd_valid = model1(X_valid)\n",
        "\n",
        "Y_bfgs_train = model2(X_train)\n",
        "Y_bfgs_valid = model2(X_valid)"
      ],
      "execution_count": null,
      "outputs": []
    },
    {
      "cell_type": "code",
      "metadata": {
        "id": "V7hl7UBaDmGr",
        "outputId": "4c393260-cddd-421d-b0ac-3e28965c4e03"
      },
      "source": [
        "plt.figure(figsize=(15, 8))\n",
        "plt.scatter(X_train, Y_train, s=1.5, label='Real function')\n",
        "plt.scatter(X_train, Y_gd_train, s=1.5, label='Gradient Descent', color='red')\n",
        "plt.scatter(X_train, Y_bfgs_train, s=1.5, label='BFGS')\n",
        "plt.legend()\n",
        "plt.title(\"Результат на тренировочных данных\")\n",
        "\n",
        "print(\"Ошибка обучения градиентного спуска:\", model1.loss(X_train, Y_train))\n",
        "print(\"Ошибка обучения BFGS:\", model2.loss(X_train, Y_train))"
      ],
      "execution_count": null,
      "outputs": [
        {
          "name": "stdout",
          "output_type": "stream",
          "text": [
            "Ошибка обучения градиентного спуска: 0.346084955593677\n",
            "Ошибка обучения BFGS: 0.51941074219764\n"
          ]
        },
        {
          "data": {
            "image/png": "[encoded data removed]",
            "text/plain": [
              "<Figure size 1080x576 with 1 Axes>"
            ]
          },
          "metadata": {
            "needs_background": "light"
          },
          "output_type": "display_data"
        }
      ]
    },
    {
      "cell_type": "code",
      "metadata": {
        "id": "sLl0O7bIDmGr",
        "outputId": "baf84e59-f874-4b04-df4b-04df91e34b48"
      },
      "source": [
        "plt.figure(figsize=(15, 8))\n",
        "plt.scatter(X_valid, Y_valid, s=6, label='Real function')\n",
        "plt.scatter(X_valid, Y_gd_valid, s=6, label='Gradient Descent', color='red')\n",
        "plt.scatter(X_valid, Y_bfgs_valid, s=6, label='BFGS')\n",
        "plt.legend()\n",
        "plt.title(\"Результат на валидационных данных\")\n",
        "\n",
        "print(\"Ошибка обучения градиентного спуска:\", model1.loss(X_valid, Y_valid))\n",
        "print(\"Ошибка обучения BFGS:\", model2.loss(X_valid, Y_valid))"
      ],
      "execution_count": null,
      "outputs": [
        {
          "name": "stdout",
          "output_type": "stream",
          "text": [
            "Ошибка обучения градиентного спуска: 0.4019111936993158\n",
            "Ошибка обучения BFGS: 0.5092556493175344\n"
          ]
        },
        {
          "data": {
            "image/png": "[encoded data removed]",
            "text/plain": [
              "<Figure size 1080x576 with 1 Axes>"
            ]
          },
          "metadata": {
            "needs_background": "light"
          },
          "output_type": "display_data"
        }
      ]
    }
  ]
}