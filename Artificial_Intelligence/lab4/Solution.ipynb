{
  "nbformat": 4,
  "nbformat_minor": 0,
  "metadata": {
    "colab": {
      "name": "Kuzmichev.ipynb",
      "provenance": [],
      "collapsed_sections": []
    },
    "kernelspec": {
      "name": "python3",
      "display_name": "Python 3"
    },
    "language_info": {
      "name": "python"
    }
  },
  "cells": [
    {
      "cell_type": "code",
      "metadata": {
        "id": "uvvZlaO-EWGs"
      },
      "source": [
        "import torch\n",
        "from torch import nn\n",
        "from torch.utils.data import Dataset, DataLoader\n",
        "import numpy as np\n",
        "import matplotlib.pyplot as plt\n",
        "from skimage import io\n",
        "from torchvision import transforms\n",
        "import glob\n",
        "import pandas as pd\n",
        "\n",
        "device = torch.device('cuda' if torch.cuda.is_available() else 'cpu')"
      ],
      "execution_count": 11,
      "outputs": []
    },
    {
      "cell_type": "markdown",
      "metadata": {
        "id": "jHggAQi7TlC-"
      },
      "source": [
        "# Свёрточная сеть"
      ]
    },
    {
      "cell_type": "code",
      "metadata": {
        "id": "F4nB-xy8EzDz"
      },
      "source": [
        "class data(Dataset):\n",
        "    def __init__(self, transform=None, mode='train'):\n",
        "        empty_files = glob.glob('./drive/MyDrive/dataset/empty/*.jpg')[:80]\n",
        "        in_files = glob.glob('./drive/MyDrive/dataset/in/*.jpg')[:80]\n",
        "        intersection_files = glob.glob('./drive/MyDrive/dataset/intersection/*.jpg')[:80]\n",
        "        union_files = glob.glob('./drive/MyDrive/dataset/union/*.jpg')[:80]\n",
        "\n",
        "        if mode == 'val':\n",
        "            empty_files = glob.glob('./drive/MyDrive/dataset/empty/*.jpg')[80:]\n",
        "            in_files = glob.glob('./drive/MyDrive/dataset/in/*.jpg')[80:]\n",
        "            intersection_files = glob.glob('./drive/MyDrive/dataset/intersection/*.jpg')[80:]\n",
        "            union_files = glob.glob('./drive/MyDrive/dataset/union/*.jpg')[80:]\n",
        "\n",
        "        df = list()\n",
        "        for f in empty_files:\n",
        "            df.append((f, 0))\n",
        "        for f in in_files:\n",
        "            df.append((f, 1))\n",
        "        for f in intersection_files:\n",
        "            df.append((f, 2))\n",
        "        for f in union_files:\n",
        "            df.append((f, 0))\n",
        "\n",
        "        self.df = pd.DataFrame(df, columns=['filename', 'label'])\n",
        "        self.transform = transform\n",
        "\n",
        "    def __len__(self):\n",
        "        return self.df.shape[0]\n",
        "\n",
        "    def __getitem__(self, idx):\n",
        "        img_path = self.df.iloc[idx, 0]\n",
        "        image = io.imread(img_path)\n",
        "        label = self.df.iloc[idx, 1]\n",
        "\n",
        "        if self.transform:\n",
        "            image = self.transform(image)\n",
        "\n",
        "        return image, label"
      ],
      "execution_count": 12,
      "outputs": []
    },
    {
      "cell_type": "code",
      "metadata": {
        "id": "nN9QEmYEEzGG"
      },
      "source": [
        "data_transform = transforms.Compose([\n",
        "                                     transforms.ToPILImage(),\n",
        "                                     transforms.Resize([32, 32]),\n",
        "                                     transforms.ToTensor(),\n",
        "                                    #  transforms.Normalize(mean=[0.485, 0.456, 0.406], \n",
        "                                    #                       std=[0.229, 0.224, 0.225]),\n",
        "                                    ])\n",
        "\n",
        "train_set = data(transform=data_transform, mode='train')\n",
        "val_set = data(transform=data_transform, mode='val')\n",
        "\n",
        "BATCH_SIZE = 32\n",
        "train_loader = DataLoader(train_set, batch_size=BATCH_SIZE, shuffle=True)\n",
        "val_loader = DataLoader(val_set, batch_size=BATCH_SIZE, shuffle=True)"
      ],
      "execution_count": 13,
      "outputs": []
    },
    {
      "cell_type": "code",
      "metadata": {
        "colab": {
          "base_uri": "https://localhost:8080/",
          "height": 283
        },
        "id": "TZoktypwEzIP",
        "outputId": "f49a6432-53e1-4455-d8d6-85f5f3d4798e"
      },
      "source": [
        "plt.imshow(transforms.ToPILImage()(train_set[100][0]))"
      ],
      "execution_count": 14,
      "outputs": [
        {
          "output_type": "execute_result",
          "data": {
            "text/plain": [
              "<matplotlib.image.AxesImage at 0x7fdc866bc490>"
            ]
          },
          "metadata": {},
          "execution_count": 14
        },
        {
          "output_type": "display_data",
          "data": {
            "image/png": "[encoded data removed]",
            "text/plain": [
              "<Figure size 432x288 with 1 Axes>"
            ]
          },
          "metadata": {
            "needs_background": "light"
          }
        }
      ]
    },
    {
      "cell_type": "code",
      "metadata": {
        "id": "w2yVLwujEzKw"
      },
      "source": [
        "model = nn.Sequential(\n",
        "    nn.Conv2d(in_channels=3, out_channels=20, kernel_size=3),\n",
        "    nn.MaxPool2d(3),\n",
        "    nn.ReLU(),\n",
        "    nn.Conv2d(in_channels=20, out_channels=5, kernel_size=3),\n",
        "    nn.ReLU(),\n",
        "    nn.Flatten(),\n",
        "    nn.Linear(320, 1024),\n",
        "    nn.ReLU(),\n",
        "    nn.Linear(1024, 4)\n",
        ")\n",
        "\n",
        "optimizer = torch.optim.Adam(model.parameters(), lr=0.001)\n",
        "criterion = nn.CrossEntropyLoss()"
      ],
      "execution_count": 15,
      "outputs": []
    },
    {
      "cell_type": "code",
      "metadata": {
        "colab": {
          "base_uri": "https://localhost:8080/"
        },
        "id": "08GVaISJEzMe",
        "outputId": "7b006425-3411-422b-b015-cd9072f6692b"
      },
      "source": [
        "EPOCHS = 20\n",
        "\n",
        "train_losses, val_losses = [], []\n",
        "\n",
        "for epoch in range(EPOCHS):\n",
        "    print(f'Epoch {epoch}')\n",
        "    train_loss, val_loss, val_accuracy = 0, 0, 0\n",
        "    num_train_batches = len(train_loader)\n",
        "\n",
        "    model.train()\n",
        "    for batch_idx, (samples, targets) in enumerate(train_loader):\n",
        "        samples = samples.to(device)\n",
        "        targets = targets.to(device)\n",
        "        preds = model(samples)\n",
        "        train_loss = criterion(preds, targets)\n",
        "        optimizer.zero_grad()\n",
        "        train_loss.backward()\n",
        "        optimizer.step()\n",
        "\n",
        "        if batch_idx % 5 == 0:\n",
        "            print(f'Batch {batch_idx + 1} / {num_train_batches}. Train loss: {train_loss}')\n",
        "\n",
        "    model.eval()\n",
        "    num_val_batches = len(val_loader)\n",
        "    num_val_samples = len(val_loader.dataset)\n",
        "\n",
        "    for batch_idx, (samples, targets) in enumerate(val_loader):\n",
        "        samples = samples.to(device)\n",
        "        targets = targets.to(device)\n",
        "\n",
        "        with torch.no_grad():\n",
        "            preds = model(samples)\n",
        "            val_loss += criterion(preds, targets)\n",
        "            val_accuracy += (torch.argmax(preds, dim=1) == targets).sum().item()\n",
        "\n",
        "    val_loss /= num_val_batches\n",
        "    val_accuracy /= num_val_samples\n",
        "\n",
        "    train_losses.append(train_loss.item())\n",
        "    val_losses.append(val_loss.item())\n",
        "\n",
        "    print(f'Avg val loss: {val_loss}, Avg val accuracy = {val_accuracy}\\n')"
      ],
      "execution_count": 16,
      "outputs": [
        {
          "output_type": "stream",
          "name": "stdout",
          "text": [
            "Epoch 0\n",
            "Batch 1 / 10. Train loss: 1.3760976791381836\n"
          ]
        },
        {
          "output_type": "stream",
          "name": "stderr",
          "text": [
            "/usr/local/lib/python3.7/dist-packages/torch/nn/functional.py:718: UserWarning: Named tensors and all their associated APIs are an experimental feature and subject to change. Please do not use them for anything important until they are released as stable. (Triggered internally at  /pytorch/c10/core/TensorImpl.h:1156.)\n",
            "  return torch.max_pool2d(input, kernel_size, stride, padding, dilation, ceil_mode)\n"
          ]
        },
        {
          "output_type": "stream",
          "name": "stdout",
          "text": [
            "Batch 6 / 10. Train loss: 0.9344557523727417\n",
            "Avg val loss: 1.0567432641983032, Avg val accuracy = 0.4936708860759494\n",
            "\n",
            "Epoch 1\n",
            "Batch 1 / 10. Train loss: 1.0987470149993896\n",
            "Batch 6 / 10. Train loss: 1.0518776178359985\n",
            "Avg val loss: 1.0113632678985596, Avg val accuracy = 0.4936708860759494\n",
            "\n",
            "Epoch 2\n",
            "Batch 1 / 10. Train loss: 0.9274579882621765\n",
            "Batch 6 / 10. Train loss: 0.9468793272972107\n",
            "Avg val loss: 0.9947460293769836, Avg val accuracy = 0.4936708860759494\n",
            "\n",
            "Epoch 3\n",
            "Batch 1 / 10. Train loss: 0.9453129172325134\n",
            "Batch 6 / 10. Train loss: 0.915672242641449\n",
            "Avg val loss: 0.8160236477851868, Avg val accuracy = 0.5949367088607594\n",
            "\n",
            "Epoch 4\n",
            "Batch 1 / 10. Train loss: 0.8337233662605286\n",
            "Batch 6 / 10. Train loss: 0.7524537444114685\n",
            "Avg val loss: 0.5850796699523926, Avg val accuracy = 0.810126582278481\n",
            "\n",
            "Epoch 5\n",
            "Batch 1 / 10. Train loss: 0.5636945366859436\n",
            "Batch 6 / 10. Train loss: 0.3420836925506592\n",
            "Avg val loss: 0.2923242747783661, Avg val accuracy = 0.9367088607594937\n",
            "\n",
            "Epoch 6\n",
            "Batch 1 / 10. Train loss: 0.2814357876777649\n",
            "Batch 6 / 10. Train loss: 0.23366250097751617\n",
            "Avg val loss: 0.20552057027816772, Avg val accuracy = 0.9493670886075949\n",
            "\n",
            "Epoch 7\n",
            "Batch 1 / 10. Train loss: 0.20334185659885406\n",
            "Batch 6 / 10. Train loss: 0.20555737614631653\n",
            "Avg val loss: 0.12742061913013458, Avg val accuracy = 0.9620253164556962\n",
            "\n",
            "Epoch 8\n",
            "Batch 1 / 10. Train loss: 0.2614111304283142\n",
            "Batch 6 / 10. Train loss: 0.08961380273103714\n",
            "Avg val loss: 0.10786023736000061, Avg val accuracy = 0.9493670886075949\n",
            "\n",
            "Epoch 9\n",
            "Batch 1 / 10. Train loss: 0.04705669358372688\n",
            "Batch 6 / 10. Train loss: 0.18178124725818634\n",
            "Avg val loss: 0.0782587006688118, Avg val accuracy = 0.9746835443037974\n",
            "\n",
            "Epoch 10\n",
            "Batch 1 / 10. Train loss: 0.04695425555109978\n",
            "Batch 6 / 10. Train loss: 0.09165140986442566\n",
            "Avg val loss: 0.09672705084085464, Avg val accuracy = 0.9746835443037974\n",
            "\n",
            "Epoch 11\n",
            "Batch 1 / 10. Train loss: 0.07294945418834686\n",
            "Batch 6 / 10. Train loss: 0.06398722529411316\n",
            "Avg val loss: 0.1498073786497116, Avg val accuracy = 0.9367088607594937\n",
            "\n",
            "Epoch 12\n",
            "Batch 1 / 10. Train loss: 0.054639555513858795\n",
            "Batch 6 / 10. Train loss: 0.06782039254903793\n",
            "Avg val loss: 0.06946615129709244, Avg val accuracy = 0.9746835443037974\n",
            "\n",
            "Epoch 13\n",
            "Batch 1 / 10. Train loss: 0.019856303930282593\n",
            "Batch 6 / 10. Train loss: 0.026597268879413605\n",
            "Avg val loss: 0.0595129020512104, Avg val accuracy = 0.9746835443037974\n",
            "\n",
            "Epoch 14\n",
            "Batch 1 / 10. Train loss: 0.03796057403087616\n",
            "Batch 6 / 10. Train loss: 0.03511258587241173\n",
            "Avg val loss: 0.08337577432394028, Avg val accuracy = 0.9620253164556962\n",
            "\n",
            "Epoch 15\n",
            "Batch 1 / 10. Train loss: 0.012930553406476974\n",
            "Batch 6 / 10. Train loss: 0.022829918190836906\n",
            "Avg val loss: 0.17937874794006348, Avg val accuracy = 0.9746835443037974\n",
            "\n",
            "Epoch 16\n",
            "Batch 1 / 10. Train loss: 0.07984096556901932\n",
            "Batch 6 / 10. Train loss: 0.0188564732670784\n",
            "Avg val loss: 0.08192210644483566, Avg val accuracy = 0.9746835443037974\n",
            "\n",
            "Epoch 17\n",
            "Batch 1 / 10. Train loss: 0.011540853418409824\n",
            "Batch 6 / 10. Train loss: 0.00858327280730009\n",
            "Avg val loss: 0.07169371098279953, Avg val accuracy = 0.9746835443037974\n",
            "\n",
            "Epoch 18\n",
            "Batch 1 / 10. Train loss: 0.014917705208063126\n",
            "Batch 6 / 10. Train loss: 0.015257097780704498\n",
            "Avg val loss: 0.05406738445162773, Avg val accuracy = 0.9746835443037974\n",
            "\n",
            "Epoch 19\n",
            "Batch 1 / 10. Train loss: 0.0060114613734185696\n",
            "Batch 6 / 10. Train loss: 0.013154206797480583\n",
            "Avg val loss: 0.08908075094223022, Avg val accuracy = 0.9746835443037974\n",
            "\n"
          ]
        }
      ]
    },
    {
      "cell_type": "code",
      "metadata": {
        "colab": {
          "base_uri": "https://localhost:8080/",
          "height": 282
        },
        "id": "AMQCMI2LEzOr",
        "outputId": "976253d7-ded7-4fae-97ee-2bf10b9668fb"
      },
      "source": [
        "plt.plot(list(range(EPOCHS)), train_losses, label='train loss')\n",
        "plt.plot(list(range(EPOCHS)), val_losses, label='average validation loss')\n",
        "plt.legend()"
      ],
      "execution_count": 17,
      "outputs": [
        {
          "output_type": "execute_result",
          "data": {
            "text/plain": [
              "<matplotlib.legend.Legend at 0x7fdc7f39cbd0>"
            ]
          },
          "metadata": {},
          "execution_count": 17
        },
        {
          "output_type": "display_data",
          "data": {
            "image/png": "[encoded data removed]",
            "text/plain": [
              "<Figure size 432x288 with 1 Axes>"
            ]
          },
          "metadata": {
            "needs_background": "light"
          }
        }
      ]
    },
    {
      "cell_type": "code",
      "metadata": {
        "colab": {
          "base_uri": "https://localhost:8080/"
        },
        "id": "OOPQKLChEzQm",
        "outputId": "eda0f860-f075-42dd-b938-284cb1cb4ca0"
      },
      "source": [
        "model.eval()\n",
        "\n",
        "total_correct = 0\n",
        "\n",
        "for batch_idx, (samples, targets) in enumerate(val_loader):\n",
        "    samples = samples.to(device)\n",
        "    targets = targets.to(device)\n",
        "\n",
        "    with torch.no_grad():\n",
        "        preds = model(samples)\n",
        "        total_correct += (torch.argmax(preds, dim=1) == targets).sum().item()\n",
        "\n",
        "print(f'Total correct: {total_correct}, total images: {len(val_loader.dataset)}')"
      ],
      "execution_count": 18,
      "outputs": [
        {
          "output_type": "stream",
          "name": "stdout",
          "text": [
            "Total correct: 77, total images: 79\n"
          ]
        }
      ]
    },
    {
      "cell_type": "markdown",
      "metadata": {
        "id": "LJM8cnVuTeWR"
      },
      "source": [
        "# Теперь работаем с полносвязной сетью"
      ]
    },
    {
      "cell_type": "code",
      "metadata": {
        "id": "PDo3_8BjEzSl"
      },
      "source": [
        "data_transform = transforms.Compose([\n",
        "                                     transforms.ToPILImage(),\n",
        "                                     transforms.Resize([32, 32]),\n",
        "                                     transforms.ToTensor(),\n",
        "                                     transforms.Lambda(lambda x: torch.flatten(x))\n",
        "                                    ])\n",
        "\n",
        "train_set = data(transform=data_transform, mode='train')\n",
        "val_set = data(transform=data_transform, mode='val')\n",
        "\n",
        "BATCH_SIZE = 32\n",
        "train_loader = DataLoader(train_set, batch_size=BATCH_SIZE, shuffle=True)\n",
        "val_loader = DataLoader(val_set, batch_size=BATCH_SIZE, shuffle=True)"
      ],
      "execution_count": 24,
      "outputs": []
    },
    {
      "cell_type": "code",
      "metadata": {
        "id": "mc7jJ7nLEzUq"
      },
      "source": [
        "model = nn.Sequential(\n",
        "    nn.Linear(3072, 6000),\n",
        "    nn.ReLU(),\n",
        "    nn.Linear(6000, 1024),\n",
        "    nn.ReLU(),\n",
        "    nn.Linear(1024, 4)\n",
        ")\n",
        "\n",
        "optimizer = torch.optim.Adam(model.parameters(), lr=0.001)\n",
        "criterion = nn.CrossEntropyLoss()"
      ],
      "execution_count": 25,
      "outputs": []
    },
    {
      "cell_type": "code",
      "metadata": {
        "colab": {
          "base_uri": "https://localhost:8080/"
        },
        "id": "ychZImswEzWv",
        "outputId": "f72a6a68-6b7c-4190-c970-d05f3dc89ad7"
      },
      "source": [
        "EPOCHS = 20\n",
        "\n",
        "train_losses, val_losses = [], []\n",
        "\n",
        "for epoch in range(EPOCHS):\n",
        "    print(f'Epoch {epoch}')\n",
        "    train_loss, val_loss, val_accuracy = 0, 0, 0\n",
        "    num_train_batches = len(train_loader)\n",
        "\n",
        "    model.train()\n",
        "    for batch_idx, (samples, targets) in enumerate(train_loader):\n",
        "        samples = samples.to(device)\n",
        "        targets = targets.to(device)\n",
        "        preds = model(samples)\n",
        "        train_loss = criterion(preds, targets)\n",
        "        optimizer.zero_grad()\n",
        "        train_loss.backward()\n",
        "        optimizer.step()\n",
        "\n",
        "        if batch_idx % 5 == 0:\n",
        "            print(f'Batch {batch_idx + 1} / {num_train_batches}. Train loss: {train_loss}')\n",
        "\n",
        "    model.eval()\n",
        "    num_val_batches = len(val_loader)\n",
        "    num_val_samples = len(val_loader.dataset)\n",
        "\n",
        "    for batch_idx, (samples, targets) in enumerate(val_loader):\n",
        "        samples = samples.to(device)\n",
        "        targets = targets.to(device)\n",
        "\n",
        "        with torch.no_grad():\n",
        "            preds = model(samples)\n",
        "            val_loss += criterion(preds, targets)\n",
        "            val_accuracy += (torch.argmax(preds, dim=1) == targets).sum().item()\n",
        "\n",
        "    val_loss /= num_val_batches\n",
        "    val_accuracy /= num_val_samples\n",
        "\n",
        "    train_losses.append(train_loss.item())\n",
        "    val_losses.append(val_loss.item())\n",
        "\n",
        "    print(f'Avg val loss: {val_loss}, Avg val accuracy = {val_accuracy}\\n')"
      ],
      "execution_count": 26,
      "outputs": [
        {
          "output_type": "stream",
          "name": "stdout",
          "text": [
            "Epoch 0\n",
            "Batch 1 / 10. Train loss: 1.3998271226882935\n",
            "Batch 6 / 10. Train loss: 1.558022379875183\n",
            "Avg val loss: 1.1591705083847046, Avg val accuracy = 0.4936708860759494\n",
            "\n",
            "Epoch 1\n",
            "Batch 1 / 10. Train loss: 1.2532217502593994\n",
            "Batch 6 / 10. Train loss: 0.9425053000450134\n",
            "Avg val loss: 1.0103843212127686, Avg val accuracy = 0.4936708860759494\n",
            "\n",
            "Epoch 2\n",
            "Batch 1 / 10. Train loss: 0.9908022284507751\n",
            "Batch 6 / 10. Train loss: 1.0534955263137817\n",
            "Avg val loss: 0.8881650567054749, Avg val accuracy = 0.4936708860759494\n",
            "\n",
            "Epoch 3\n",
            "Batch 1 / 10. Train loss: 0.8319994211196899\n",
            "Batch 6 / 10. Train loss: 0.8613348603248596\n",
            "Avg val loss: 0.7336743474006653, Avg val accuracy = 0.620253164556962\n",
            "\n",
            "Epoch 4\n",
            "Batch 1 / 10. Train loss: 0.7450957894325256\n",
            "Batch 6 / 10. Train loss: 0.6475988626480103\n",
            "Avg val loss: 0.4574762284755707, Avg val accuracy = 0.8607594936708861\n",
            "\n",
            "Epoch 5\n",
            "Batch 1 / 10. Train loss: 0.4172549843788147\n",
            "Batch 6 / 10. Train loss: 0.45081380009651184\n",
            "Avg val loss: 0.3604937493801117, Avg val accuracy = 0.8354430379746836\n",
            "\n",
            "Epoch 6\n",
            "Batch 1 / 10. Train loss: 0.4281750023365021\n",
            "Batch 6 / 10. Train loss: 0.6504429578781128\n",
            "Avg val loss: 0.5903935432434082, Avg val accuracy = 0.759493670886076\n",
            "\n",
            "Epoch 7\n",
            "Batch 1 / 10. Train loss: 0.47401562333106995\n",
            "Batch 6 / 10. Train loss: 0.4038792550563812\n",
            "Avg val loss: 0.18737436830997467, Avg val accuracy = 0.9620253164556962\n",
            "\n",
            "Epoch 8\n",
            "Batch 1 / 10. Train loss: 0.14871898293495178\n",
            "Batch 6 / 10. Train loss: 0.3355512022972107\n",
            "Avg val loss: 0.30764785408973694, Avg val accuracy = 0.8860759493670886\n",
            "\n",
            "Epoch 9\n",
            "Batch 1 / 10. Train loss: 0.2771162688732147\n",
            "Batch 6 / 10. Train loss: 0.16083857417106628\n",
            "Avg val loss: 0.21211354434490204, Avg val accuracy = 0.9240506329113924\n",
            "\n",
            "Epoch 10\n",
            "Batch 1 / 10. Train loss: 0.1322193592786789\n",
            "Batch 6 / 10. Train loss: 0.1286592185497284\n",
            "Avg val loss: 0.1431005597114563, Avg val accuracy = 0.9620253164556962\n",
            "\n",
            "Epoch 11\n",
            "Batch 1 / 10. Train loss: 0.15883852541446686\n",
            "Batch 6 / 10. Train loss: 0.04859016090631485\n",
            "Avg val loss: 0.201058492064476, Avg val accuracy = 0.8987341772151899\n",
            "\n",
            "Epoch 12\n",
            "Batch 1 / 10. Train loss: 0.17851896584033966\n",
            "Batch 6 / 10. Train loss: 0.08659455180168152\n",
            "Avg val loss: 0.12229973077774048, Avg val accuracy = 0.9620253164556962\n",
            "\n",
            "Epoch 13\n",
            "Batch 1 / 10. Train loss: 0.24244125187397003\n",
            "Batch 6 / 10. Train loss: 0.048555973917245865\n",
            "Avg val loss: 0.1240929439663887, Avg val accuracy = 0.9620253164556962\n",
            "\n",
            "Epoch 14\n",
            "Batch 1 / 10. Train loss: 0.051875095814466476\n",
            "Batch 6 / 10. Train loss: 0.1193084716796875\n",
            "Avg val loss: 0.1501333862543106, Avg val accuracy = 0.9493670886075949\n",
            "\n",
            "Epoch 15\n",
            "Batch 1 / 10. Train loss: 0.11678304523229599\n",
            "Batch 6 / 10. Train loss: 0.02239099144935608\n",
            "Avg val loss: 0.15761134028434753, Avg val accuracy = 0.9746835443037974\n",
            "\n",
            "Epoch 16\n",
            "Batch 1 / 10. Train loss: 0.03253166750073433\n",
            "Batch 6 / 10. Train loss: 0.030811451375484467\n",
            "Avg val loss: 0.10125687718391418, Avg val accuracy = 0.9746835443037974\n",
            "\n",
            "Epoch 17\n",
            "Batch 1 / 10. Train loss: 0.010001554153859615\n",
            "Batch 6 / 10. Train loss: 0.06728707998991013\n",
            "Avg val loss: 0.2129884511232376, Avg val accuracy = 0.9873417721518988\n",
            "\n",
            "Epoch 18\n",
            "Batch 1 / 10. Train loss: 0.027711519971489906\n",
            "Batch 6 / 10. Train loss: 0.012016825377941132\n",
            "Avg val loss: 0.1145501509308815, Avg val accuracy = 0.9873417721518988\n",
            "\n",
            "Epoch 19\n",
            "Batch 1 / 10. Train loss: 0.022107914090156555\n",
            "Batch 6 / 10. Train loss: 0.009791835211217403\n",
            "Avg val loss: 0.09766089916229248, Avg val accuracy = 0.9873417721518988\n",
            "\n"
          ]
        }
      ]
    },
    {
      "cell_type": "code",
      "metadata": {
        "colab": {
          "base_uri": "https://localhost:8080/",
          "height": 283
        },
        "id": "NsfpX-FkEzY4",
        "outputId": "95108ade-1426-42d0-d3f7-2c43ac24e109"
      },
      "source": [
        "plt.plot(list(range(EPOCHS)), train_losses, label='train loss')\n",
        "plt.plot(list(range(EPOCHS)), val_losses, label='average validation loss')\n",
        "plt.legend()"
      ],
      "execution_count": 27,
      "outputs": [
        {
          "output_type": "execute_result",
          "data": {
            "text/plain": [
              "<matplotlib.legend.Legend at 0x7fdc7f2aa950>"
            ]
          },
          "metadata": {},
          "execution_count": 27
        },
        {
          "output_type": "display_data",
          "data": {
            "image/png": "[encoded data removed]",
            "text/plain": [
              "<Figure size 432x288 with 1 Axes>"
            ]
          },
          "metadata": {
            "needs_background": "light"
          }
        }
      ]
    },
    {
      "cell_type": "code",
      "metadata": {
        "colab": {
          "base_uri": "https://localhost:8080/"
        },
        "id": "Ltk3eicEWWWJ",
        "outputId": "712e07ca-f0a3-431f-eeab-2fc2aa7683d8"
      },
      "source": [
        "model.eval()\n",
        "\n",
        "total_correct = 0\n",
        "\n",
        "for batch_idx, (samples, targets) in enumerate(val_loader):\n",
        "    samples = samples.to(device)\n",
        "    targets = targets.to(device)\n",
        "\n",
        "    with torch.no_grad():\n",
        "        preds = model(samples)\n",
        "        total_correct += (torch.argmax(preds, dim=1) == targets).sum().item()\n",
        "\n",
        "print(f'Total correct: {total_correct}, total images: {len(val_loader.dataset)}')"
      ],
      "execution_count": 28,
      "outputs": [
        {
          "output_type": "stream",
          "name": "stdout",
          "text": [
            "Total correct: 78, total images: 79\n"
          ]
        }
      ]
    }
  ]
}