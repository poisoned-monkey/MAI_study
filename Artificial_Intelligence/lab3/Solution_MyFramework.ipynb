{
  "nbformat": 4,
  "nbformat_minor": 0,
  "metadata": {
    "language_info": {
      "codemirror_mode": {
        "name": "ipython",
        "version": 3
      },
      "file_extension": ".py",
      "mimetype": "text/x-python",
      "name": "python",
      "nbconvert_exporter": "python",
      "pygments_lexer": "ipython3",
      "version": "3.7.4-final"
    },
    "orig_nbformat": 2,
    "kernelspec": {
      "name": "python3",
      "display_name": "Python 3.7.4 64-bit (conda)",
      "metadata": {
        "interpreter": {
          "hash": "86193a1ab0ba47eac1c69c1756090baa3b420b3eea7d4aafab8b85f8b312f0c5"
        }
      }
    },
    "colab": {
      "name": "Solution_MyFramework (5).ipynb",
      "provenance": [],
      "collapsed_sections": []
    }
  },
  "cells": [
    {
      "cell_type": "markdown",
      "metadata": {
        "id": "xYlMkMyS6Csq"
      },
      "source": [
        "## Лабораторная работа по курсу \"Искусственный интеллект\"\n",
        "## Многослойный персептрон\n",
        "\n",
        "| Студент | Кузьмичев|\n",
        "|---------|--------|\n",
        "| Группа  | 6      |\n",
        "\n",
        "Для начала, скачаем датасет MNIST. Используйте `wget` или `curl`, либо скачайте вручную [по ссылке](https://raw.githubusercontent.com/shwars/NeuroWorkshop/master/Data/MNIST/mnist.pkl.gz)."
      ]
    },
    {
      "cell_type": "code",
      "metadata": {
        "tags": [],
        "colab": {
          "base_uri": "https://localhost:8080/"
        },
        "id": "DZQ5icTR6Csv",
        "outputId": "4fef1088-a3af-4251-a83e-3fa85af2032d"
      },
      "source": [
        "#!wget https://raw.githubusercontent.com/shwars/NeuroWorkshop/master/Data/MNIST/mnist.pkl.gz\n",
        "!curl -o mnist.pkl.gz https://raw.githubusercontent.com/shwars/NeuroWorkshop/master/Data/MNIST/mnist.pkl.gz\n",
        "!gzip -d mnist.pkl.gz"
      ],
      "execution_count": 1,
      "outputs": [
        {
          "output_type": "stream",
          "name": "stdout",
          "text": [
            "  % Total    % Received % Xferd  Average Speed   Time    Time     Time  Current\n",
            "                                 Dload  Upload   Total   Spent    Left  Speed\n",
            "100  9.9M  100  9.9M    0     0  27.3M      0 --:--:-- --:--:-- --:--:-- 27.3M\n"
          ]
        }
      ]
    },
    {
      "cell_type": "markdown",
      "metadata": {
        "id": "uitjrnuT6Csx"
      },
      "source": [
        "Теперь загружаем датасет и прописываем импорты:"
      ]
    },
    {
      "cell_type": "code",
      "metadata": {
        "id": "ofLjSeLm6Csx"
      },
      "source": [
        "import pickle\n",
        "import sys\n",
        "import numpy as np\n",
        "import matplotlib.pyplot as plt \n",
        "from matplotlib import gridspec\n",
        "from sklearn.metrics import confusion_matrix\n",
        "from sklearn.datasets import make_classification\n",
        "import random\n",
        "from sklearn.model_selection import train_test_split\n",
        "np.random.seed(0)\n",
        "with open('mnist.pkl','rb') as f:\n",
        "    MNIST = pickle.load(f)"
      ],
      "execution_count": null,
      "outputs": []
    },
    {
      "cell_type": "code",
      "metadata": {
        "id": "jefal0Rs6Csx"
      },
      "source": [
        "labels = MNIST['Train']['Labels']\n",
        "data = MNIST['Train']['Features']"
      ],
      "execution_count": null,
      "outputs": []
    },
    {
      "cell_type": "markdown",
      "metadata": {
        "id": "ynNrzlMG6Csx"
      },
      "source": [
        "Смотрим на то, какие данные получились:"
      ]
    },
    {
      "cell_type": "code",
      "metadata": {
        "colab": {
          "base_uri": "https://localhost:8080/"
        },
        "id": "_6SGdtiH6Csy",
        "outputId": "69ea1abc-de0d-484f-e531-847ca8a52ce0"
      },
      "source": [
        "data.shape"
      ],
      "execution_count": null,
      "outputs": [
        {
          "output_type": "execute_result",
          "data": {
            "text/plain": [
              "(42000, 784)"
            ]
          },
          "metadata": {
            "tags": []
          },
          "execution_count": 6
        }
      ]
    },
    {
      "cell_type": "markdown",
      "metadata": {
        "id": "Ueq2jtbz6Csy"
      },
      "source": [
        "Используйте Scikit Learn для разбиения данных на обучающую и тестовую выборку, нормализуем выборку\n"
      ]
    },
    {
      "cell_type": "code",
      "metadata": {
        "id": "VmHP_nkD6Csy"
      },
      "source": [
        "x_train, x_test, labels_train, labels_test = train_test_split(data, labels, test_size=0.20)\n",
        "x_test = x_test/255\n",
        "x_train = x_train/255"
      ],
      "execution_count": null,
      "outputs": []
    },
    {
      "cell_type": "markdown",
      "metadata": {
        "id": "qx_n4gx7QemG"
      },
      "source": [
        "Объявим классы для слоев персептрона:\n",
        "\n",
        "1.   Linear\n",
        "2.   SoftMax\n",
        "3.   CrossEntropyLoss\n",
        "\n",
        "\n",
        "\n",
        "\n"
      ]
    },
    {
      "cell_type": "code",
      "metadata": {
        "id": "_rbXH1M6Qkox"
      },
      "source": [
        "class Linear:\n",
        "    def __init__(self,nin,nout):\n",
        "        self.W = np.random.normal(0, 1.0/np.sqrt(nin), (nout, nin))\n",
        "        self.b = np.zeros((1,nout))\n",
        "        self.dW = np.zeros_like(self.W)\n",
        "        self.db = np.zeros_like(self.b)\n",
        "        \n",
        "    def forward(self, x):\n",
        "        self.x=x\n",
        "        return np.dot(x, self.W.T) + self.b\n",
        "    \n",
        "    def backward(self, dz):\n",
        "        dx = np.dot(dz, self.W)\n",
        "        dW = np.dot(dz.T, self.x)\n",
        "        db = dz.sum(axis=0)\n",
        "        self.dW = dW\n",
        "        self.db = db\n",
        "        return dx\n",
        "    \n",
        "    def update(self,lr):\n",
        "        self.W -= lr*self.dW\n",
        "        self.b -= lr*self.db\n",
        "\n",
        "\n",
        "class Softmax:\n",
        "    def forward(self,z):\n",
        "        self.z = z\n",
        "        zmax = z.max(axis=1,keepdims=True)\n",
        "        expz = np.exp(z-zmax)\n",
        "        Z = expz.sum(axis=1,keepdims=True)\n",
        "        return expz / Z\n",
        "    def backward(self,dp):\n",
        "        p = self.forward(self.z)\n",
        "        pdp = p * dp\n",
        "        return pdp - p * pdp.sum(axis=1, keepdims=True)\n",
        "    \n",
        "class CrossEntropyLoss:\n",
        "    def forward(self,p,y):\n",
        "        self.p = p\n",
        "        self.y = y\n",
        "        p_of_y = p[np.arange(len(y)), y]\n",
        "        log_prob = np.log(p_of_y)\n",
        "        return -log_prob.mean()\n",
        "    def backward(self,loss):\n",
        "        dlog_softmax = np.zeros_like(self.p)\n",
        "        dlog_softmax[np.arange(len(self.y)), self.y] -= 1.0/len(self.y)\n",
        "        return dlog_softmax / self.p\n",
        "        \n",
        "class Tanh:\n",
        "    def forward(self,x):\n",
        "        y = np.tanh(x)\n",
        "        self.y = y\n",
        "        return y\n",
        "    def backward(self,dy):\n",
        "        return (1.0-self.y**2)*dy"
      ],
      "execution_count": null,
      "outputs": []
    },
    {
      "cell_type": "markdown",
      "metadata": {
        "id": "DWnYhVZAxUTp"
      },
      "source": [
        "Для удобства опишем класс, который позволяет объединять узлы вычислительного графа в единую сеть, и применять функции *forward* и *backward* сразу ко всей сети последовательно:\n",
        "\n"
      ]
    },
    {
      "cell_type": "code",
      "metadata": {
        "id": "ENcOAurexfPB"
      },
      "source": [
        "class Net:\n",
        "    def __init__(self):\n",
        "        self.layers = []\n",
        "    \n",
        "    def add(self,l):\n",
        "        self.layers.append(l)\n",
        "\n",
        "    def addCrossEntropy(self, crossEntropy):\n",
        "        self.crossEntropy = crossEntropy \n",
        "        \n",
        "    def forward(self,x, y):\n",
        "        for layer in self.layers:\n",
        "            x = layer.forward(x)\n",
        "        l = self.crossEntropy.forward(x,y)\n",
        "        return l\n",
        "    \n",
        "    def backward(self,z):\n",
        "        z = self.crossEntropy.backward(z)\n",
        "        for l in self.layers[::-1]:\n",
        "            z = l.backward(z)\n",
        "        return z\n",
        "    \n",
        "    def forward_without_cross(self, x):\n",
        "        for layer in self.layers:\n",
        "            x = layer.forward(x)\n",
        "        return x\n",
        "\n",
        "    def update(self,lr):\n",
        "        for l in self.layers:\n",
        "            if 'update' in l.__dir__():\n",
        "                l.update(lr)\n"
      ],
      "execution_count": null,
      "outputs": []
    },
    {
      "cell_type": "markdown",
      "metadata": {
        "id": "C3OxSEvNXYJF"
      },
      "source": [
        "Создадим класс, который будет отвечать за обучение нейронной сети. В нем будут методы для обучения нейронной сети, для показа результатов обучения. Так как мы пишем фреймворк, то человек сможет выбрать, нужен ему график или нет, а также загрузить свою нейронную сеть и свою обучающую выборку"
      ]
    },
    {
      "cell_type": "code",
      "metadata": {
        "colab": {
          "base_uri": "https://localhost:8080/",
          "height": 264
        },
        "id": "1f8yUvF8IMMA",
        "outputId": "f389cd69-d211-4b29-d52a-645a54cf0c6b"
      },
      "source": [
        "import matplotlib.cm as cm\n",
        "\n",
        "class Analyzer:\n",
        "\n",
        "    def __init__(self):\n",
        "        self.count_confusion = True\n",
        "        self.confusion_pred = []\n",
        "        self.confusion_true = []\n",
        "\n",
        "    def get_loss_acc(self, net, x,y,loss=CrossEntropyLoss(), is_test = False):\n",
        "        p = net.forward_without_cross(x)\n",
        "        l = loss.forward(p,y)\n",
        "        pred = np.argmax(p,axis=1)\n",
        "        acc = (pred==y).mean()\n",
        "        if (is_test == True):\n",
        "            self.confusion_pred = []\n",
        "            self.confusion_true = []\n",
        "            self.confusion_pred+=pred.tolist()\n",
        "            self.confusion_true+=y.tolist()\n",
        "        return l,acc\n",
        "\n",
        "class Teacher:\n",
        "\n",
        "    def __init__(self, n_classes, x_train, labels_train, x_test, labels_test, analyzer):\n",
        "        self.n_classes = n_classes\n",
        "        self.x_train = x_train\n",
        "        self.labels_train = labels_train\n",
        "        self.x_test = x_test\n",
        "        self.labels_test = labels_test\n",
        "        self.analyzer = analyzer\n",
        "\n",
        "    def train_epoch(self, net, train_x, train_labels, loss=CrossEntropyLoss(), batch_size=4, lr=0.1):\n",
        "        for i in range(0,len(train_x),batch_size):\n",
        "            xb = train_x[i:i+batch_size]\n",
        "            yb = train_labels[i:i+batch_size]\n",
        "            l = net.forward(xb, yb)\n",
        "            dx = net.backward(l)\n",
        "            net.update(lr)\n",
        "\n",
        "        # generate countour grid\n",
        "\n",
        "    def train_and_plot(self, n_epoch, net, loss=CrossEntropyLoss(), batch_size=4, lr=0.1, need_plot = True):\n",
        "        net.addCrossEntropy(loss)\n",
        "        fig, ax = plt.subplots(1, 1)\n",
        "        ax.set_xlim(0, n_epoch + 1)\n",
        "        ax.set_ylim(0,1)\n",
        "        train_acc = np.empty((n_epoch, 3))\n",
        "        train_acc[:] = np.NAN\n",
        "        valid_acc = np.empty((n_epoch, 3))\n",
        "        valid_acc[:] = np.NAN\n",
        "    \n",
        "        for epoch in range(1, n_epoch + 1):\n",
        "\n",
        "            tloss, taccuracy = self.analyzer.get_loss_acc(net, self.x_train,self.labels_train,loss)\n",
        "            train_acc[epoch-1, :] = [epoch, tloss, taccuracy]\n",
        "            vloss, vaccuracy = self.analyzer.get_loss_acc(net, self.x_test, self.labels_test,loss, True)\n",
        "            valid_acc[epoch-1, :] = [epoch, vloss, vaccuracy]\n",
        "        \n",
        "            ax.set_ylim(0, max(max(train_acc[:, 2]), max(valid_acc[:, 2])) * 1.1)\n",
        "            if (need_plot):\n",
        "                plot_training_progress(train_acc[:, 0], (train_acc[:, 2],\n",
        "                                                 valid_acc[:, 2]), fig, ax)\n",
        "                fig.canvas.draw()\n",
        "                fig.canvas.flush_events()\n",
        "            self.train_epoch(net, self.x_train,self.labels_train,loss,batch_size,lr)\n",
        "\n",
        "\n",
        "        return train_acc, valid_acc\n",
        "\n",
        "    def plot_training_progress(self, x, y_data, fig, ax):\n",
        "        styles = ['k--', 'g-']\n",
        "        # remove previous plot\n",
        "        while ax.lines:\n",
        "            ax.lines.pop()\n",
        "        # draw updated lines\n",
        "        for i in range(len(y_data)):\n",
        "            ax.plot(x, y_data[i], styles[i])\n",
        "        ax.legend(ax.lines, ['training accuracy', 'validation accuracy'],\n",
        "              loc='upper center', ncol = 2)\n",
        "\n",
        "net = Net()\n",
        "analyzer = Analyzer()\n",
        "teacher = Teacher(n_classes = 10, x_train=x_train, labels_train = labels_train, x_test = x_test, labels_test = labels_test, analyzer = analyzer)\n",
        "net.add(Linear(28*28,10))\n",
        "net.add(Softmax())\n",
        "res = teacher.train_and_plot(30, net, CrossEntropyLoss(), lr = 0.00005, need_plot = True)\n"
      ],
      "execution_count": null,
      "outputs": [
        {
          "output_type": "display_data",
          "data": {
            "image/png": "[encoded data removed]",
            "text/plain": [
              "<Figure size 432x288 with 1 Axes>"
            ]
          },
          "metadata": {
            "tags": [],
            "needs_background": "light"
          }
        }
      ]
    },
    {
      "cell_type": "markdown",
      "metadata": {
        "id": "vuVpQ9UXRUf7"
      },
      "source": [
        "Теперь выведем Confusion Matrix с помощью SKLearn, с помощью нее можно увидеть частоту ложных и верных предсказаний по классам"
      ]
    },
    {
      "cell_type": "code",
      "metadata": {
        "colab": {
          "base_uri": "https://localhost:8080/"
        },
        "id": "JEbGsLXHRfdw",
        "outputId": "457ea55f-6510-43b2-9b15-5c90d04dc151"
      },
      "source": [
        "analyzer.get_loss_acc(net, x_test, labels_test,net.crossEntropy, True)\n",
        "print(confusion_matrix(analyzer.confusion_true, analyzer.confusion_pred))"
      ],
      "execution_count": null,
      "outputs": [
        {
          "output_type": "stream",
          "text": [
            "[[776   0   1   3   3   7  11   2  11   2]\n",
            " [  0 907   7   4   0   5   1   0  31   1]\n",
            " [ 16  10 682  18  19   0  31  18  33   7]\n",
            " [  6   4  23 719   0  29  16  18  22  14]\n",
            " [  2  16   8   1 647   0   7   5   9  80]\n",
            " [ 17  18   4  47  18 570  18   4  42  12]\n",
            " [ 10   5  13   2   7  12 807   0   9   0]\n",
            " [  3  18  15   2  12   1   1 771   4  42]\n",
            " [  6  33  11  42   4  33   9   7 642  27]\n",
            " [ 10  14   6  15  50   3   1  38   8 725]]\n"
          ],
          "name": "stdout"
        }
      ]
    },
    {
      "cell_type": "markdown",
      "metadata": {
        "id": "1_DmOxsT_x0n"
      },
      "source": [
        "Теперь попробуем сделать анализ обучения для набора датасета FashionMnist, который считается более новым. Для этого загрузим данные, создадим нейронную сеть и построим график\n",
        "\n"
      ]
    },
    {
      "cell_type": "code",
      "metadata": {
        "colab": {
          "base_uri": "https://localhost:8080/",
          "height": 264
        },
        "id": "WJbQnaoND4BX",
        "outputId": "625465a3-00be-433d-db1b-95bd243fcb0a"
      },
      "source": [
        "import tensorflow as tf\n",
        "import numpy as np\n",
        "import os\n",
        "\n",
        "import distutils\n",
        "\n",
        "(x_fashion_train, y_fashion_train), (x_fashion_test, y_fashion__test) = tf.keras.datasets.fashion_mnist.load_data()\n",
        "x_fashion_train = x_fashion_train/ 255.0\n",
        "x_fashion_test = x_fashion_test/ 255.0\n",
        "num_pixels = 784\n",
        "x_fashion_train = x_fashion_train.reshape(x_fashion_train.shape[0],\n",
        "                         num_pixels)\n",
        "x_fashion_test = x_fashion_test.reshape(x_fashion_test.shape[0],\n",
        "                         num_pixels)\n",
        "class_names = ['T-shirt/top', 'Trouser', 'Pullover', 'Dress', 'Coat',\n",
        "               'Sandal', 'Shirt', 'Sneaker', 'Bag', 'Ankle boot']\n",
        "\n",
        "\n",
        "net = Net()\n",
        "net.add(Linear(28*28,10))\n",
        "net.add(Softmax())\n",
        "analyzer = Analyzer()\n",
        "teacher = Teacher(n_classes = 10, x_train=x_fashion_train, labels_train = y_fashion_train, x_test = x_fashion_test, labels_test = y_fashion__test, analyzer = analyzer)\n",
        "res = teacher.train_and_plot(30, net, CrossEntropyLoss(), lr = 0.00005, need_plot = True)\n"
      ],
      "execution_count": null,
      "outputs": [
        {
          "output_type": "display_data",
          "data": {
            "image/png": "[encoded data removed]",
            "text/plain": [
              "<Figure size 432x288 with 1 Axes>"
            ]
          },
          "metadata": {
            "tags": [],
            "needs_background": "light"
          }
        }
      ]
    },
    {
      "cell_type": "markdown",
      "metadata": {
        "id": "4LeUt6TgVuTT"
      },
      "source": [
        "Для начала загрузим данные и покажем, что представляет из себя выборка FashionMnist"
      ]
    },
    {
      "cell_type": "code",
      "metadata": {
        "colab": {
          "base_uri": "https://localhost:8080/",
          "height": 588
        },
        "id": "0Ng2wMQjV05w",
        "outputId": "11be135f-daee-4e0e-9609-801ab71583b5"
      },
      "source": [
        "import tensorflow as tf\n",
        "import numpy as np\n",
        "import os\n",
        "\n",
        "import distutils\n",
        "\n",
        "(x_fashion_train, y_fashion_train), (x_fashion_test, y_fashion__test) = tf.keras.datasets.fashion_mnist.load_data()\n",
        "x_fashion_train = x_fashion_train/ 255.0\n",
        "x_fashion_test = x_fashion_test/ 255.0\n",
        "num_pixels = 784\n",
        "\n",
        "class_names = ['T-shirt/top', 'Trouser', 'Pullover', 'Dress', 'Coat',\n",
        "               'Sandal', 'Shirt', 'Sneaker', 'Bag', 'Ankle boot']\n",
        "               \n",
        "plt.figure(figsize=(10,10))\n",
        "for i in range(25):\n",
        "    plt.subplot(5,5,i+1)\n",
        "    plt.xticks([])\n",
        "    plt.yticks([])\n",
        "    plt.grid(False)\n",
        "    plt.imshow(x_fashion_train[i], cmap=plt.cm.binary)\n",
        "    plt.xlabel(class_names[y_fashion_train[i]])\n",
        "plt.show()"
      ],
      "execution_count": null,
      "outputs": [
        {
          "output_type": "display_data",
          "data": {
            "image/png": "[encoded data removed]",
            "text/plain": [
              "<Figure size 720x720 with 25 Axes>"
            ]
          },
          "metadata": {
            "tags": []
          }
        }
      ]
    },
    {
      "cell_type": "markdown",
      "metadata": {
        "id": "cdGy2FIfWIBG"
      },
      "source": [
        "Как мы видим, размер картинок не изменился - это все те же черно-белые изображения, но теперь тут разные элементы одежды. Для начала преобразуем матрицы пикселей в вектора, затем создадим нейронную сеть и обучим ее на тестовой выборке. Построим график обучения"
      ]
    },
    {
      "cell_type": "code",
      "metadata": {
        "colab": {
          "base_uri": "https://localhost:8080/",
          "height": 264
        },
        "id": "RKjLz-pYWcSy",
        "outputId": "13af154b-3e18-4812-a741-81c4b1e970c5"
      },
      "source": [
        "num_pixels = 784\n",
        "x_fashion_train = x_fashion_train.reshape(x_fashion_train.shape[0],\n",
        "                         num_pixels)\n",
        "x_fashion_test = x_fashion_test.reshape(x_fashion_test.shape[0],\n",
        "                         num_pixels)\n",
        "net = Net()\n",
        "net.add(Linear(28*28,10))\n",
        "net.add(Softmax())\n",
        "analyzer = Analyzer()\n",
        "teacher = Teacher(n_classes = 10, x_train=x_fashion_train, labels_train = y_fashion_train, x_test = x_fashion_test, labels_test = y_fashion__test, analyzer = analyzer)\n",
        "res = teacher.train_and_plot(30, net, CrossEntropyLoss(), lr = 0.00005, need_plot = True)"
      ],
      "execution_count": null,
      "outputs": [
        {
          "output_type": "display_data",
          "data": {
            "image/png": "[encoded data removed]",
            "text/plain": [
              "<Figure size 432x288 with 1 Axes>"
            ]
          },
          "metadata": {
            "tags": [],
            "needs_background": "light"
          }
        }
      ]
    },
    {
      "cell_type": "markdown",
      "metadata": {
        "id": "ZnAow_3DUSaf"
      },
      "source": [
        "Мы видим, что для этой выборки validation accuracy не такая высокая, как для обычной MNIST. В MNIST оно больше 85 процентов, тут же держится около 80. Также и для этой выборки выведем Confusion Matrix"
      ]
    },
    {
      "cell_type": "code",
      "metadata": {
        "colab": {
          "base_uri": "https://localhost:8080/"
        },
        "id": "EB6Un_DFUYej",
        "outputId": "8496e5b4-4c24-44bb-e8f2-e844b05a8a6f"
      },
      "source": [
        "analyzer.get_loss_acc(net, x_fashion_test, y_fashion__test,net.crossEntropy, True)\n",
        "print(confusion_matrix(analyzer.confusion_true, analyzer.confusion_pred))"
      ],
      "execution_count": null,
      "outputs": [
        {
          "output_type": "stream",
          "text": [
            "[[793   7  17  75   6   1  78   0  22   1]\n",
            " [  7 925  16  40   9   0   1   0   2   0]\n",
            " [ 22   0 659   9 212   1  80   0  17   0]\n",
            " [ 37  13   8 848  37   1  51   0   5   0]\n",
            " [  0   2 112  47 767   0  66   0   6   0]\n",
            " [  1   0   0   3   0 746   0 148  10  92]\n",
            " [196   3 138  50 157   1 415   0  40   0]\n",
            " [  0   0   0   0   0  33   0 881   0  86]\n",
            " [  1   1  16  15   3   3  19  11 929   2]\n",
            " [  0   0   0   0   0  12   0  56   1 931]]\n"
          ],
          "name": "stdout"
        }
      ]
    },
    {
      "cell_type": "markdown",
      "metadata": {
        "id": "cxtFklLGXHTj"
      },
      "source": [
        "В данной лабораторной работе я познакомился с базовой архитектурой многослойного персептрона, математическим аппаратом, на котором работает нейронная сеть. Эта работа была полезной для более глубокого понимания темы, однако каждый раз писать свою реализацию нейронной сети не имеет смысла, потому что это может быть затратно и уже есть готовые реализации нейросетей."
      ]
    }
  ]
}