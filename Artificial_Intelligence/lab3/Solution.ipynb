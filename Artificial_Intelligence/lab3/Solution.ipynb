{
  "nbformat": 4,
  "nbformat_minor": 0,
  "metadata": {
    "language_info": {
      "codemirror_mode": {
        "name": "ipython",
        "version": 3
      },
      "file_extension": ".py",
      "mimetype": "text/x-python",
      "name": "python",
      "nbconvert_exporter": "python",
      "pygments_lexer": "ipython3",
      "version": "3.7.4-final"
    },
    "orig_nbformat": 2,
    "kernelspec": {
      "name": "python3",
      "display_name": "Python 3.7.4 64-bit (conda)",
      "metadata": {
        "interpreter": {
          "hash": "86193a1ab0ba47eac1c69c1756090baa3b420b3eea7d4aafab8b85f8b312f0c5"
        }
      }
    },
    "colab": {
      "name": "Solution.ipynb",
      "provenance": [],
      "collapsed_sections": [],
      "toc_visible": true
    }
  },
  "cells": [
    {
      "cell_type": "markdown",
      "metadata": {
        "id": "FN5uqiJ5SFs8"
      },
      "source": [
        "## Лабораторная работа по курсу \"Искусственный интеллект\"\n",
        "## Многослойный персептрон\n",
        "\n",
        "| Студент | Кузьмичев|\n",
        "|---------|--------|\n",
        "| Группа  | 6      |\n",
        "\n",
        "Для начала, скачаем датасет MNIST. Мы будем использовать встроенный в Pytorch датасет "
      ]
    },
    {
      "cell_type": "markdown",
      "metadata": {
        "id": "qxaxFBcKXFRG"
      },
      "source": [
        "Добавляем необходимые импорты для работы "
      ]
    },
    {
      "cell_type": "code",
      "metadata": {
        "id": "anT5QSfzXJGJ"
      },
      "source": [
        "import torch\n",
        "import torchvision"
      ],
      "execution_count": 18,
      "outputs": []
    },
    {
      "cell_type": "markdown",
      "metadata": {
        "id": "hIml-ctSYLHY"
      },
      "source": [
        "Опишу класс нейронной сети, следуя инструкциям в лекциях"
      ]
    },
    {
      "cell_type": "code",
      "metadata": {
        "id": "DmUC5FF3lzAL"
      },
      "source": [
        "import torch.nn as nn\n",
        "import torch.nn.functional as F\n",
        "import torch.optim as optim\n",
        "import matplotlib.pyplot as plt \n",
        "import numpy as np\n",
        "\n",
        "n_epochs = 3\n",
        "batch_size_train = 64\n",
        "batch_size_test = 1000\n",
        "learning_rate = 0.01\n",
        "momentum = 0.5\n",
        "log_interval = 10\n",
        "\n",
        "class Net(nn.Module):\n",
        "    def __init__(self):\n",
        "        super(Net, self).__init__()\n",
        "        self.conv1 = nn.Conv2d(1, 10, kernel_size=5)\n",
        "        self.conv2 = nn.Conv2d(10, 20, kernel_size=5)\n",
        "        self.conv2_drop = nn.Dropout2d()\n",
        "        self.fc1 = nn.Linear(320, 50)\n",
        "        self.fc2 = nn.Linear(50, 10)\n",
        "\n",
        "    def forward(self, x):\n",
        "        x = F.relu(F.max_pool2d(self.conv1(x), 2))\n",
        "        x = F.relu(F.max_pool2d(self.conv2_drop(self.conv2(x)), 2))\n",
        "        x = x.view(-1, 320)\n",
        "        x = F.relu(self.fc1(x))\n",
        "        x = F.dropout(x, training=self.training)\n",
        "        x = self.fc2(x)\n",
        "        return F.log_softmax(x)"
      ],
      "execution_count": 19,
      "outputs": []
    },
    {
      "cell_type": "markdown",
      "metadata": {
        "id": "wy9W_sZtmH89"
      },
      "source": [
        "Теперь объявим датасет, по которому мы будем обучать нейронную сеть"
      ]
    },
    {
      "cell_type": "code",
      "metadata": {
        "id": "NX-Gxf1WmIX5"
      },
      "source": [
        "dataloader = torch.utils.data.DataLoader(\n",
        "  torchvision.datasets.MNIST('/files/', train=True, download=True,\n",
        "                             transform=torchvision.transforms.Compose([\n",
        "                               torchvision.transforms.ToTensor(),\n",
        "                             \n",
        "                             ])),\n",
        "  batch_size=batch_size_train, shuffle=True)\n",
        "\n",
        "testloader = torch.utils.data.DataLoader(\n",
        "  torchvision.datasets.MNIST('/files/', train=False, download=True,\n",
        "                             transform=torchvision.transforms.Compose([\n",
        "                               torchvision.transforms.ToTensor(),\n",
        "                             \n",
        "                             ])),\n",
        "  batch_size=batch_size_test, shuffle=True)\n"
      ],
      "execution_count": 20,
      "outputs": []
    },
    {
      "cell_type": "markdown",
      "metadata": {
        "id": "TqyMFgAlwvi_"
      },
      "source": [
        "Добавим переменные"
      ]
    },
    {
      "cell_type": "markdown",
      "metadata": {
        "id": "SUgxkSi7JzOn"
      },
      "source": [
        "Покажем, что у нас вышло:"
      ]
    },
    {
      "cell_type": "code",
      "metadata": {
        "colab": {
          "base_uri": "https://localhost:8080/"
        },
        "id": "HeMmJxJ3TWDD",
        "outputId": "394a0653-0ce0-4d5d-c618-629e2c25ecfd"
      },
      "source": [
        "examples = enumerate(testloader)\n",
        "batch_idx, (example_data, example_targets) = next(examples)\n",
        "example_data.shape"
      ],
      "execution_count": 21,
      "outputs": [
        {
          "output_type": "execute_result",
          "data": {
            "text/plain": [
              "torch.Size([1000, 1, 28, 28])"
            ]
          },
          "metadata": {
            "tags": []
          },
          "execution_count": 21
        }
      ]
    },
    {
      "cell_type": "code",
      "metadata": {
        "id": "W15naimYwyTL"
      },
      "source": [
        "\n",
        "\n",
        "n_epochs = 3\n",
        "batch_size_train = 64\n",
        "batch_size_test = 1000\n",
        "learning_rate = 0.01\n",
        "momentum = 0.5\n",
        "log_interval = 10\n",
        "\n",
        "network = Net()\n",
        "optimizer = optim.SGD(network.parameters(), lr=learning_rate,\n",
        "                      momentum=momentum)"
      ],
      "execution_count": 22,
      "outputs": []
    },
    {
      "cell_type": "markdown",
      "metadata": {
        "id": "h0MUIk7JJolv"
      },
      "source": [
        "Объявим функции, в которых будем тренировать и тестировать нашу нейронную сеть"
      ]
    },
    {
      "cell_type": "code",
      "metadata": {
        "id": "8kgBCtGeJtM5"
      },
      "source": [
        "from sklearn.metrics import confusion_matrix\n",
        "\n",
        "def train(epoch):\n",
        "  network.train()\n",
        "  accuracy_list = []\n",
        "  for batch_idx, (data, target) in enumerate(dataloader):\n",
        "    optimizer.zero_grad()\n",
        "    output = network(data)\n",
        "    pred = output.data.max(1, keepdim=True)[1]\n",
        "    accuracy_list.append((pred.eq(target.data.view_as(pred)).sum()/len(target.data)).item())\n",
        "    loss = F.nll_loss(output, target)\n",
        "    loss.backward()\n",
        "    optimizer.step()\n",
        "    if batch_idx % log_interval == 0:\n",
        "      train_losses.append(loss.item())\n",
        "      train_counter.append(\n",
        "        (batch_idx*64) + ((epoch-1)*len(dataloader.dataset)))\n",
        "  return sum(accuracy_list)/len(accuracy_list), loss.item()\n",
        "\n",
        "def test():\n",
        "  accuracy_list = []\n",
        "  network.eval()\n",
        "  test_loss = 0\n",
        "  correct = 0\n",
        "  with torch.no_grad():\n",
        "    for data, target in testloader:\n",
        "      output = network(data)\n",
        "      test_loss += F.nll_loss(output, target, size_average=False).item()\n",
        "      pred = output.data.max(1, keepdim=True)[1]\n",
        "      correct += pred.eq(target.data.view_as(pred)).sum()\n",
        "      accuracy = (pred.eq(target.data.view_as(pred)).sum()/len(target.data)).item()\n",
        "      accuracy_list.append(accuracy)\n",
        "  test_loss /= len(testloader.dataset)\n",
        "  test_losses.append(test_loss)\n",
        "  return (sum(accuracy_list)/len(accuracy_list)), test_loss\n",
        "\n",
        "\n",
        "def get_confusion_matrix():\n",
        "  confusion_pred = []\n",
        "  confusion_true = []\n",
        "  network.eval()\n",
        "  test_loss = 0\n",
        "  correct = 0\n",
        "  with torch.no_grad():\n",
        "    for data, target in testloader:\n",
        "      output = network(data)\n",
        "      test_loss += F.nll_loss(output, target, size_average=False).item()\n",
        "      pred = output.data.max(1, keepdim=True)[1]\n",
        "      correct += pred.eq(target.data.view_as(pred)).sum()\n",
        "      confusion_pred += (torch.flatten(pred).tolist())\n",
        "      confusion_true += (torch.flatten(target.data).tolist())\n",
        "  test_loss /= len(testloader.dataset)\n",
        "  test_losses.append(test_loss)\n",
        "  return confusion_pred, confusion_true"
      ],
      "execution_count": 23,
      "outputs": []
    },
    {
      "cell_type": "code",
      "metadata": {
        "colab": {
          "base_uri": "https://localhost:8080/",
          "height": 422
        },
        "id": "v3tjPcwlLQ6O",
        "outputId": "aac1300c-8385-4848-86b2-e45a7441edc1"
      },
      "source": [
        "def plot_training_progress(x, y_data, fig, ax):\n",
        "  styles = ['k--', 'g-']\n",
        "        # remove previous plot\n",
        "  while ax.lines:\n",
        "    ax.lines.pop()\n",
        "  # draw updated lines\n",
        "  for i in range(len(y_data)):\n",
        "    ax.plot(x, y_data[i], styles[i])\n",
        "  ax.legend(ax.lines, ['training accuracy', 'validation accuracy'],\n",
        "              loc='upper center', ncol = 2)\n",
        "\n",
        "train_losses = []\n",
        "train_counter = []\n",
        "test_losses = []\n",
        "accuracy_test = []\n",
        "accuracy_train = []\n",
        "test_counter = [i*len(dataloader.dataset) for i in range(n_epochs + 1)]\n",
        "test()\n",
        "fig, ax = plt.subplots(1, 1)\n",
        "ax.set_xlim(0, n_epochs + 1)\n",
        "ax.set_ylim(0,1)\n",
        "train_acc = np.empty((n_epochs, 3))\n",
        "train_acc[:] = np.NAN\n",
        "valid_acc = np.empty((n_epochs, 3))\n",
        "valid_acc[:] = np.NAN\n",
        "for epoch in range(1, n_epochs + 1):\n",
        "  taccuracy, tloss = train(epoch)\n",
        "  vaccuracy, vloss = test()\n",
        "  train_acc[epoch-1, :] = [epoch, tloss, taccuracy]\n",
        "  valid_acc[epoch-1, :] = [epoch, vloss, vaccuracy]\n",
        "  plot_training_progress(train_acc[:, 0], (train_acc[:, 2],\n",
        "                                                 valid_acc[:, 2]), fig, ax)\n",
        "  fig.canvas.draw()\n",
        "  fig.canvas.flush_events()\n",
        "\n"
      ],
      "execution_count": 24,
      "outputs": [
        {
          "output_type": "stream",
          "text": [
            "/usr/local/lib/python3.7/dist-packages/ipykernel_launcher.py:30: UserWarning: Implicit dimension choice for log_softmax has been deprecated. Change the call to include dim=X as an argument.\n",
            "/usr/local/lib/python3.7/dist-packages/torch/nn/_reduction.py:42: UserWarning: size_average and reduce args will be deprecated, please use reduction='sum' instead.\n",
            "  warnings.warn(warning.format(ret))\n",
            "/usr/local/lib/python3.7/dist-packages/ipykernel_launcher.py:30: UserWarning: Implicit dimension choice for log_softmax has been deprecated. Change the call to include dim=X as an argument.\n",
            "/usr/local/lib/python3.7/dist-packages/torch/nn/_reduction.py:42: UserWarning: size_average and reduce args will be deprecated, please use reduction='sum' instead.\n",
            "  warnings.warn(warning.format(ret))\n",
            "/usr/local/lib/python3.7/dist-packages/ipykernel_launcher.py:30: UserWarning: Implicit dimension choice for log_softmax has been deprecated. Change the call to include dim=X as an argument.\n",
            "/usr/local/lib/python3.7/dist-packages/torch/nn/_reduction.py:42: UserWarning: size_average and reduce args will be deprecated, please use reduction='sum' instead.\n",
            "  warnings.warn(warning.format(ret))\n"
          ],
          "name": "stderr"
        },
        {
          "output_type": "display_data",
          "data": {
            "image/png": "[encoded data removed]",
            "text/plain": [
              "<Figure size 432x288 with 1 Axes>"
            ]
          },
          "metadata": {
            "tags": [],
            "needs_background": "light"
          }
        }
      ]
    },
    {
      "cell_type": "markdown",
      "metadata": {
        "id": "9_YtOowSb6Qh"
      },
      "source": [
        "Теперь построим график функции потерь по нашему обучению:\n"
      ]
    },
    {
      "cell_type": "code",
      "metadata": {
        "colab": {
          "base_uri": "https://localhost:8080/",
          "height": 296
        },
        "id": "uEHtnbYhdCzu",
        "outputId": "550b9190-e300-4fd8-fe15-66be30650bbc"
      },
      "source": [
        "fig = plt.figure()\n",
        "plt.plot(train_counter, train_losses, color='blue')\n",
        "plt.scatter(test_counter, test_losses, color='green')\n",
        "plt.legend(['Train Loss', 'Test Loss'], loc='upper right')\n",
        "plt.xlabel('number of training examples seen')\n",
        "plt.ylabel('negative log likelihood loss')"
      ],
      "execution_count": 25,
      "outputs": [
        {
          "output_type": "execute_result",
          "data": {
            "text/plain": [
              "Text(0, 0.5, 'negative log likelihood loss')"
            ]
          },
          "metadata": {
            "tags": []
          },
          "execution_count": 25
        },
        {
          "output_type": "display_data",
          "data": {
            "image/png": "[encoded data removed]",
            "text/plain": [
              "<Figure size 432x288 with 1 Axes>"
            ]
          },
          "metadata": {
            "tags": [],
            "needs_background": "light"
          }
        }
      ]
    },
    {
      "cell_type": "markdown",
      "metadata": {
        "id": "FTk3zKjJwtNb"
      },
      "source": [
        "Таким образом я увидел, что pyTorch уже содержит базовые наборы данных, содержит базовые конструкции для нейросетей, и с помощью него можно быстро реализовать персептрон. Базовые датасеты можно быстро и легко научить распознавать с довольно высокой точностью"
      ]
    }
  ]
}