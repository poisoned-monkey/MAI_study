{
  "nbformat": 4,
  "nbformat_minor": 0,
  "metadata": {
    "colab": {
      "name": "Mult_2.ipynb",
      "provenance": [],
      "collapsed_sections": []
    },
    "hide_input": false,
    "kernelspec": {
      "display_name": "Python 3",
      "language": "python",
      "name": "python3"
    },
    "language_info": {
      "codemirror_mode": {
        "name": "ipython",
        "version": 3
      },
      "file_extension": ".py",
      "mimetype": "text/x-python",
      "name": "python",
      "nbconvert_exporter": "python",
      "pygments_lexer": "ipython3",
      "version": "3.7.4"
    },
    "varInspector": {
      "cols": {
        "lenName": 16,
        "lenType": 16,
        "lenVar": 40
      },
      "kernels_config": {
        "python": {
          "delete_cmd_postfix": "",
          "delete_cmd_prefix": "del ",
          "library": "var_list.py",
          "varRefreshCmd": "print(var_dic_list())"
        },
        "r": {
          "delete_cmd_postfix": ") ",
          "delete_cmd_prefix": "rm(",
          "library": "var_list.r",
          "varRefreshCmd": "cat(var_dic_list()) "
        }
      },
      "types_to_exclude": [
        "module",
        "function",
        "builtin_function_or_method",
        "instance",
        "_Feature"
      ],
      "window_display": false
    }
  },
  "cells": [
    {
      "cell_type": "markdown",
      "source": [
        "Лабораторная работа №2 студента группы М8О-406Б-18 Кузьмичева Александра"
      ],
      "metadata": {
        "id": "l2Y83E4YTNs8"
      }
    },
    {
      "cell_type": "markdown",
      "metadata": {
        "id": "R3EqSOCRy3et"
      },
      "source": [
        "## Данные\n",
        "\n",
        "Данные -  https://www.kaggle.com/ramamet4/app-store-apple-data-set-10k-apps\n",
        "Необходимо предсказать рейтинг приложения "
      ]
    },
    {
      "cell_type": "code",
      "metadata": {
        "id": "yxBPiW79y3ew"
      },
      "source": [
        "import pandas as pd\n",
        "import numpy as np\n",
        "from matplotlib import pyplot as plt"
      ],
      "execution_count": null,
      "outputs": []
    },
    {
      "cell_type": "code",
      "metadata": {
        "id": "oTzHxNFcy3e1",
        "colab": {
          "base_uri": "https://localhost:8080/",
          "height": 434
        },
        "outputId": "88b7d1aa-cbf6-4218-fb72-91c91bc97dac"
      },
      "source": [
        "data = pd.read_csv('./AppleStore.csv')\n",
        "data.head()"
      ],
      "execution_count": null,
      "outputs": [
        {
          "output_type": "execute_result",
          "data": {
            "text/html": [
              "<div>\n",
              "<style scoped>\n",
              "    .dataframe tbody tr th:only-of-type {\n",
              "        vertical-align: middle;\n",
              "    }\n",
              "\n",
              "    .dataframe tbody tr th {\n",
              "        vertical-align: top;\n",
              "    }\n",
              "\n",
              "    .dataframe thead th {\n",
              "        text-align: right;\n",
              "    }\n",
              "</style>\n",
              "<table border=\"1\" class=\"dataframe\">\n",
              "  <thead>\n",
              "    <tr style=\"text-align: right;\">\n",
              "      <th></th>\n",
              "      <th>Unnamed: 0</th>\n",
              "      <th>id</th>\n",
              "      <th>track_name</th>\n",
              "      <th>size_bytes</th>\n",
              "      <th>currency</th>\n",
              "      <th>price</th>\n",
              "      <th>rating_count_tot</th>\n",
              "      <th>rating_count_ver</th>\n",
              "      <th>user_rating</th>\n",
              "      <th>user_rating_ver</th>\n",
              "      <th>ver</th>\n",
              "      <th>cont_rating</th>\n",
              "      <th>prime_genre</th>\n",
              "      <th>sup_devices.num</th>\n",
              "      <th>ipadSc_urls.num</th>\n",
              "      <th>lang.num</th>\n",
              "      <th>vpp_lic</th>\n",
              "    </tr>\n",
              "  </thead>\n",
              "  <tbody>\n",
              "    <tr>\n",
              "      <th>0</th>\n",
              "      <td>1</td>\n",
              "      <td>281656475</td>\n",
              "      <td>PAC-MAN Premium</td>\n",
              "      <td>100788224</td>\n",
              "      <td>USD</td>\n",
              "      <td>3.99</td>\n",
              "      <td>21292</td>\n",
              "      <td>26</td>\n",
              "      <td>4.0</td>\n",
              "      <td>4.5</td>\n",
              "      <td>6.3.5</td>\n",
              "      <td>4+</td>\n",
              "      <td>Games</td>\n",
              "      <td>38</td>\n",
              "      <td>5</td>\n",
              "      <td>10</td>\n",
              "      <td>1</td>\n",
              "    </tr>\n",
              "    <tr>\n",
              "      <th>1</th>\n",
              "      <td>2</td>\n",
              "      <td>281796108</td>\n",
              "      <td>Evernote - stay organized</td>\n",
              "      <td>158578688</td>\n",
              "      <td>USD</td>\n",
              "      <td>0.00</td>\n",
              "      <td>161065</td>\n",
              "      <td>26</td>\n",
              "      <td>4.0</td>\n",
              "      <td>3.5</td>\n",
              "      <td>8.2.2</td>\n",
              "      <td>4+</td>\n",
              "      <td>Productivity</td>\n",
              "      <td>37</td>\n",
              "      <td>5</td>\n",
              "      <td>23</td>\n",
              "      <td>1</td>\n",
              "    </tr>\n",
              "    <tr>\n",
              "      <th>2</th>\n",
              "      <td>3</td>\n",
              "      <td>281940292</td>\n",
              "      <td>WeatherBug - Local Weather, Radar, Maps, Alerts</td>\n",
              "      <td>100524032</td>\n",
              "      <td>USD</td>\n",
              "      <td>0.00</td>\n",
              "      <td>188583</td>\n",
              "      <td>2822</td>\n",
              "      <td>3.5</td>\n",
              "      <td>4.5</td>\n",
              "      <td>5.0.0</td>\n",
              "      <td>4+</td>\n",
              "      <td>Weather</td>\n",
              "      <td>37</td>\n",
              "      <td>5</td>\n",
              "      <td>3</td>\n",
              "      <td>1</td>\n",
              "    </tr>\n",
              "    <tr>\n",
              "      <th>3</th>\n",
              "      <td>4</td>\n",
              "      <td>282614216</td>\n",
              "      <td>eBay: Best App to Buy, Sell, Save! Online Shop...</td>\n",
              "      <td>128512000</td>\n",
              "      <td>USD</td>\n",
              "      <td>0.00</td>\n",
              "      <td>262241</td>\n",
              "      <td>649</td>\n",
              "      <td>4.0</td>\n",
              "      <td>4.5</td>\n",
              "      <td>5.10.0</td>\n",
              "      <td>12+</td>\n",
              "      <td>Shopping</td>\n",
              "      <td>37</td>\n",
              "      <td>5</td>\n",
              "      <td>9</td>\n",
              "      <td>1</td>\n",
              "    </tr>\n",
              "    <tr>\n",
              "      <th>4</th>\n",
              "      <td>5</td>\n",
              "      <td>282935706</td>\n",
              "      <td>Bible</td>\n",
              "      <td>92774400</td>\n",
              "      <td>USD</td>\n",
              "      <td>0.00</td>\n",
              "      <td>985920</td>\n",
              "      <td>5320</td>\n",
              "      <td>4.5</td>\n",
              "      <td>5.0</td>\n",
              "      <td>7.5.1</td>\n",
              "      <td>4+</td>\n",
              "      <td>Reference</td>\n",
              "      <td>37</td>\n",
              "      <td>5</td>\n",
              "      <td>45</td>\n",
              "      <td>1</td>\n",
              "    </tr>\n",
              "  </tbody>\n",
              "</table>\n",
              "</div>"
            ],
            "text/plain": [
              "   Unnamed: 0         id  ... lang.num  vpp_lic\n",
              "0           1  281656475  ...       10        1\n",
              "1           2  281796108  ...       23        1\n",
              "2           3  281940292  ...        3        1\n",
              "3           4  282614216  ...        9        1\n",
              "4           5  282935706  ...       45        1\n",
              "\n",
              "[5 rows x 17 columns]"
            ]
          },
          "metadata": {},
          "execution_count": 3
        }
      ]
    },
    {
      "cell_type": "markdown",
      "metadata": {
        "id": "dxAbj4ONy3e6"
      },
      "source": [
        "Поделим фичи на числовые и категориальные\n"
      ]
    },
    {
      "cell_type": "code",
      "metadata": {
        "id": "AdvU1awHy3e7"
      },
      "source": [
        "num_cols = [\n",
        "    'size_bytes',\n",
        "    'price',\n",
        "    'rating_count_tot',\n",
        "    'rating_count_ver',\n",
        "    'sup_devices.num',\n",
        "    'ipadSc_urls.num',\n",
        "    'lang.num',\n",
        "    'cont_rating',\n",
        "]\n",
        "\n",
        "cat_cols = [\n",
        "    'currency',\n",
        "    'prime_genre'\n",
        "]\n",
        "\n",
        "target_col = 'user_rating'\n",
        "\n",
        "cols = num_cols + cat_cols + [target_col]"
      ],
      "execution_count": null,
      "outputs": []
    },
    {
      "cell_type": "code",
      "metadata": {
        "id": "6uCVQEzNy3fB",
        "scrolled": false,
        "colab": {
          "base_uri": "https://localhost:8080/",
          "height": 206
        },
        "outputId": "8e934d64-a180-4458-d1aa-c4f912ec894f"
      },
      "source": [
        "data = data[cols]\n",
        "data['cont_rating'] = data['cont_rating'].str.slice(0, -1).astype(int)\n",
        "data.head()"
      ],
      "execution_count": null,
      "outputs": [
        {
          "output_type": "execute_result",
          "data": {
            "text/html": [
              "<div>\n",
              "<style scoped>\n",
              "    .dataframe tbody tr th:only-of-type {\n",
              "        vertical-align: middle;\n",
              "    }\n",
              "\n",
              "    .dataframe tbody tr th {\n",
              "        vertical-align: top;\n",
              "    }\n",
              "\n",
              "    .dataframe thead th {\n",
              "        text-align: right;\n",
              "    }\n",
              "</style>\n",
              "<table border=\"1\" class=\"dataframe\">\n",
              "  <thead>\n",
              "    <tr style=\"text-align: right;\">\n",
              "      <th></th>\n",
              "      <th>size_bytes</th>\n",
              "      <th>price</th>\n",
              "      <th>rating_count_tot</th>\n",
              "      <th>rating_count_ver</th>\n",
              "      <th>sup_devices.num</th>\n",
              "      <th>ipadSc_urls.num</th>\n",
              "      <th>lang.num</th>\n",
              "      <th>cont_rating</th>\n",
              "      <th>currency</th>\n",
              "      <th>prime_genre</th>\n",
              "      <th>user_rating</th>\n",
              "    </tr>\n",
              "  </thead>\n",
              "  <tbody>\n",
              "    <tr>\n",
              "      <th>0</th>\n",
              "      <td>100788224</td>\n",
              "      <td>3.99</td>\n",
              "      <td>21292</td>\n",
              "      <td>26</td>\n",
              "      <td>38</td>\n",
              "      <td>5</td>\n",
              "      <td>10</td>\n",
              "      <td>4</td>\n",
              "      <td>USD</td>\n",
              "      <td>Games</td>\n",
              "      <td>4.0</td>\n",
              "    </tr>\n",
              "    <tr>\n",
              "      <th>1</th>\n",
              "      <td>158578688</td>\n",
              "      <td>0.00</td>\n",
              "      <td>161065</td>\n",
              "      <td>26</td>\n",
              "      <td>37</td>\n",
              "      <td>5</td>\n",
              "      <td>23</td>\n",
              "      <td>4</td>\n",
              "      <td>USD</td>\n",
              "      <td>Productivity</td>\n",
              "      <td>4.0</td>\n",
              "    </tr>\n",
              "    <tr>\n",
              "      <th>2</th>\n",
              "      <td>100524032</td>\n",
              "      <td>0.00</td>\n",
              "      <td>188583</td>\n",
              "      <td>2822</td>\n",
              "      <td>37</td>\n",
              "      <td>5</td>\n",
              "      <td>3</td>\n",
              "      <td>4</td>\n",
              "      <td>USD</td>\n",
              "      <td>Weather</td>\n",
              "      <td>3.5</td>\n",
              "    </tr>\n",
              "    <tr>\n",
              "      <th>3</th>\n",
              "      <td>128512000</td>\n",
              "      <td>0.00</td>\n",
              "      <td>262241</td>\n",
              "      <td>649</td>\n",
              "      <td>37</td>\n",
              "      <td>5</td>\n",
              "      <td>9</td>\n",
              "      <td>12</td>\n",
              "      <td>USD</td>\n",
              "      <td>Shopping</td>\n",
              "      <td>4.0</td>\n",
              "    </tr>\n",
              "    <tr>\n",
              "      <th>4</th>\n",
              "      <td>92774400</td>\n",
              "      <td>0.00</td>\n",
              "      <td>985920</td>\n",
              "      <td>5320</td>\n",
              "      <td>37</td>\n",
              "      <td>5</td>\n",
              "      <td>45</td>\n",
              "      <td>4</td>\n",
              "      <td>USD</td>\n",
              "      <td>Reference</td>\n",
              "      <td>4.5</td>\n",
              "    </tr>\n",
              "  </tbody>\n",
              "</table>\n",
              "</div>"
            ],
            "text/plain": [
              "   size_bytes  price  rating_count_tot  ...  currency   prime_genre  user_rating\n",
              "0   100788224   3.99             21292  ...       USD         Games          4.0\n",
              "1   158578688   0.00            161065  ...       USD  Productivity          4.0\n",
              "2   100524032   0.00            188583  ...       USD       Weather          3.5\n",
              "3   128512000   0.00            262241  ...       USD      Shopping          4.0\n",
              "4    92774400   0.00            985920  ...       USD     Reference          4.5\n",
              "\n",
              "[5 rows x 11 columns]"
            ]
          },
          "metadata": {},
          "execution_count": 5
        }
      ]
    },
    {
      "cell_type": "code",
      "metadata": {
        "id": "SC7qkIi8y3fF",
        "colab": {
          "base_uri": "https://localhost:8080/"
        },
        "outputId": "3e18da5f-f723-4f9e-e533-7d2d0da26857"
      },
      "source": [
        "data.isna().mean()"
      ],
      "execution_count": null,
      "outputs": [
        {
          "output_type": "execute_result",
          "data": {
            "text/plain": [
              "size_bytes          0.0\n",
              "price               0.0\n",
              "rating_count_tot    0.0\n",
              "rating_count_ver    0.0\n",
              "sup_devices.num     0.0\n",
              "ipadSc_urls.num     0.0\n",
              "lang.num            0.0\n",
              "cont_rating         0.0\n",
              "currency            0.0\n",
              "prime_genre         0.0\n",
              "user_rating         0.0\n",
              "dtype: float64"
            ]
          },
          "metadata": {},
          "execution_count": 6
        }
      ]
    },
    {
      "cell_type": "code",
      "metadata": {
        "id": "3_JPQiJ_y3fJ",
        "colab": {
          "base_uri": "https://localhost:8080/"
        },
        "outputId": "6c5cd2c3-372a-4cdf-93bd-b0fc01ae5032"
      },
      "source": [
        "# распределение категориальных фичей\n",
        "for col in cat_cols:\n",
        "    print(f\"{col} DISTRIBUTION\")\n",
        "    print(data[col].value_counts())\n",
        "    print()"
      ],
      "execution_count": null,
      "outputs": [
        {
          "output_type": "stream",
          "name": "stdout",
          "text": [
            "currency DISTRIBUTION\n",
            "USD    7197\n",
            "Name: currency, dtype: int64\n",
            "\n",
            "prime_genre DISTRIBUTION\n",
            "Games                3862\n",
            "Entertainment         535\n",
            "Education             453\n",
            "Photo & Video         349\n",
            "Utilities             248\n",
            "Health & Fitness      180\n",
            "Productivity          178\n",
            "Social Networking     167\n",
            "Lifestyle             144\n",
            "Music                 138\n",
            "Shopping              122\n",
            "Sports                114\n",
            "Book                  112\n",
            "Finance               104\n",
            "Travel                 81\n",
            "News                   75\n",
            "Weather                72\n",
            "Reference              64\n",
            "Food & Drink           63\n",
            "Business               57\n",
            "Navigation             46\n",
            "Medical                23\n",
            "Catalogs               10\n",
            "Name: prime_genre, dtype: int64\n",
            "\n"
          ]
        }
      ]
    },
    {
      "cell_type": "code",
      "metadata": {
        "id": "csl-6myHy3fN"
      },
      "source": [
        "#в колонке currency только одно значение, можно колонку убрать\n",
        "data = data.drop(columns=['currency'])\n",
        "cat_cols.remove('currency')"
      ],
      "execution_count": null,
      "outputs": []
    },
    {
      "cell_type": "code",
      "metadata": {
        "id": "l2p5nTDFy3fU",
        "scrolled": false,
        "colab": {
          "base_uri": "https://localhost:8080/",
          "height": 607
        },
        "outputId": "2a054d72-cf3b-4081-9da7-ad58f1d64072"
      },
      "source": [
        "#распредление величин\n",
        "data.hist(column=num_cols+cat_cols+[target_col], figsize=(14, 10))\n",
        "None"
      ],
      "execution_count": null,
      "outputs": [
        {
          "output_type": "display_data",
          "data": {
            "image/png": "[encoded data removed]",
            "text/plain": [
              "<Figure size 1008x720 with 9 Axes>"
            ]
          },
          "metadata": {
            "needs_background": "light"
          }
        }
      ]
    },
    {
      "cell_type": "markdown",
      "metadata": {
        "id": "W1mNkeiUy3fZ"
      },
      "source": [
        "А теперь посмотрим на корреляции между фичами"
      ]
    },
    {
      "cell_type": "code",
      "metadata": {
        "id": "pZw73JW0y3fa",
        "scrolled": true,
        "colab": {
          "base_uri": "https://localhost:8080/",
          "height": 233
        },
        "outputId": "174345de-a6d0-42a0-e724-eac86593b83e"
      },
      "source": [
        "data.corr().style.background_gradient(cmap='coolwarm').set_precision(2)"
      ],
      "execution_count": null,
      "outputs": [
        {
          "output_type": "execute_result",
          "data": {
            "text/html": [
              "<style  type=\"text/css\" >\n",
              "#T_1c0d40b2_2d2d_11ec_84a2_0242ac1c0002row0_col0,#T_1c0d40b2_2d2d_11ec_84a2_0242ac1c0002row1_col1,#T_1c0d40b2_2d2d_11ec_84a2_0242ac1c0002row2_col2,#T_1c0d40b2_2d2d_11ec_84a2_0242ac1c0002row3_col3,#T_1c0d40b2_2d2d_11ec_84a2_0242ac1c0002row4_col4,#T_1c0d40b2_2d2d_11ec_84a2_0242ac1c0002row5_col5,#T_1c0d40b2_2d2d_11ec_84a2_0242ac1c0002row6_col6,#T_1c0d40b2_2d2d_11ec_84a2_0242ac1c0002row7_col7,#T_1c0d40b2_2d2d_11ec_84a2_0242ac1c0002row8_col8{\n",
              "            background-color:  #b40426;\n",
              "            color:  #f1f1f1;\n",
              "        }#T_1c0d40b2_2d2d_11ec_84a2_0242ac1c0002row0_col1,#T_1c0d40b2_2d2d_11ec_84a2_0242ac1c0002row1_col0{\n",
              "            background-color:  #93b5fe;\n",
              "            color:  #000000;\n",
              "        }#T_1c0d40b2_2d2d_11ec_84a2_0242ac1c0002row0_col2,#T_1c0d40b2_2d2d_11ec_84a2_0242ac1c0002row5_col3{\n",
              "            background-color:  #465ecf;\n",
              "            color:  #f1f1f1;\n",
              "        }#T_1c0d40b2_2d2d_11ec_84a2_0242ac1c0002row0_col3,#T_1c0d40b2_2d2d_11ec_84a2_0242ac1c0002row4_col6{\n",
              "            background-color:  #4257c9;\n",
              "            color:  #f1f1f1;\n",
              "        }#T_1c0d40b2_2d2d_11ec_84a2_0242ac1c0002row0_col4,#T_1c0d40b2_2d2d_11ec_84a2_0242ac1c0002row1_col2,#T_1c0d40b2_2d2d_11ec_84a2_0242ac1c0002row1_col3,#T_1c0d40b2_2d2d_11ec_84a2_0242ac1c0002row1_col4,#T_1c0d40b2_2d2d_11ec_84a2_0242ac1c0002row4_col0,#T_1c0d40b2_2d2d_11ec_84a2_0242ac1c0002row4_col1,#T_1c0d40b2_2d2d_11ec_84a2_0242ac1c0002row5_col7,#T_1c0d40b2_2d2d_11ec_84a2_0242ac1c0002row7_col5,#T_1c0d40b2_2d2d_11ec_84a2_0242ac1c0002row7_col6,#T_1c0d40b2_2d2d_11ec_84a2_0242ac1c0002row7_col8{\n",
              "            background-color:  #3b4cc0;\n",
              "            color:  #f1f1f1;\n",
              "        }#T_1c0d40b2_2d2d_11ec_84a2_0242ac1c0002row0_col5{\n",
              "            background-color:  #88abfd;\n",
              "            color:  #000000;\n",
              "        }#T_1c0d40b2_2d2d_11ec_84a2_0242ac1c0002row0_col6,#T_1c0d40b2_2d2d_11ec_84a2_0242ac1c0002row2_col1,#T_1c0d40b2_2d2d_11ec_84a2_0242ac1c0002row6_col4,#T_1c0d40b2_2d2d_11ec_84a2_0242ac1c0002row8_col4{\n",
              "            background-color:  #4f69d9;\n",
              "            color:  #000000;\n",
              "        }#T_1c0d40b2_2d2d_11ec_84a2_0242ac1c0002row0_col7,#T_1c0d40b2_2d2d_11ec_84a2_0242ac1c0002row8_col6{\n",
              "            background-color:  #84a7fc;\n",
              "            color:  #000000;\n",
              "        }#T_1c0d40b2_2d2d_11ec_84a2_0242ac1c0002row0_col8,#T_1c0d40b2_2d2d_11ec_84a2_0242ac1c0002row3_col8{\n",
              "            background-color:  #6a8bef;\n",
              "            color:  #000000;\n",
              "        }#T_1c0d40b2_2d2d_11ec_84a2_0242ac1c0002row1_col5{\n",
              "            background-color:  #6c8ff1;\n",
              "            color:  #000000;\n",
              "        }#T_1c0d40b2_2d2d_11ec_84a2_0242ac1c0002row1_col6{\n",
              "            background-color:  #4c66d6;\n",
              "            color:  #000000;\n",
              "        }#T_1c0d40b2_2d2d_11ec_84a2_0242ac1c0002row1_col7,#T_1c0d40b2_2d2d_11ec_84a2_0242ac1c0002row5_col4{\n",
              "            background-color:  #506bda;\n",
              "            color:  #000000;\n",
              "        }#T_1c0d40b2_2d2d_11ec_84a2_0242ac1c0002row1_col8{\n",
              "            background-color:  #6384eb;\n",
              "            color:  #000000;\n",
              "        }#T_1c0d40b2_2d2d_11ec_84a2_0242ac1c0002row2_col0,#T_1c0d40b2_2d2d_11ec_84a2_0242ac1c0002row2_col5,#T_1c0d40b2_2d2d_11ec_84a2_0242ac1c0002row3_col0,#T_1c0d40b2_2d2d_11ec_84a2_0242ac1c0002row6_col0{\n",
              "            background-color:  #5d7ce6;\n",
              "            color:  #000000;\n",
              "        }#T_1c0d40b2_2d2d_11ec_84a2_0242ac1c0002row2_col3,#T_1c0d40b2_2d2d_11ec_84a2_0242ac1c0002row6_col5{\n",
              "            background-color:  #7396f5;\n",
              "            color:  #000000;\n",
              "        }#T_1c0d40b2_2d2d_11ec_84a2_0242ac1c0002row2_col4,#T_1c0d40b2_2d2d_11ec_84a2_0242ac1c0002row4_col7{\n",
              "            background-color:  #5e7de7;\n",
              "            color:  #000000;\n",
              "        }#T_1c0d40b2_2d2d_11ec_84a2_0242ac1c0002row2_col6,#T_1c0d40b2_2d2d_11ec_84a2_0242ac1c0002row3_col2{\n",
              "            background-color:  #799cf8;\n",
              "            color:  #000000;\n",
              "        }#T_1c0d40b2_2d2d_11ec_84a2_0242ac1c0002row2_col7{\n",
              "            background-color:  #5b7ae5;\n",
              "            color:  #000000;\n",
              "        }#T_1c0d40b2_2d2d_11ec_84a2_0242ac1c0002row2_col8,#T_1c0d40b2_2d2d_11ec_84a2_0242ac1c0002row8_col0{\n",
              "            background-color:  #6f92f3;\n",
              "            color:  #000000;\n",
              "        }#T_1c0d40b2_2d2d_11ec_84a2_0242ac1c0002row3_col1{\n",
              "            background-color:  #5572df;\n",
              "            color:  #000000;\n",
              "        }#T_1c0d40b2_2d2d_11ec_84a2_0242ac1c0002row3_col4{\n",
              "            background-color:  #6687ed;\n",
              "            color:  #000000;\n",
              "        }#T_1c0d40b2_2d2d_11ec_84a2_0242ac1c0002row3_col5,#T_1c0d40b2_2d2d_11ec_84a2_0242ac1c0002row8_col2{\n",
              "            background-color:  #5f7fe8;\n",
              "            color:  #000000;\n",
              "        }#T_1c0d40b2_2d2d_11ec_84a2_0242ac1c0002row3_col6,#T_1c0d40b2_2d2d_11ec_84a2_0242ac1c0002row7_col1{\n",
              "            background-color:  #516ddb;\n",
              "            color:  #000000;\n",
              "        }#T_1c0d40b2_2d2d_11ec_84a2_0242ac1c0002row3_col7{\n",
              "            background-color:  #5977e3;\n",
              "            color:  #000000;\n",
              "        }#T_1c0d40b2_2d2d_11ec_84a2_0242ac1c0002row4_col2,#T_1c0d40b2_2d2d_11ec_84a2_0242ac1c0002row7_col2{\n",
              "            background-color:  #485fd1;\n",
              "            color:  #f1f1f1;\n",
              "        }#T_1c0d40b2_2d2d_11ec_84a2_0242ac1c0002row4_col3{\n",
              "            background-color:  #4b64d5;\n",
              "            color:  #f1f1f1;\n",
              "        }#T_1c0d40b2_2d2d_11ec_84a2_0242ac1c0002row4_col5{\n",
              "            background-color:  #4e68d8;\n",
              "            color:  #000000;\n",
              "        }#T_1c0d40b2_2d2d_11ec_84a2_0242ac1c0002row4_col8{\n",
              "            background-color:  #4961d2;\n",
              "            color:  #f1f1f1;\n",
              "        }#T_1c0d40b2_2d2d_11ec_84a2_0242ac1c0002row5_col0,#T_1c0d40b2_2d2d_11ec_84a2_0242ac1c0002row6_col8{\n",
              "            background-color:  #8badfd;\n",
              "            color:  #000000;\n",
              "        }#T_1c0d40b2_2d2d_11ec_84a2_0242ac1c0002row5_col1{\n",
              "            background-color:  #6e90f2;\n",
              "            color:  #000000;\n",
              "        }#T_1c0d40b2_2d2d_11ec_84a2_0242ac1c0002row5_col2{\n",
              "            background-color:  #4a63d3;\n",
              "            color:  #f1f1f1;\n",
              "        }#T_1c0d40b2_2d2d_11ec_84a2_0242ac1c0002row5_col6,#T_1c0d40b2_2d2d_11ec_84a2_0242ac1c0002row8_col1{\n",
              "            background-color:  #688aef;\n",
              "            color:  #000000;\n",
              "        }#T_1c0d40b2_2d2d_11ec_84a2_0242ac1c0002row5_col8{\n",
              "            background-color:  #a9c6fd;\n",
              "            color:  #000000;\n",
              "        }#T_1c0d40b2_2d2d_11ec_84a2_0242ac1c0002row6_col1{\n",
              "            background-color:  #5875e1;\n",
              "            color:  #000000;\n",
              "        }#T_1c0d40b2_2d2d_11ec_84a2_0242ac1c0002row6_col2{\n",
              "            background-color:  #7093f3;\n",
              "            color:  #000000;\n",
              "        }#T_1c0d40b2_2d2d_11ec_84a2_0242ac1c0002row6_col3{\n",
              "            background-color:  #4358cb;\n",
              "            color:  #f1f1f1;\n",
              "        }#T_1c0d40b2_2d2d_11ec_84a2_0242ac1c0002row6_col7{\n",
              "            background-color:  #445acc;\n",
              "            color:  #f1f1f1;\n",
              "        }#T_1c0d40b2_2d2d_11ec_84a2_0242ac1c0002row7_col0{\n",
              "            background-color:  #86a9fc;\n",
              "            color:  #000000;\n",
              "        }#T_1c0d40b2_2d2d_11ec_84a2_0242ac1c0002row7_col3{\n",
              "            background-color:  #3f53c6;\n",
              "            color:  #f1f1f1;\n",
              "        }#T_1c0d40b2_2d2d_11ec_84a2_0242ac1c0002row7_col4{\n",
              "            background-color:  #6180e9;\n",
              "            color:  #000000;\n",
              "        }#T_1c0d40b2_2d2d_11ec_84a2_0242ac1c0002row8_col3{\n",
              "            background-color:  #5470de;\n",
              "            color:  #000000;\n",
              "        }#T_1c0d40b2_2d2d_11ec_84a2_0242ac1c0002row8_col5{\n",
              "            background-color:  #abc8fd;\n",
              "            color:  #000000;\n",
              "        }#T_1c0d40b2_2d2d_11ec_84a2_0242ac1c0002row8_col7{\n",
              "            background-color:  #3d50c3;\n",
              "            color:  #f1f1f1;\n",
              "        }</style><table id=\"T_1c0d40b2_2d2d_11ec_84a2_0242ac1c0002\" ><thead>    <tr>        <th class=\"blank level0\" ></th>        <th class=\"col_heading level0 col0\" >size_bytes</th>        <th class=\"col_heading level0 col1\" >price</th>        <th class=\"col_heading level0 col2\" >rating_count_tot</th>        <th class=\"col_heading level0 col3\" >rating_count_ver</th>        <th class=\"col_heading level0 col4\" >sup_devices.num</th>        <th class=\"col_heading level0 col5\" >ipadSc_urls.num</th>        <th class=\"col_heading level0 col6\" >lang.num</th>        <th class=\"col_heading level0 col7\" >cont_rating</th>        <th class=\"col_heading level0 col8\" >user_rating</th>    </tr></thead><tbody>\n",
              "                <tr>\n",
              "                        <th id=\"T_1c0d40b2_2d2d_11ec_84a2_0242ac1c0002level0_row0\" class=\"row_heading level0 row0\" >size_bytes</th>\n",
              "                        <td id=\"T_1c0d40b2_2d2d_11ec_84a2_0242ac1c0002row0_col0\" class=\"data row0 col0\" >1.00</td>\n",
              "                        <td id=\"T_1c0d40b2_2d2d_11ec_84a2_0242ac1c0002row0_col1\" class=\"data row0 col1\" >0.18</td>\n",
              "                        <td id=\"T_1c0d40b2_2d2d_11ec_84a2_0242ac1c0002row0_col2\" class=\"data row0 col2\" >0.00</td>\n",
              "                        <td id=\"T_1c0d40b2_2d2d_11ec_84a2_0242ac1c0002row0_col3\" class=\"data row0 col3\" >0.01</td>\n",
              "                        <td id=\"T_1c0d40b2_2d2d_11ec_84a2_0242ac1c0002row0_col4\" class=\"data row0 col4\" >-0.12</td>\n",
              "                        <td id=\"T_1c0d40b2_2d2d_11ec_84a2_0242ac1c0002row0_col5\" class=\"data row0 col5\" >0.15</td>\n",
              "                        <td id=\"T_1c0d40b2_2d2d_11ec_84a2_0242ac1c0002row0_col6\" class=\"data row0 col6\" >0.00</td>\n",
              "                        <td id=\"T_1c0d40b2_2d2d_11ec_84a2_0242ac1c0002row0_col7\" class=\"data row0 col7\" >0.14</td>\n",
              "                        <td id=\"T_1c0d40b2_2d2d_11ec_84a2_0242ac1c0002row0_col8\" class=\"data row0 col8\" >0.07</td>\n",
              "            </tr>\n",
              "            <tr>\n",
              "                        <th id=\"T_1c0d40b2_2d2d_11ec_84a2_0242ac1c0002level0_row1\" class=\"row_heading level0 row1\" >price</th>\n",
              "                        <td id=\"T_1c0d40b2_2d2d_11ec_84a2_0242ac1c0002row1_col0\" class=\"data row1 col0\" >0.18</td>\n",
              "                        <td id=\"T_1c0d40b2_2d2d_11ec_84a2_0242ac1c0002row1_col1\" class=\"data row1 col1\" >1.00</td>\n",
              "                        <td id=\"T_1c0d40b2_2d2d_11ec_84a2_0242ac1c0002row1_col2\" class=\"data row1 col2\" >-0.04</td>\n",
              "                        <td id=\"T_1c0d40b2_2d2d_11ec_84a2_0242ac1c0002row1_col3\" class=\"data row1 col3\" >-0.02</td>\n",
              "                        <td id=\"T_1c0d40b2_2d2d_11ec_84a2_0242ac1c0002row1_col4\" class=\"data row1 col4\" >-0.12</td>\n",
              "                        <td id=\"T_1c0d40b2_2d2d_11ec_84a2_0242ac1c0002row1_col5\" class=\"data row1 col5\" >0.07</td>\n",
              "                        <td id=\"T_1c0d40b2_2d2d_11ec_84a2_0242ac1c0002row1_col6\" class=\"data row1 col6\" >-0.01</td>\n",
              "                        <td id=\"T_1c0d40b2_2d2d_11ec_84a2_0242ac1c0002row1_col7\" class=\"data row1 col7\" >-0.03</td>\n",
              "                        <td id=\"T_1c0d40b2_2d2d_11ec_84a2_0242ac1c0002row1_col8\" class=\"data row1 col8\" >0.05</td>\n",
              "            </tr>\n",
              "            <tr>\n",
              "                        <th id=\"T_1c0d40b2_2d2d_11ec_84a2_0242ac1c0002level0_row2\" class=\"row_heading level0 row2\" >rating_count_tot</th>\n",
              "                        <td id=\"T_1c0d40b2_2d2d_11ec_84a2_0242ac1c0002row2_col0\" class=\"data row2 col0\" >0.00</td>\n",
              "                        <td id=\"T_1c0d40b2_2d2d_11ec_84a2_0242ac1c0002row2_col1\" class=\"data row2 col1\" >-0.04</td>\n",
              "                        <td id=\"T_1c0d40b2_2d2d_11ec_84a2_0242ac1c0002row2_col2\" class=\"data row2 col2\" >1.00</td>\n",
              "                        <td id=\"T_1c0d40b2_2d2d_11ec_84a2_0242ac1c0002row2_col3\" class=\"data row2 col3\" >0.16</td>\n",
              "                        <td id=\"T_1c0d40b2_2d2d_11ec_84a2_0242ac1c0002row2_col4\" class=\"data row2 col4\" >0.01</td>\n",
              "                        <td id=\"T_1c0d40b2_2d2d_11ec_84a2_0242ac1c0002row2_col5\" class=\"data row2 col5\" >0.02</td>\n",
              "                        <td id=\"T_1c0d40b2_2d2d_11ec_84a2_0242ac1c0002row2_col6\" class=\"data row2 col6\" >0.14</td>\n",
              "                        <td id=\"T_1c0d40b2_2d2d_11ec_84a2_0242ac1c0002row2_col7\" class=\"data row2 col7\" >0.01</td>\n",
              "                        <td id=\"T_1c0d40b2_2d2d_11ec_84a2_0242ac1c0002row2_col8\" class=\"data row2 col8\" >0.08</td>\n",
              "            </tr>\n",
              "            <tr>\n",
              "                        <th id=\"T_1c0d40b2_2d2d_11ec_84a2_0242ac1c0002level0_row3\" class=\"row_heading level0 row3\" >rating_count_ver</th>\n",
              "                        <td id=\"T_1c0d40b2_2d2d_11ec_84a2_0242ac1c0002row3_col0\" class=\"data row3 col0\" >0.01</td>\n",
              "                        <td id=\"T_1c0d40b2_2d2d_11ec_84a2_0242ac1c0002row3_col1\" class=\"data row3 col1\" >-0.02</td>\n",
              "                        <td id=\"T_1c0d40b2_2d2d_11ec_84a2_0242ac1c0002row3_col2\" class=\"data row3 col2\" >0.16</td>\n",
              "                        <td id=\"T_1c0d40b2_2d2d_11ec_84a2_0242ac1c0002row3_col3\" class=\"data row3 col3\" >1.00</td>\n",
              "                        <td id=\"T_1c0d40b2_2d2d_11ec_84a2_0242ac1c0002row3_col4\" class=\"data row3 col4\" >0.04</td>\n",
              "                        <td id=\"T_1c0d40b2_2d2d_11ec_84a2_0242ac1c0002row3_col5\" class=\"data row3 col5\" >0.02</td>\n",
              "                        <td id=\"T_1c0d40b2_2d2d_11ec_84a2_0242ac1c0002row3_col6\" class=\"data row3 col6\" >0.01</td>\n",
              "                        <td id=\"T_1c0d40b2_2d2d_11ec_84a2_0242ac1c0002row3_col7\" class=\"data row3 col7\" >0.00</td>\n",
              "                        <td id=\"T_1c0d40b2_2d2d_11ec_84a2_0242ac1c0002row3_col8\" class=\"data row3 col8\" >0.07</td>\n",
              "            </tr>\n",
              "            <tr>\n",
              "                        <th id=\"T_1c0d40b2_2d2d_11ec_84a2_0242ac1c0002level0_row4\" class=\"row_heading level0 row4\" >sup_devices.num</th>\n",
              "                        <td id=\"T_1c0d40b2_2d2d_11ec_84a2_0242ac1c0002row4_col0\" class=\"data row4 col0\" >-0.12</td>\n",
              "                        <td id=\"T_1c0d40b2_2d2d_11ec_84a2_0242ac1c0002row4_col1\" class=\"data row4 col1\" >-0.12</td>\n",
              "                        <td id=\"T_1c0d40b2_2d2d_11ec_84a2_0242ac1c0002row4_col2\" class=\"data row4 col2\" >0.01</td>\n",
              "                        <td id=\"T_1c0d40b2_2d2d_11ec_84a2_0242ac1c0002row4_col3\" class=\"data row4 col3\" >0.04</td>\n",
              "                        <td id=\"T_1c0d40b2_2d2d_11ec_84a2_0242ac1c0002row4_col4\" class=\"data row4 col4\" >1.00</td>\n",
              "                        <td id=\"T_1c0d40b2_2d2d_11ec_84a2_0242ac1c0002row4_col5\" class=\"data row4 col5\" >-0.04</td>\n",
              "                        <td id=\"T_1c0d40b2_2d2d_11ec_84a2_0242ac1c0002row4_col6\" class=\"data row4 col6\" >-0.04</td>\n",
              "                        <td id=\"T_1c0d40b2_2d2d_11ec_84a2_0242ac1c0002row4_col7\" class=\"data row4 col7\" >0.02</td>\n",
              "                        <td id=\"T_1c0d40b2_2d2d_11ec_84a2_0242ac1c0002row4_col8\" class=\"data row4 col8\" >-0.04</td>\n",
              "            </tr>\n",
              "            <tr>\n",
              "                        <th id=\"T_1c0d40b2_2d2d_11ec_84a2_0242ac1c0002level0_row5\" class=\"row_heading level0 row5\" >ipadSc_urls.num</th>\n",
              "                        <td id=\"T_1c0d40b2_2d2d_11ec_84a2_0242ac1c0002row5_col0\" class=\"data row5 col0\" >0.15</td>\n",
              "                        <td id=\"T_1c0d40b2_2d2d_11ec_84a2_0242ac1c0002row5_col1\" class=\"data row5 col1\" >0.07</td>\n",
              "                        <td id=\"T_1c0d40b2_2d2d_11ec_84a2_0242ac1c0002row5_col2\" class=\"data row5 col2\" >0.02</td>\n",
              "                        <td id=\"T_1c0d40b2_2d2d_11ec_84a2_0242ac1c0002row5_col3\" class=\"data row5 col3\" >0.02</td>\n",
              "                        <td id=\"T_1c0d40b2_2d2d_11ec_84a2_0242ac1c0002row5_col4\" class=\"data row5 col4\" >-0.04</td>\n",
              "                        <td id=\"T_1c0d40b2_2d2d_11ec_84a2_0242ac1c0002row5_col5\" class=\"data row5 col5\" >1.00</td>\n",
              "                        <td id=\"T_1c0d40b2_2d2d_11ec_84a2_0242ac1c0002row5_col6\" class=\"data row5 col6\" >0.09</td>\n",
              "                        <td id=\"T_1c0d40b2_2d2d_11ec_84a2_0242ac1c0002row5_col7\" class=\"data row5 col7\" >-0.11</td>\n",
              "                        <td id=\"T_1c0d40b2_2d2d_11ec_84a2_0242ac1c0002row5_col8\" class=\"data row5 col8\" >0.27</td>\n",
              "            </tr>\n",
              "            <tr>\n",
              "                        <th id=\"T_1c0d40b2_2d2d_11ec_84a2_0242ac1c0002level0_row6\" class=\"row_heading level0 row6\" >lang.num</th>\n",
              "                        <td id=\"T_1c0d40b2_2d2d_11ec_84a2_0242ac1c0002row6_col0\" class=\"data row6 col0\" >0.00</td>\n",
              "                        <td id=\"T_1c0d40b2_2d2d_11ec_84a2_0242ac1c0002row6_col1\" class=\"data row6 col1\" >-0.01</td>\n",
              "                        <td id=\"T_1c0d40b2_2d2d_11ec_84a2_0242ac1c0002row6_col2\" class=\"data row6 col2\" >0.14</td>\n",
              "                        <td id=\"T_1c0d40b2_2d2d_11ec_84a2_0242ac1c0002row6_col3\" class=\"data row6 col3\" >0.01</td>\n",
              "                        <td id=\"T_1c0d40b2_2d2d_11ec_84a2_0242ac1c0002row6_col4\" class=\"data row6 col4\" >-0.04</td>\n",
              "                        <td id=\"T_1c0d40b2_2d2d_11ec_84a2_0242ac1c0002row6_col5\" class=\"data row6 col5\" >0.09</td>\n",
              "                        <td id=\"T_1c0d40b2_2d2d_11ec_84a2_0242ac1c0002row6_col6\" class=\"data row6 col6\" >1.00</td>\n",
              "                        <td id=\"T_1c0d40b2_2d2d_11ec_84a2_0242ac1c0002row6_col7\" class=\"data row6 col7\" >-0.07</td>\n",
              "                        <td id=\"T_1c0d40b2_2d2d_11ec_84a2_0242ac1c0002row6_col8\" class=\"data row6 col8\" >0.17</td>\n",
              "            </tr>\n",
              "            <tr>\n",
              "                        <th id=\"T_1c0d40b2_2d2d_11ec_84a2_0242ac1c0002level0_row7\" class=\"row_heading level0 row7\" >cont_rating</th>\n",
              "                        <td id=\"T_1c0d40b2_2d2d_11ec_84a2_0242ac1c0002row7_col0\" class=\"data row7 col0\" >0.14</td>\n",
              "                        <td id=\"T_1c0d40b2_2d2d_11ec_84a2_0242ac1c0002row7_col1\" class=\"data row7 col1\" >-0.03</td>\n",
              "                        <td id=\"T_1c0d40b2_2d2d_11ec_84a2_0242ac1c0002row7_col2\" class=\"data row7 col2\" >0.01</td>\n",
              "                        <td id=\"T_1c0d40b2_2d2d_11ec_84a2_0242ac1c0002row7_col3\" class=\"data row7 col3\" >0.00</td>\n",
              "                        <td id=\"T_1c0d40b2_2d2d_11ec_84a2_0242ac1c0002row7_col4\" class=\"data row7 col4\" >0.02</td>\n",
              "                        <td id=\"T_1c0d40b2_2d2d_11ec_84a2_0242ac1c0002row7_col5\" class=\"data row7 col5\" >-0.11</td>\n",
              "                        <td id=\"T_1c0d40b2_2d2d_11ec_84a2_0242ac1c0002row7_col6\" class=\"data row7 col6\" >-0.07</td>\n",
              "                        <td id=\"T_1c0d40b2_2d2d_11ec_84a2_0242ac1c0002row7_col7\" class=\"data row7 col7\" >1.00</td>\n",
              "                        <td id=\"T_1c0d40b2_2d2d_11ec_84a2_0242ac1c0002row7_col8\" class=\"data row7 col8\" >-0.10</td>\n",
              "            </tr>\n",
              "            <tr>\n",
              "                        <th id=\"T_1c0d40b2_2d2d_11ec_84a2_0242ac1c0002level0_row8\" class=\"row_heading level0 row8\" >user_rating</th>\n",
              "                        <td id=\"T_1c0d40b2_2d2d_11ec_84a2_0242ac1c0002row8_col0\" class=\"data row8 col0\" >0.07</td>\n",
              "                        <td id=\"T_1c0d40b2_2d2d_11ec_84a2_0242ac1c0002row8_col1\" class=\"data row8 col1\" >0.05</td>\n",
              "                        <td id=\"T_1c0d40b2_2d2d_11ec_84a2_0242ac1c0002row8_col2\" class=\"data row8 col2\" >0.08</td>\n",
              "                        <td id=\"T_1c0d40b2_2d2d_11ec_84a2_0242ac1c0002row8_col3\" class=\"data row8 col3\" >0.07</td>\n",
              "                        <td id=\"T_1c0d40b2_2d2d_11ec_84a2_0242ac1c0002row8_col4\" class=\"data row8 col4\" >-0.04</td>\n",
              "                        <td id=\"T_1c0d40b2_2d2d_11ec_84a2_0242ac1c0002row8_col5\" class=\"data row8 col5\" >0.27</td>\n",
              "                        <td id=\"T_1c0d40b2_2d2d_11ec_84a2_0242ac1c0002row8_col6\" class=\"data row8 col6\" >0.17</td>\n",
              "                        <td id=\"T_1c0d40b2_2d2d_11ec_84a2_0242ac1c0002row8_col7\" class=\"data row8 col7\" >-0.10</td>\n",
              "                        <td id=\"T_1c0d40b2_2d2d_11ec_84a2_0242ac1c0002row8_col8\" class=\"data row8 col8\" >1.00</td>\n",
              "            </tr>\n",
              "    </tbody></table>"
            ],
            "text/plain": [
              "<pandas.io.formats.style.Styler at 0x7f834f44b0d0>"
            ]
          },
          "metadata": {},
          "execution_count": 10
        }
      ]
    },
    {
      "cell_type": "code",
      "metadata": {
        "id": "C08zuEony3fn",
        "scrolled": false,
        "colab": {
          "base_uri": "https://localhost:8080/",
          "height": 206
        },
        "outputId": "73ba2221-664a-4f63-b37f-1010396d9bb0"
      },
      "source": [
        "# Добавим категориальную фичу, которая говорит, бесплатное приложение или нет\n",
        "data['is_free'] = data['price'] == 0\n",
        "cat_cols.append('is_free')\n",
        "data.head()"
      ],
      "execution_count": null,
      "outputs": [
        {
          "output_type": "execute_result",
          "data": {
            "text/html": [
              "<div>\n",
              "<style scoped>\n",
              "    .dataframe tbody tr th:only-of-type {\n",
              "        vertical-align: middle;\n",
              "    }\n",
              "\n",
              "    .dataframe tbody tr th {\n",
              "        vertical-align: top;\n",
              "    }\n",
              "\n",
              "    .dataframe thead th {\n",
              "        text-align: right;\n",
              "    }\n",
              "</style>\n",
              "<table border=\"1\" class=\"dataframe\">\n",
              "  <thead>\n",
              "    <tr style=\"text-align: right;\">\n",
              "      <th></th>\n",
              "      <th>size_bytes</th>\n",
              "      <th>price</th>\n",
              "      <th>rating_count_tot</th>\n",
              "      <th>rating_count_ver</th>\n",
              "      <th>sup_devices.num</th>\n",
              "      <th>ipadSc_urls.num</th>\n",
              "      <th>lang.num</th>\n",
              "      <th>cont_rating</th>\n",
              "      <th>prime_genre</th>\n",
              "      <th>user_rating</th>\n",
              "      <th>is_free</th>\n",
              "    </tr>\n",
              "  </thead>\n",
              "  <tbody>\n",
              "    <tr>\n",
              "      <th>0</th>\n",
              "      <td>100788224</td>\n",
              "      <td>3.99</td>\n",
              "      <td>21292</td>\n",
              "      <td>26</td>\n",
              "      <td>38</td>\n",
              "      <td>5</td>\n",
              "      <td>10</td>\n",
              "      <td>4</td>\n",
              "      <td>Games</td>\n",
              "      <td>4.0</td>\n",
              "      <td>False</td>\n",
              "    </tr>\n",
              "    <tr>\n",
              "      <th>1</th>\n",
              "      <td>158578688</td>\n",
              "      <td>0.00</td>\n",
              "      <td>161065</td>\n",
              "      <td>26</td>\n",
              "      <td>37</td>\n",
              "      <td>5</td>\n",
              "      <td>23</td>\n",
              "      <td>4</td>\n",
              "      <td>Productivity</td>\n",
              "      <td>4.0</td>\n",
              "      <td>True</td>\n",
              "    </tr>\n",
              "    <tr>\n",
              "      <th>2</th>\n",
              "      <td>100524032</td>\n",
              "      <td>0.00</td>\n",
              "      <td>188583</td>\n",
              "      <td>2822</td>\n",
              "      <td>37</td>\n",
              "      <td>5</td>\n",
              "      <td>3</td>\n",
              "      <td>4</td>\n",
              "      <td>Weather</td>\n",
              "      <td>3.5</td>\n",
              "      <td>True</td>\n",
              "    </tr>\n",
              "    <tr>\n",
              "      <th>3</th>\n",
              "      <td>128512000</td>\n",
              "      <td>0.00</td>\n",
              "      <td>262241</td>\n",
              "      <td>649</td>\n",
              "      <td>37</td>\n",
              "      <td>5</td>\n",
              "      <td>9</td>\n",
              "      <td>12</td>\n",
              "      <td>Shopping</td>\n",
              "      <td>4.0</td>\n",
              "      <td>True</td>\n",
              "    </tr>\n",
              "    <tr>\n",
              "      <th>4</th>\n",
              "      <td>92774400</td>\n",
              "      <td>0.00</td>\n",
              "      <td>985920</td>\n",
              "      <td>5320</td>\n",
              "      <td>37</td>\n",
              "      <td>5</td>\n",
              "      <td>45</td>\n",
              "      <td>4</td>\n",
              "      <td>Reference</td>\n",
              "      <td>4.5</td>\n",
              "      <td>True</td>\n",
              "    </tr>\n",
              "  </tbody>\n",
              "</table>\n",
              "</div>"
            ],
            "text/plain": [
              "   size_bytes  price  rating_count_tot  ...   prime_genre  user_rating  is_free\n",
              "0   100788224   3.99             21292  ...         Games          4.0    False\n",
              "1   158578688   0.00            161065  ...  Productivity          4.0     True\n",
              "2   100524032   0.00            188583  ...       Weather          3.5     True\n",
              "3   128512000   0.00            262241  ...      Shopping          4.0     True\n",
              "4    92774400   0.00            985920  ...     Reference          4.5     True\n",
              "\n",
              "[5 rows x 11 columns]"
            ]
          },
          "metadata": {},
          "execution_count": 11
        }
      ]
    },
    {
      "cell_type": "markdown",
      "metadata": {
        "id": "aBUWujK4y3fr"
      },
      "source": [
        "#### One-hot-encoding\n",
        "Самый простой способ закодировать категориальные фичи - one hot encoding. Представьте, что у нас есть категориальная фича prime_genre с возможными значениями \n",
        "> ['Games', 'Entertainment', 'Education', 'Photo & Video']\n",
        "\n",
        "мы можем создать 4 новые бинарные фичи для каждого из столбцов\n",
        "\n",
        "> 'Entertaiment' -> [0, 1, 0, 0]\n",
        "\n",
        "В pandas очень удобно использовать get_dummies для one-hot-encoding"
      ]
    },
    {
      "cell_type": "code",
      "metadata": {
        "id": "Zf7ueaAYy3fs",
        "colab": {
          "base_uri": "https://localhost:8080/",
          "height": 175
        },
        "outputId": "a30b541e-5c40-4670-f751-c3f684246387"
      },
      "source": [
        "a = pd.DataFrame.from_dict({'categorical': ['a', 'b', 'a', 'c']})\n",
        "a"
      ],
      "execution_count": null,
      "outputs": [
        {
          "output_type": "execute_result",
          "data": {
            "text/html": [
              "<div>\n",
              "<style scoped>\n",
              "    .dataframe tbody tr th:only-of-type {\n",
              "        vertical-align: middle;\n",
              "    }\n",
              "\n",
              "    .dataframe tbody tr th {\n",
              "        vertical-align: top;\n",
              "    }\n",
              "\n",
              "    .dataframe thead th {\n",
              "        text-align: right;\n",
              "    }\n",
              "</style>\n",
              "<table border=\"1\" class=\"dataframe\">\n",
              "  <thead>\n",
              "    <tr style=\"text-align: right;\">\n",
              "      <th></th>\n",
              "      <th>categorical</th>\n",
              "    </tr>\n",
              "  </thead>\n",
              "  <tbody>\n",
              "    <tr>\n",
              "      <th>0</th>\n",
              "      <td>a</td>\n",
              "    </tr>\n",
              "    <tr>\n",
              "      <th>1</th>\n",
              "      <td>b</td>\n",
              "    </tr>\n",
              "    <tr>\n",
              "      <th>2</th>\n",
              "      <td>a</td>\n",
              "    </tr>\n",
              "    <tr>\n",
              "      <th>3</th>\n",
              "      <td>c</td>\n",
              "    </tr>\n",
              "  </tbody>\n",
              "</table>\n",
              "</div>"
            ],
            "text/plain": [
              "  categorical\n",
              "0           a\n",
              "1           b\n",
              "2           a\n",
              "3           c"
            ]
          },
          "metadata": {},
          "execution_count": 12
        }
      ]
    },
    {
      "cell_type": "code",
      "metadata": {
        "id": "7TZRKn-Xy3fv",
        "colab": {
          "base_uri": "https://localhost:8080/"
        },
        "outputId": "a70170d9-e7c1-40f4-bf2a-8a8e48a4e977"
      },
      "source": [
        "cat_cols"
      ],
      "execution_count": null,
      "outputs": [
        {
          "output_type": "execute_result",
          "data": {
            "text/plain": [
              "['prime_genre', 'is_free']"
            ]
          },
          "metadata": {},
          "execution_count": 13
        }
      ]
    },
    {
      "cell_type": "code",
      "metadata": {
        "id": "ktXAw6G4y3fz",
        "scrolled": false
      },
      "source": [
        "# Задание: добавьте в датафрейм колонки для всех категориальных фичей и обновите список категориальных фичей"
      ],
      "execution_count": null,
      "outputs": []
    },
    {
      "cell_type": "code",
      "metadata": {
        "id": "KOwf47Sqy3f2",
        "colab": {
          "base_uri": "https://localhost:8080/",
          "height": 461
        },
        "outputId": "ef5c5177-dde9-4389-df37-4a41b72b10bf"
      },
      "source": [
        "# TO DO\n",
        "data = pd.get_dummies(data)\n",
        "data['is_free'] = data['is_free'].astype('int')\n",
        "\n",
        "cat_cols = ['is_free']\n",
        "for c in data.columns:\n",
        "    if 'prime_genre' in c:\n",
        "        cat_cols.append(c)\n",
        "\n",
        "data"
      ],
      "execution_count": null,
      "outputs": [
        {
          "output_type": "execute_result",
          "data": {
            "text/html": [
              "<div>\n",
              "<style scoped>\n",
              "    .dataframe tbody tr th:only-of-type {\n",
              "        vertical-align: middle;\n",
              "    }\n",
              "\n",
              "    .dataframe tbody tr th {\n",
              "        vertical-align: top;\n",
              "    }\n",
              "\n",
              "    .dataframe thead th {\n",
              "        text-align: right;\n",
              "    }\n",
              "</style>\n",
              "<table border=\"1\" class=\"dataframe\">\n",
              "  <thead>\n",
              "    <tr style=\"text-align: right;\">\n",
              "      <th></th>\n",
              "      <th>size_bytes</th>\n",
              "      <th>price</th>\n",
              "      <th>rating_count_tot</th>\n",
              "      <th>rating_count_ver</th>\n",
              "      <th>sup_devices.num</th>\n",
              "      <th>ipadSc_urls.num</th>\n",
              "      <th>lang.num</th>\n",
              "      <th>cont_rating</th>\n",
              "      <th>user_rating</th>\n",
              "      <th>is_free</th>\n",
              "      <th>prime_genre_Book</th>\n",
              "      <th>prime_genre_Business</th>\n",
              "      <th>prime_genre_Catalogs</th>\n",
              "      <th>prime_genre_Education</th>\n",
              "      <th>prime_genre_Entertainment</th>\n",
              "      <th>prime_genre_Finance</th>\n",
              "      <th>prime_genre_Food &amp; Drink</th>\n",
              "      <th>prime_genre_Games</th>\n",
              "      <th>prime_genre_Health &amp; Fitness</th>\n",
              "      <th>prime_genre_Lifestyle</th>\n",
              "      <th>prime_genre_Medical</th>\n",
              "      <th>prime_genre_Music</th>\n",
              "      <th>prime_genre_Navigation</th>\n",
              "      <th>prime_genre_News</th>\n",
              "      <th>prime_genre_Photo &amp; Video</th>\n",
              "      <th>prime_genre_Productivity</th>\n",
              "      <th>prime_genre_Reference</th>\n",
              "      <th>prime_genre_Shopping</th>\n",
              "      <th>prime_genre_Social Networking</th>\n",
              "      <th>prime_genre_Sports</th>\n",
              "      <th>prime_genre_Travel</th>\n",
              "      <th>prime_genre_Utilities</th>\n",
              "      <th>prime_genre_Weather</th>\n",
              "    </tr>\n",
              "  </thead>\n",
              "  <tbody>\n",
              "    <tr>\n",
              "      <th>0</th>\n",
              "      <td>100788224</td>\n",
              "      <td>3.99</td>\n",
              "      <td>21292</td>\n",
              "      <td>26</td>\n",
              "      <td>38</td>\n",
              "      <td>5</td>\n",
              "      <td>10</td>\n",
              "      <td>4</td>\n",
              "      <td>4.0</td>\n",
              "      <td>0</td>\n",
              "      <td>0</td>\n",
              "      <td>0</td>\n",
              "      <td>0</td>\n",
              "      <td>0</td>\n",
              "      <td>0</td>\n",
              "      <td>0</td>\n",
              "      <td>0</td>\n",
              "      <td>1</td>\n",
              "      <td>0</td>\n",
              "      <td>0</td>\n",
              "      <td>0</td>\n",
              "      <td>0</td>\n",
              "      <td>0</td>\n",
              "      <td>0</td>\n",
              "      <td>0</td>\n",
              "      <td>0</td>\n",
              "      <td>0</td>\n",
              "      <td>0</td>\n",
              "      <td>0</td>\n",
              "      <td>0</td>\n",
              "      <td>0</td>\n",
              "      <td>0</td>\n",
              "      <td>0</td>\n",
              "    </tr>\n",
              "    <tr>\n",
              "      <th>1</th>\n",
              "      <td>158578688</td>\n",
              "      <td>0.00</td>\n",
              "      <td>161065</td>\n",
              "      <td>26</td>\n",
              "      <td>37</td>\n",
              "      <td>5</td>\n",
              "      <td>23</td>\n",
              "      <td>4</td>\n",
              "      <td>4.0</td>\n",
              "      <td>1</td>\n",
              "      <td>0</td>\n",
              "      <td>0</td>\n",
              "      <td>0</td>\n",
              "      <td>0</td>\n",
              "      <td>0</td>\n",
              "      <td>0</td>\n",
              "      <td>0</td>\n",
              "      <td>0</td>\n",
              "      <td>0</td>\n",
              "      <td>0</td>\n",
              "      <td>0</td>\n",
              "      <td>0</td>\n",
              "      <td>0</td>\n",
              "      <td>0</td>\n",
              "      <td>0</td>\n",
              "      <td>1</td>\n",
              "      <td>0</td>\n",
              "      <td>0</td>\n",
              "      <td>0</td>\n",
              "      <td>0</td>\n",
              "      <td>0</td>\n",
              "      <td>0</td>\n",
              "      <td>0</td>\n",
              "    </tr>\n",
              "    <tr>\n",
              "      <th>2</th>\n",
              "      <td>100524032</td>\n",
              "      <td>0.00</td>\n",
              "      <td>188583</td>\n",
              "      <td>2822</td>\n",
              "      <td>37</td>\n",
              "      <td>5</td>\n",
              "      <td>3</td>\n",
              "      <td>4</td>\n",
              "      <td>3.5</td>\n",
              "      <td>1</td>\n",
              "      <td>0</td>\n",
              "      <td>0</td>\n",
              "      <td>0</td>\n",
              "      <td>0</td>\n",
              "      <td>0</td>\n",
              "      <td>0</td>\n",
              "      <td>0</td>\n",
              "      <td>0</td>\n",
              "      <td>0</td>\n",
              "      <td>0</td>\n",
              "      <td>0</td>\n",
              "      <td>0</td>\n",
              "      <td>0</td>\n",
              "      <td>0</td>\n",
              "      <td>0</td>\n",
              "      <td>0</td>\n",
              "      <td>0</td>\n",
              "      <td>0</td>\n",
              "      <td>0</td>\n",
              "      <td>0</td>\n",
              "      <td>0</td>\n",
              "      <td>0</td>\n",
              "      <td>1</td>\n",
              "    </tr>\n",
              "    <tr>\n",
              "      <th>3</th>\n",
              "      <td>128512000</td>\n",
              "      <td>0.00</td>\n",
              "      <td>262241</td>\n",
              "      <td>649</td>\n",
              "      <td>37</td>\n",
              "      <td>5</td>\n",
              "      <td>9</td>\n",
              "      <td>12</td>\n",
              "      <td>4.0</td>\n",
              "      <td>1</td>\n",
              "      <td>0</td>\n",
              "      <td>0</td>\n",
              "      <td>0</td>\n",
              "      <td>0</td>\n",
              "      <td>0</td>\n",
              "      <td>0</td>\n",
              "      <td>0</td>\n",
              "      <td>0</td>\n",
              "      <td>0</td>\n",
              "      <td>0</td>\n",
              "      <td>0</td>\n",
              "      <td>0</td>\n",
              "      <td>0</td>\n",
              "      <td>0</td>\n",
              "      <td>0</td>\n",
              "      <td>0</td>\n",
              "      <td>0</td>\n",
              "      <td>1</td>\n",
              "      <td>0</td>\n",
              "      <td>0</td>\n",
              "      <td>0</td>\n",
              "      <td>0</td>\n",
              "      <td>0</td>\n",
              "    </tr>\n",
              "    <tr>\n",
              "      <th>4</th>\n",
              "      <td>92774400</td>\n",
              "      <td>0.00</td>\n",
              "      <td>985920</td>\n",
              "      <td>5320</td>\n",
              "      <td>37</td>\n",
              "      <td>5</td>\n",
              "      <td>45</td>\n",
              "      <td>4</td>\n",
              "      <td>4.5</td>\n",
              "      <td>1</td>\n",
              "      <td>0</td>\n",
              "      <td>0</td>\n",
              "      <td>0</td>\n",
              "      <td>0</td>\n",
              "      <td>0</td>\n",
              "      <td>0</td>\n",
              "      <td>0</td>\n",
              "      <td>0</td>\n",
              "      <td>0</td>\n",
              "      <td>0</td>\n",
              "      <td>0</td>\n",
              "      <td>0</td>\n",
              "      <td>0</td>\n",
              "      <td>0</td>\n",
              "      <td>0</td>\n",
              "      <td>0</td>\n",
              "      <td>1</td>\n",
              "      <td>0</td>\n",
              "      <td>0</td>\n",
              "      <td>0</td>\n",
              "      <td>0</td>\n",
              "      <td>0</td>\n",
              "      <td>0</td>\n",
              "    </tr>\n",
              "    <tr>\n",
              "      <th>...</th>\n",
              "      <td>...</td>\n",
              "      <td>...</td>\n",
              "      <td>...</td>\n",
              "      <td>...</td>\n",
              "      <td>...</td>\n",
              "      <td>...</td>\n",
              "      <td>...</td>\n",
              "      <td>...</td>\n",
              "      <td>...</td>\n",
              "      <td>...</td>\n",
              "      <td>...</td>\n",
              "      <td>...</td>\n",
              "      <td>...</td>\n",
              "      <td>...</td>\n",
              "      <td>...</td>\n",
              "      <td>...</td>\n",
              "      <td>...</td>\n",
              "      <td>...</td>\n",
              "      <td>...</td>\n",
              "      <td>...</td>\n",
              "      <td>...</td>\n",
              "      <td>...</td>\n",
              "      <td>...</td>\n",
              "      <td>...</td>\n",
              "      <td>...</td>\n",
              "      <td>...</td>\n",
              "      <td>...</td>\n",
              "      <td>...</td>\n",
              "      <td>...</td>\n",
              "      <td>...</td>\n",
              "      <td>...</td>\n",
              "      <td>...</td>\n",
              "      <td>...</td>\n",
              "    </tr>\n",
              "    <tr>\n",
              "      <th>7192</th>\n",
              "      <td>126644224</td>\n",
              "      <td>0.00</td>\n",
              "      <td>142</td>\n",
              "      <td>75</td>\n",
              "      <td>38</td>\n",
              "      <td>5</td>\n",
              "      <td>1</td>\n",
              "      <td>4</td>\n",
              "      <td>4.5</td>\n",
              "      <td>1</td>\n",
              "      <td>0</td>\n",
              "      <td>0</td>\n",
              "      <td>0</td>\n",
              "      <td>0</td>\n",
              "      <td>0</td>\n",
              "      <td>0</td>\n",
              "      <td>0</td>\n",
              "      <td>1</td>\n",
              "      <td>0</td>\n",
              "      <td>0</td>\n",
              "      <td>0</td>\n",
              "      <td>0</td>\n",
              "      <td>0</td>\n",
              "      <td>0</td>\n",
              "      <td>0</td>\n",
              "      <td>0</td>\n",
              "      <td>0</td>\n",
              "      <td>0</td>\n",
              "      <td>0</td>\n",
              "      <td>0</td>\n",
              "      <td>0</td>\n",
              "      <td>0</td>\n",
              "      <td>0</td>\n",
              "    </tr>\n",
              "    <tr>\n",
              "      <th>7193</th>\n",
              "      <td>120760320</td>\n",
              "      <td>0.00</td>\n",
              "      <td>30</td>\n",
              "      <td>30</td>\n",
              "      <td>38</td>\n",
              "      <td>0</td>\n",
              "      <td>1</td>\n",
              "      <td>4</td>\n",
              "      <td>4.5</td>\n",
              "      <td>1</td>\n",
              "      <td>0</td>\n",
              "      <td>0</td>\n",
              "      <td>0</td>\n",
              "      <td>0</td>\n",
              "      <td>0</td>\n",
              "      <td>0</td>\n",
              "      <td>0</td>\n",
              "      <td>1</td>\n",
              "      <td>0</td>\n",
              "      <td>0</td>\n",
              "      <td>0</td>\n",
              "      <td>0</td>\n",
              "      <td>0</td>\n",
              "      <td>0</td>\n",
              "      <td>0</td>\n",
              "      <td>0</td>\n",
              "      <td>0</td>\n",
              "      <td>0</td>\n",
              "      <td>0</td>\n",
              "      <td>0</td>\n",
              "      <td>0</td>\n",
              "      <td>0</td>\n",
              "      <td>0</td>\n",
              "    </tr>\n",
              "    <tr>\n",
              "      <th>7194</th>\n",
              "      <td>111322112</td>\n",
              "      <td>1.99</td>\n",
              "      <td>15</td>\n",
              "      <td>0</td>\n",
              "      <td>37</td>\n",
              "      <td>1</td>\n",
              "      <td>1</td>\n",
              "      <td>9</td>\n",
              "      <td>4.5</td>\n",
              "      <td>0</td>\n",
              "      <td>0</td>\n",
              "      <td>0</td>\n",
              "      <td>0</td>\n",
              "      <td>0</td>\n",
              "      <td>0</td>\n",
              "      <td>0</td>\n",
              "      <td>0</td>\n",
              "      <td>0</td>\n",
              "      <td>0</td>\n",
              "      <td>0</td>\n",
              "      <td>0</td>\n",
              "      <td>0</td>\n",
              "      <td>0</td>\n",
              "      <td>0</td>\n",
              "      <td>0</td>\n",
              "      <td>0</td>\n",
              "      <td>0</td>\n",
              "      <td>0</td>\n",
              "      <td>0</td>\n",
              "      <td>0</td>\n",
              "      <td>0</td>\n",
              "      <td>1</td>\n",
              "      <td>0</td>\n",
              "    </tr>\n",
              "    <tr>\n",
              "      <th>7195</th>\n",
              "      <td>97235968</td>\n",
              "      <td>0.00</td>\n",
              "      <td>85</td>\n",
              "      <td>32</td>\n",
              "      <td>38</td>\n",
              "      <td>0</td>\n",
              "      <td>2</td>\n",
              "      <td>12</td>\n",
              "      <td>4.5</td>\n",
              "      <td>1</td>\n",
              "      <td>0</td>\n",
              "      <td>0</td>\n",
              "      <td>0</td>\n",
              "      <td>0</td>\n",
              "      <td>0</td>\n",
              "      <td>0</td>\n",
              "      <td>0</td>\n",
              "      <td>1</td>\n",
              "      <td>0</td>\n",
              "      <td>0</td>\n",
              "      <td>0</td>\n",
              "      <td>0</td>\n",
              "      <td>0</td>\n",
              "      <td>0</td>\n",
              "      <td>0</td>\n",
              "      <td>0</td>\n",
              "      <td>0</td>\n",
              "      <td>0</td>\n",
              "      <td>0</td>\n",
              "      <td>0</td>\n",
              "      <td>0</td>\n",
              "      <td>0</td>\n",
              "      <td>0</td>\n",
              "    </tr>\n",
              "    <tr>\n",
              "      <th>7196</th>\n",
              "      <td>90898432</td>\n",
              "      <td>0.00</td>\n",
              "      <td>3</td>\n",
              "      <td>3</td>\n",
              "      <td>40</td>\n",
              "      <td>0</td>\n",
              "      <td>2</td>\n",
              "      <td>4</td>\n",
              "      <td>5.0</td>\n",
              "      <td>1</td>\n",
              "      <td>0</td>\n",
              "      <td>0</td>\n",
              "      <td>0</td>\n",
              "      <td>0</td>\n",
              "      <td>0</td>\n",
              "      <td>0</td>\n",
              "      <td>0</td>\n",
              "      <td>1</td>\n",
              "      <td>0</td>\n",
              "      <td>0</td>\n",
              "      <td>0</td>\n",
              "      <td>0</td>\n",
              "      <td>0</td>\n",
              "      <td>0</td>\n",
              "      <td>0</td>\n",
              "      <td>0</td>\n",
              "      <td>0</td>\n",
              "      <td>0</td>\n",
              "      <td>0</td>\n",
              "      <td>0</td>\n",
              "      <td>0</td>\n",
              "      <td>0</td>\n",
              "      <td>0</td>\n",
              "    </tr>\n",
              "  </tbody>\n",
              "</table>\n",
              "<p>7197 rows × 33 columns</p>\n",
              "</div>"
            ],
            "text/plain": [
              "      size_bytes  price  ...  prime_genre_Utilities  prime_genre_Weather\n",
              "0      100788224   3.99  ...                      0                    0\n",
              "1      158578688   0.00  ...                      0                    0\n",
              "2      100524032   0.00  ...                      0                    1\n",
              "3      128512000   0.00  ...                      0                    0\n",
              "4       92774400   0.00  ...                      0                    0\n",
              "...          ...    ...  ...                    ...                  ...\n",
              "7192   126644224   0.00  ...                      0                    0\n",
              "7193   120760320   0.00  ...                      0                    0\n",
              "7194   111322112   1.99  ...                      1                    0\n",
              "7195    97235968   0.00  ...                      0                    0\n",
              "7196    90898432   0.00  ...                      0                    0\n",
              "\n",
              "[7197 rows x 33 columns]"
            ]
          },
          "metadata": {},
          "execution_count": 14
        }
      ]
    },
    {
      "cell_type": "code",
      "metadata": {
        "colab": {
          "base_uri": "https://localhost:8080/"
        },
        "id": "k4G3rY1kvzG4",
        "outputId": "52be1ae5-7b32-4a94-cdb0-44ab78ece209"
      },
      "source": [
        "cat_cols"
      ],
      "execution_count": null,
      "outputs": [
        {
          "output_type": "execute_result",
          "data": {
            "text/plain": [
              "['is_free',\n",
              " 'prime_genre_Book',\n",
              " 'prime_genre_Business',\n",
              " 'prime_genre_Catalogs',\n",
              " 'prime_genre_Education',\n",
              " 'prime_genre_Entertainment',\n",
              " 'prime_genre_Finance',\n",
              " 'prime_genre_Food & Drink',\n",
              " 'prime_genre_Games',\n",
              " 'prime_genre_Health & Fitness',\n",
              " 'prime_genre_Lifestyle',\n",
              " 'prime_genre_Medical',\n",
              " 'prime_genre_Music',\n",
              " 'prime_genre_Navigation',\n",
              " 'prime_genre_News',\n",
              " 'prime_genre_Photo & Video',\n",
              " 'prime_genre_Productivity',\n",
              " 'prime_genre_Reference',\n",
              " 'prime_genre_Shopping',\n",
              " 'prime_genre_Social Networking',\n",
              " 'prime_genre_Sports',\n",
              " 'prime_genre_Travel',\n",
              " 'prime_genre_Utilities',\n",
              " 'prime_genre_Weather']"
            ]
          },
          "metadata": {},
          "execution_count": 15
        }
      ]
    },
    {
      "cell_type": "markdown",
      "metadata": {
        "id": "5CsX8Hvcy3f5"
      },
      "source": [
        "### Масштабирование признаков\n",
        "\n",
        "Как мы говорили в лекции часто необходимо привести все признаки к одному масштабу. Для этого в sklearn есть специальный Transformer -- StandardScaler и MinMaxScaler.\n",
        "\n",
        "StandardScaler во время .fit() для каждого признака $x_i$ считает среднее $\\mu_i$ и стандартное отклонение $\\sigma_i$ на обучающем датасете. Во время .transform() к каждому признаку применяется:\n",
        "\n",
        "$$\\mathbf{x_i}^{\\text{new}} = \\frac{\\mathbf{x_i} - \\mu_i}{\\sigma_i}$$\n",
        "\n",
        "\n",
        "MinMaxScaler во время .fit() для каждого признака $x_i$ считает минимум $x_{i, \\text{min}}$ и максимум $x_{i, \\text{max}}$ на обучающем датасете. Во время .transform() к каждому признаку применяется:\n",
        "\n",
        "$$\\mathbf{x_i}^{\\text{new}} = \\frac{\\mathbf{x_i} - x_{i, \\text{min}}}{x_{i, \\text{max}} - x_{i, \\text{min}}}$$"
      ]
    },
    {
      "cell_type": "code",
      "metadata": {
        "id": "ryWzn4FAy3f6"
      },
      "source": [
        "from sklearn.preprocessing import StandardScaler\n",
        "\n",
        "pca = StandardScaler()\n",
        "pca.fit(data[num_cols + cat_cols])\n",
        "\n",
        "# Выход pca - numpy матрица, положим ее в новую переменную со всеми фичами\n",
        "X = pca.transform(data[num_cols + cat_cols])"
      ],
      "execution_count": null,
      "outputs": []
    },
    {
      "cell_type": "markdown",
      "metadata": {
        "id": "uk4bKe1jy3f9"
      },
      "source": [
        "## Разделение на train/test\n",
        "\n"
      ]
    },
    {
      "cell_type": "code",
      "metadata": {
        "id": "xhDN3xvTy3gF"
      },
      "source": [
        "from sklearn.model_selection import train_test_split"
      ],
      "execution_count": null,
      "outputs": []
    },
    {
      "cell_type": "code",
      "metadata": {
        "id": "7WZupnVWy3gJ"
      },
      "source": [
        "X_train, X_test, y_train, y_test = train_test_split(X, data[target_col], test_size=0.2)"
      ],
      "execution_count": null,
      "outputs": []
    },
    {
      "cell_type": "markdown",
      "metadata": {
        "id": "YN04Y8SSy3gN"
      },
      "source": [
        "## Обучение\n"
      ]
    },
    {
      "cell_type": "code",
      "metadata": {
        "id": "tU6MSLCQy3gR"
      },
      "source": [
        "from sklearn.linear_model import LinearRegression\n",
        "from sklearn.neighbors import KNeighborsRegressor\n",
        "from sklearn.metrics import r2_score, mean_squared_error"
      ],
      "execution_count": null,
      "outputs": []
    },
    {
      "cell_type": "markdown",
      "metadata": {
        "id": "N4dPdfSEy3gX"
      },
      "source": [
        "Поговорим про метрики. Метрика это, так же как и функция потерь, какая-то функция, показывающая насколько хорошо работает наша модель. Например, любой лосс можно назвать метрикой. Но не любую метрику можно назвать лоссом: лосс это именно то число, которое мы уменьшаем в процессе обучения модели + для лосса всегда верно, что чем он меньше, тем лучше. Метрики нужны как раз для того, чтобы оценивать работу алгоритма с помощью числа, которое он не учился напрямую минимизировать.\n",
        "\n",
        "Для классификации наиболее простой метрикой будет являться точность или accuracy (доля совпавших предсказаний и настоящих классов). Она никогда не используется внутри лоссов, потому что нет эффективного алгоритма, который бы позволил ее обучать модели с такой функцией потерь.\n",
        "\n",
        "В данном случае у нас задача регрессии, поэтому мы используем метрику MSE"
      ]
    },
    {
      "cell_type": "code",
      "metadata": {
        "id": "tcSu8p8Xy3gX"
      },
      "source": [
        "def print_metrics(y_preds, y):\n",
        "    print(f'R^2: {r2_score(y_preds, y)}')\n",
        "    print(f'MSE: {mean_squared_error(y_preds, y)}')"
      ],
      "execution_count": null,
      "outputs": []
    },
    {
      "cell_type": "code",
      "metadata": {
        "id": "oNdfnZ4jy3gb",
        "colab": {
          "base_uri": "https://localhost:8080/"
        },
        "outputId": "15e925dd-64a9-414b-a703-a935b5bc5353"
      },
      "source": [
        "# Используем обычную линейную регрессию, минимизирующую сумму квадратов ошибки\n",
        "lr = LinearRegression()\n",
        "lr.fit(X_train, y_train)\n",
        "\n",
        "print_metrics(lr.predict(X_test), y_test)"
      ],
      "execution_count": null,
      "outputs": [
        {
          "output_type": "stream",
          "name": "stdout",
          "text": [
            "R^2: -5.06730753368899\n",
            "MSE: 2.036011130721501\n"
          ]
        }
      ]
    },
    {
      "cell_type": "code",
      "metadata": {
        "id": "wH0qXYNbu-cS",
        "colab": {
          "base_uri": "https://localhost:8080/"
        },
        "outputId": "e139f201-822e-4e1e-d41b-6a6bba3e0854"
      },
      "source": [
        "# Используем обычную линейную регрессию, минимизирующую сумму квадратов ошибки\n",
        "knn = KNeighborsRegressor(n_neighbors=5)\n",
        "knn.fit(X_train, y_train)\n",
        "\n",
        "print_metrics(knn.predict(X_test), y_test)"
      ],
      "execution_count": null,
      "outputs": [
        {
          "output_type": "stream",
          "name": "stdout",
          "text": [
            "R^2: -0.9861127452764629\n",
            "MSE: 2.03675\n"
          ]
        }
      ]
    },
    {
      "cell_type": "markdown",
      "metadata": {
        "id": "ACDf5eMEy3gt"
      },
      "source": [
        "## Cross Validation\n"
      ]
    },
    {
      "cell_type": "markdown",
      "metadata": {
        "id": "07m5iVJvy3gu"
      },
      "source": [
        "Получим из кроссвалидации метрики"
      ]
    },
    {
      "cell_type": "code",
      "metadata": {
        "id": "6B-hvt0xy3gv"
      },
      "source": [
        "from sklearn.metrics import make_scorer\n",
        "from sklearn.model_selection import cross_validate"
      ],
      "execution_count": null,
      "outputs": []
    },
    {
      "cell_type": "code",
      "metadata": {
        "id": "rvBUIh8Ey3g3",
        "colab": {
          "base_uri": "https://localhost:8080/"
        },
        "outputId": "9d527aaa-33ce-4ddc-def0-d58237b4fc15"
      },
      "source": [
        "cross_validate(LinearRegression(), X, data[target_col], cv=5, \n",
        "               scoring={'r2_score': make_scorer(r2_score), \n",
        "                        'mean_squared_error': make_scorer(mean_squared_error)})"
      ],
      "execution_count": null,
      "outputs": [
        {
          "output_type": "execute_result",
          "data": {
            "text/plain": [
              "{'fit_time': array([0.01301312, 0.01972032, 0.01889443, 0.02027798, 0.0184741 ]),\n",
              " 'score_time': array([0.01242661, 0.0029366 , 0.00287294, 0.00280309, 0.00291681]),\n",
              " 'test_mean_squared_error': array([1.66639417, 1.4875399 , 1.94036265, 2.81726398, 2.93168231]),\n",
              " 'test_r2_score': array([-0.83125285,  0.06624317,  0.11575732,  0.11001206,  0.07117408])}"
            ]
          },
          "metadata": {},
          "execution_count": 24
        }
      ]
    },
    {
      "cell_type": "code",
      "metadata": {
        "id": "7p2M51I2y3g6",
        "colab": {
          "base_uri": "https://localhost:8080/"
        },
        "outputId": "47f4cabd-65d5-49ef-e766-68162488e1ac"
      },
      "source": [
        "cross_validate(KNeighborsRegressor(), X, data[target_col], cv=5, \n",
        "               scoring={'r2_score': make_scorer(r2_score, ), \n",
        "                        'mean_squared_error': make_scorer(mean_squared_error)})"
      ],
      "execution_count": null,
      "outputs": [
        {
          "output_type": "execute_result",
          "data": {
            "text/plain": [
              "{'fit_time': array([0.03699374, 0.02826595, 0.03249073, 0.03205514, 0.03113937]),\n",
              " 'score_time': array([0.20620894, 0.32893038, 0.26562548, 0.24568629, 0.25101924]),\n",
              " 'test_mean_squared_error': array([1.43509028, 1.604125  , 2.1318763 , 2.56031967, 2.88879778]),\n",
              " 'test_r2_score': array([-0.57706574, -0.00693949,  0.02848263,  0.19118207,  0.08476091])}"
            ]
          },
          "metadata": {},
          "execution_count": 25
        }
      ]
    },
    {
      "cell_type": "markdown",
      "metadata": {
        "id": "UliVq-4qy3hC"
      },
      "source": [
        "## GridSearchCV\n",
        "А еще с помощью кросс валидации можно искать гиперпараметры."
      ]
    },
    {
      "cell_type": "code",
      "metadata": {
        "id": "0evesgvhy3hD"
      },
      "source": [
        "from sklearn.model_selection import GridSearchCV"
      ],
      "execution_count": null,
      "outputs": []
    },
    {
      "cell_type": "code",
      "metadata": {
        "id": "Q3BiK1oBy3hG",
        "scrolled": true,
        "colab": {
          "base_uri": "https://localhost:8080/"
        },
        "outputId": "4a56ea4a-10d2-401b-e675-01fcbadc7b3c"
      },
      "source": [
        "gbr_grid_search = GridSearchCV(KNeighborsRegressor(), \n",
        "                               [{'n_neighbors': [1, 2, 3, 4, 6, 8, 10, 15]}],\n",
        "                               cv=5,\n",
        "                               error_score=make_scorer(mean_squared_error),\n",
        "                               verbose=10)\n",
        "gbr_grid_search.fit(X_train, y_train)"
      ],
      "execution_count": null,
      "outputs": [
        {
          "output_type": "stream",
          "name": "stdout",
          "text": [
            "Fitting 5 folds for each of 8 candidates, totalling 40 fits\n",
            "[CV] n_neighbors=1 ...................................................\n",
            "[CV] ...................... n_neighbors=1, score=-0.472, total=   0.1s\n",
            "[CV] n_neighbors=1 ...................................................\n"
          ]
        },
        {
          "output_type": "stream",
          "name": "stderr",
          "text": [
            "[Parallel(n_jobs=1)]: Using backend SequentialBackend with 1 concurrent workers.\n",
            "[Parallel(n_jobs=1)]: Done   1 out of   1 | elapsed:    0.1s remaining:    0.0s\n"
          ]
        },
        {
          "output_type": "stream",
          "name": "stdout",
          "text": [
            "[CV] ...................... n_neighbors=1, score=-0.389, total=   0.3s\n",
            "[CV] n_neighbors=1 ...................................................\n",
            "[CV] ...................... n_neighbors=1, score=-0.283, total=   0.2s\n",
            "[CV] n_neighbors=1 ...................................................\n"
          ]
        },
        {
          "output_type": "stream",
          "name": "stderr",
          "text": [
            "[Parallel(n_jobs=1)]: Done   2 out of   2 | elapsed:    0.4s remaining:    0.0s\n",
            "[Parallel(n_jobs=1)]: Done   3 out of   3 | elapsed:    0.6s remaining:    0.0s\n"
          ]
        },
        {
          "output_type": "stream",
          "name": "stdout",
          "text": [
            "[CV] ...................... n_neighbors=1, score=-0.276, total=   0.2s\n",
            "[CV] n_neighbors=1 ...................................................\n",
            "[CV] ...................... n_neighbors=1, score=-0.426, total=   0.1s\n",
            "[CV] n_neighbors=2 ...................................................\n"
          ]
        },
        {
          "output_type": "stream",
          "name": "stderr",
          "text": [
            "[Parallel(n_jobs=1)]: Done   4 out of   4 | elapsed:    0.7s remaining:    0.0s\n",
            "[Parallel(n_jobs=1)]: Done   5 out of   5 | elapsed:    0.9s remaining:    0.0s\n"
          ]
        },
        {
          "output_type": "stream",
          "name": "stdout",
          "text": [
            "[CV] ...................... n_neighbors=2, score=-0.104, total=   0.2s\n",
            "[CV] n_neighbors=2 ...................................................\n"
          ]
        },
        {
          "output_type": "stream",
          "name": "stderr",
          "text": [
            "[Parallel(n_jobs=1)]: Done   6 out of   6 | elapsed:    1.0s remaining:    0.0s\n"
          ]
        },
        {
          "output_type": "stream",
          "name": "stdout",
          "text": [
            "[CV] ...................... n_neighbors=2, score=-0.064, total=   0.3s\n",
            "[CV] n_neighbors=2 ...................................................\n",
            "[CV] ...................... n_neighbors=2, score=-0.044, total=   0.2s\n",
            "[CV] n_neighbors=2 ...................................................\n"
          ]
        },
        {
          "output_type": "stream",
          "name": "stderr",
          "text": [
            "[Parallel(n_jobs=1)]: Done   7 out of   7 | elapsed:    1.3s remaining:    0.0s\n",
            "[Parallel(n_jobs=1)]: Done   8 out of   8 | elapsed:    1.5s remaining:    0.0s\n"
          ]
        },
        {
          "output_type": "stream",
          "name": "stdout",
          "text": [
            "[CV] ...................... n_neighbors=2, score=-0.053, total=   0.2s\n",
            "[CV] n_neighbors=2 ...................................................\n",
            "[CV] ...................... n_neighbors=2, score=-0.089, total=   0.2s\n",
            "[CV] n_neighbors=3 ...................................................\n"
          ]
        },
        {
          "output_type": "stream",
          "name": "stderr",
          "text": [
            "[Parallel(n_jobs=1)]: Done   9 out of   9 | elapsed:    1.7s remaining:    0.0s\n"
          ]
        },
        {
          "output_type": "stream",
          "name": "stdout",
          "text": [
            "[CV] ....................... n_neighbors=3, score=0.027, total=   0.2s\n",
            "[CV] n_neighbors=3 ...................................................\n",
            "[CV] ....................... n_neighbors=3, score=0.015, total=   0.3s\n",
            "[CV] n_neighbors=3 ...................................................\n",
            "[CV] ....................... n_neighbors=3, score=0.075, total=   0.2s\n",
            "[CV] n_neighbors=3 ...................................................\n",
            "[CV] ....................... n_neighbors=3, score=0.058, total=   0.2s\n",
            "[CV] n_neighbors=3 ...................................................\n",
            "[CV] ....................... n_neighbors=3, score=0.054, total=   0.2s\n",
            "[CV] n_neighbors=4 ...................................................\n",
            "[CV] ....................... n_neighbors=4, score=0.110, total=   0.2s\n",
            "[CV] n_neighbors=4 ...................................................\n",
            "[CV] ....................... n_neighbors=4, score=0.085, total=   0.3s\n",
            "[CV] n_neighbors=4 ...................................................\n",
            "[CV] ....................... n_neighbors=4, score=0.126, total=   0.2s\n",
            "[CV] n_neighbors=4 ...................................................\n",
            "[CV] ....................... n_neighbors=4, score=0.104, total=   0.2s\n",
            "[CV] n_neighbors=4 ...................................................\n",
            "[CV] ....................... n_neighbors=4, score=0.102, total=   0.2s\n",
            "[CV] n_neighbors=6 ...................................................\n",
            "[CV] ....................... n_neighbors=6, score=0.170, total=   0.2s\n",
            "[CV] n_neighbors=6 ...................................................\n",
            "[CV] ....................... n_neighbors=6, score=0.127, total=   0.3s\n",
            "[CV] n_neighbors=6 ...................................................\n",
            "[CV] ....................... n_neighbors=6, score=0.124, total=   0.2s\n",
            "[CV] n_neighbors=6 ...................................................\n",
            "[CV] ....................... n_neighbors=6, score=0.148, total=   0.2s\n",
            "[CV] n_neighbors=6 ...................................................\n",
            "[CV] ....................... n_neighbors=6, score=0.152, total=   0.2s\n",
            "[CV] n_neighbors=8 ...................................................\n",
            "[CV] ....................... n_neighbors=8, score=0.174, total=   0.2s\n",
            "[CV] n_neighbors=8 ...................................................\n",
            "[CV] ....................... n_neighbors=8, score=0.150, total=   0.3s\n",
            "[CV] n_neighbors=8 ...................................................\n",
            "[CV] ....................... n_neighbors=8, score=0.144, total=   0.2s\n",
            "[CV] n_neighbors=8 ...................................................\n",
            "[CV] ....................... n_neighbors=8, score=0.153, total=   0.2s\n",
            "[CV] n_neighbors=8 ...................................................\n",
            "[CV] ....................... n_neighbors=8, score=0.163, total=   0.2s\n",
            "[CV] n_neighbors=10 ..................................................\n",
            "[CV] ...................... n_neighbors=10, score=0.181, total=   0.2s\n",
            "[CV] n_neighbors=10 ..................................................\n",
            "[CV] ...................... n_neighbors=10, score=0.157, total=   0.3s\n",
            "[CV] n_neighbors=10 ..................................................\n",
            "[CV] ...................... n_neighbors=10, score=0.142, total=   0.2s\n",
            "[CV] n_neighbors=10 ..................................................\n",
            "[CV] ...................... n_neighbors=10, score=0.171, total=   0.2s\n",
            "[CV] n_neighbors=10 ..................................................\n",
            "[CV] ...................... n_neighbors=10, score=0.165, total=   0.2s\n",
            "[CV] n_neighbors=15 ..................................................\n",
            "[CV] ...................... n_neighbors=15, score=0.177, total=   0.2s\n",
            "[CV] n_neighbors=15 ..................................................\n",
            "[CV] ...................... n_neighbors=15, score=0.185, total=   0.3s\n",
            "[CV] n_neighbors=15 ..................................................\n",
            "[CV] ...................... n_neighbors=15, score=0.154, total=   0.2s\n",
            "[CV] n_neighbors=15 ..................................................\n",
            "[CV] ...................... n_neighbors=15, score=0.167, total=   0.2s\n",
            "[CV] n_neighbors=15 ..................................................\n",
            "[CV] ...................... n_neighbors=15, score=0.168, total=   0.2s\n"
          ]
        },
        {
          "output_type": "stream",
          "name": "stderr",
          "text": [
            "[Parallel(n_jobs=1)]: Done  40 out of  40 | elapsed:    8.5s finished\n"
          ]
        },
        {
          "output_type": "execute_result",
          "data": {
            "text/plain": [
              "GridSearchCV(cv=5, error_score=make_scorer(mean_squared_error),\n",
              "             estimator=KNeighborsRegressor(algorithm='auto', leaf_size=30,\n",
              "                                           metric='minkowski',\n",
              "                                           metric_params=None, n_jobs=None,\n",
              "                                           n_neighbors=5, p=2,\n",
              "                                           weights='uniform'),\n",
              "             iid='deprecated', n_jobs=None,\n",
              "             param_grid=[{'n_neighbors': [1, 2, 3, 4, 6, 8, 10, 15]}],\n",
              "             pre_dispatch='2*n_jobs', refit=True, return_train_score=False,\n",
              "             scoring=None, verbose=10)"
            ]
          },
          "metadata": {},
          "execution_count": 27
        }
      ]
    },
    {
      "cell_type": "code",
      "metadata": {
        "id": "tTR0-nRBy3hJ",
        "colab": {
          "base_uri": "https://localhost:8080/"
        },
        "outputId": "f96eaec6-3226-4f3f-baf0-edfc2e211163"
      },
      "source": [
        "print(gbr_grid_search.best_params_)\n",
        "print(gbr_grid_search.best_score_)\n",
        "print(gbr_grid_search.best_estimator_)"
      ],
      "execution_count": null,
      "outputs": [
        {
          "output_type": "stream",
          "name": "stdout",
          "text": [
            "{'n_neighbors': 15}\n",
            "0.17017965335588295\n",
            "KNeighborsRegressor(algorithm='auto', leaf_size=30, metric='minkowski',\n",
            "                    metric_params=None, n_jobs=None, n_neighbors=15, p=2,\n",
            "                    weights='uniform')\n"
          ]
        }
      ]
    },
    {
      "cell_type": "code",
      "metadata": {
        "id": "kTH4TSYDy3hb"
      },
      "source": [
        "# Задание: Обучите несколько других моделей и получите лучшие скоры"
      ],
      "execution_count": null,
      "outputs": []
    },
    {
      "cell_type": "code",
      "metadata": {
        "id": "UJxdd9Zku-cV"
      },
      "source": [
        "# TO DO"
      ],
      "execution_count": null,
      "outputs": []
    },
    {
      "cell_type": "code",
      "metadata": {
        "id": "1S7NAkkCu-cV",
        "colab": {
          "base_uri": "https://localhost:8080/"
        },
        "outputId": "fd52f334-b0f0-4038-9df0-d72f488c81e2"
      },
      "source": [
        "from sklearn.model_selection import RandomizedSearchCV\n",
        "from sklearn.ensemble import RandomForestRegressor\n",
        "\n",
        "search = {'max_depth': np.arange(5, 150, 5), 'max_features': ['auto', 'sqrt'],\n",
        "        'min_samples_leaf': np.arange(2, 20, 1), 'min_samples_split': np.arange(2, 20, 1)}\n",
        "\n",
        "randomsearch = RandomizedSearchCV(RandomForestRegressor(), search, cv=3,\n",
        "                               error_score=make_scorer(mean_squared_error),\n",
        "                               verbose=10, n_iter=20)\n",
        "\n",
        "randomsearch.fit(X_train, y_train)"
      ],
      "execution_count": null,
      "outputs": [
        {
          "output_type": "stream",
          "name": "stdout",
          "text": [
            "Fitting 3 folds for each of 20 candidates, totalling 60 fits\n",
            "[CV] min_samples_split=16, min_samples_leaf=10, max_features=auto, max_depth=55 \n"
          ]
        },
        {
          "output_type": "stream",
          "name": "stderr",
          "text": [
            "[Parallel(n_jobs=1)]: Using backend SequentialBackend with 1 concurrent workers.\n"
          ]
        },
        {
          "output_type": "stream",
          "name": "stdout",
          "text": [
            "[CV]  min_samples_split=16, min_samples_leaf=10, max_features=auto, max_depth=55, score=0.824, total=   1.3s\n",
            "[CV] min_samples_split=16, min_samples_leaf=10, max_features=auto, max_depth=55 \n"
          ]
        },
        {
          "output_type": "stream",
          "name": "stderr",
          "text": [
            "[Parallel(n_jobs=1)]: Done   1 out of   1 | elapsed:    1.3s remaining:    0.0s\n"
          ]
        },
        {
          "output_type": "stream",
          "name": "stdout",
          "text": [
            "[CV]  min_samples_split=16, min_samples_leaf=10, max_features=auto, max_depth=55, score=0.831, total=   1.3s\n",
            "[CV] min_samples_split=16, min_samples_leaf=10, max_features=auto, max_depth=55 \n"
          ]
        },
        {
          "output_type": "stream",
          "name": "stderr",
          "text": [
            "[Parallel(n_jobs=1)]: Done   2 out of   2 | elapsed:    2.6s remaining:    0.0s\n"
          ]
        },
        {
          "output_type": "stream",
          "name": "stdout",
          "text": [
            "[CV]  min_samples_split=16, min_samples_leaf=10, max_features=auto, max_depth=55, score=0.833, total=   1.2s\n",
            "[CV] min_samples_split=7, min_samples_leaf=18, max_features=auto, max_depth=110 \n"
          ]
        },
        {
          "output_type": "stream",
          "name": "stderr",
          "text": [
            "[Parallel(n_jobs=1)]: Done   3 out of   3 | elapsed:    3.8s remaining:    0.0s\n"
          ]
        },
        {
          "output_type": "stream",
          "name": "stdout",
          "text": [
            "[CV]  min_samples_split=7, min_samples_leaf=18, max_features=auto, max_depth=110, score=0.826, total=   1.1s\n",
            "[CV] min_samples_split=7, min_samples_leaf=18, max_features=auto, max_depth=110 \n"
          ]
        },
        {
          "output_type": "stream",
          "name": "stderr",
          "text": [
            "[Parallel(n_jobs=1)]: Done   4 out of   4 | elapsed:    4.9s remaining:    0.0s\n"
          ]
        },
        {
          "output_type": "stream",
          "name": "stdout",
          "text": [
            "[CV]  min_samples_split=7, min_samples_leaf=18, max_features=auto, max_depth=110, score=0.834, total=   1.1s\n",
            "[CV] min_samples_split=7, min_samples_leaf=18, max_features=auto, max_depth=110 \n"
          ]
        },
        {
          "output_type": "stream",
          "name": "stderr",
          "text": [
            "[Parallel(n_jobs=1)]: Done   5 out of   5 | elapsed:    5.9s remaining:    0.0s\n"
          ]
        },
        {
          "output_type": "stream",
          "name": "stdout",
          "text": [
            "[CV]  min_samples_split=7, min_samples_leaf=18, max_features=auto, max_depth=110, score=0.833, total=   1.1s\n",
            "[CV] min_samples_split=16, min_samples_leaf=5, max_features=sqrt, max_depth=85 \n"
          ]
        },
        {
          "output_type": "stream",
          "name": "stderr",
          "text": [
            "[Parallel(n_jobs=1)]: Done   6 out of   6 | elapsed:    7.0s remaining:    0.0s\n"
          ]
        },
        {
          "output_type": "stream",
          "name": "stdout",
          "text": [
            "[CV]  min_samples_split=16, min_samples_leaf=5, max_features=sqrt, max_depth=85, score=0.811, total=   0.4s\n",
            "[CV] min_samples_split=16, min_samples_leaf=5, max_features=sqrt, max_depth=85 \n"
          ]
        },
        {
          "output_type": "stream",
          "name": "stderr",
          "text": [
            "[Parallel(n_jobs=1)]: Done   7 out of   7 | elapsed:    7.4s remaining:    0.0s\n"
          ]
        },
        {
          "output_type": "stream",
          "name": "stdout",
          "text": [
            "[CV]  min_samples_split=16, min_samples_leaf=5, max_features=sqrt, max_depth=85, score=0.818, total=   0.4s\n",
            "[CV] min_samples_split=16, min_samples_leaf=5, max_features=sqrt, max_depth=85 \n"
          ]
        },
        {
          "output_type": "stream",
          "name": "stderr",
          "text": [
            "[Parallel(n_jobs=1)]: Done   8 out of   8 | elapsed:    7.8s remaining:    0.0s\n"
          ]
        },
        {
          "output_type": "stream",
          "name": "stdout",
          "text": [
            "[CV]  min_samples_split=16, min_samples_leaf=5, max_features=sqrt, max_depth=85, score=0.822, total=   0.4s\n",
            "[CV] min_samples_split=15, min_samples_leaf=18, max_features=sqrt, max_depth=45 \n"
          ]
        },
        {
          "output_type": "stream",
          "name": "stderr",
          "text": [
            "[Parallel(n_jobs=1)]: Done   9 out of   9 | elapsed:    8.2s remaining:    0.0s\n"
          ]
        },
        {
          "output_type": "stream",
          "name": "stdout",
          "text": [
            "[CV]  min_samples_split=15, min_samples_leaf=18, max_features=sqrt, max_depth=45, score=0.774, total=   0.4s\n",
            "[CV] min_samples_split=15, min_samples_leaf=18, max_features=sqrt, max_depth=45 \n",
            "[CV]  min_samples_split=15, min_samples_leaf=18, max_features=sqrt, max_depth=45, score=0.785, total=   0.3s\n",
            "[CV] min_samples_split=15, min_samples_leaf=18, max_features=sqrt, max_depth=45 \n",
            "[CV]  min_samples_split=15, min_samples_leaf=18, max_features=sqrt, max_depth=45, score=0.797, total=   0.3s\n",
            "[CV] min_samples_split=9, min_samples_leaf=14, max_features=auto, max_depth=145 \n",
            "[CV]  min_samples_split=9, min_samples_leaf=14, max_features=auto, max_depth=145, score=0.826, total=   1.1s\n",
            "[CV] min_samples_split=9, min_samples_leaf=14, max_features=auto, max_depth=145 \n",
            "[CV]  min_samples_split=9, min_samples_leaf=14, max_features=auto, max_depth=145, score=0.833, total=   1.1s\n",
            "[CV] min_samples_split=9, min_samples_leaf=14, max_features=auto, max_depth=145 \n",
            "[CV]  min_samples_split=9, min_samples_leaf=14, max_features=auto, max_depth=145, score=0.833, total=   1.1s\n",
            "[CV] min_samples_split=12, min_samples_leaf=15, max_features=auto, max_depth=135 \n",
            "[CV]  min_samples_split=12, min_samples_leaf=15, max_features=auto, max_depth=135, score=0.826, total=   1.2s\n",
            "[CV] min_samples_split=12, min_samples_leaf=15, max_features=auto, max_depth=135 \n",
            "[CV]  min_samples_split=12, min_samples_leaf=15, max_features=auto, max_depth=135, score=0.833, total=   1.1s\n",
            "[CV] min_samples_split=12, min_samples_leaf=15, max_features=auto, max_depth=135 \n",
            "[CV]  min_samples_split=12, min_samples_leaf=15, max_features=auto, max_depth=135, score=0.833, total=   1.1s\n",
            "[CV] min_samples_split=4, min_samples_leaf=11, max_features=sqrt, max_depth=20 \n",
            "[CV]  min_samples_split=4, min_samples_leaf=11, max_features=sqrt, max_depth=20, score=0.798, total=   0.3s\n",
            "[CV] min_samples_split=4, min_samples_leaf=11, max_features=sqrt, max_depth=20 \n",
            "[CV]  min_samples_split=4, min_samples_leaf=11, max_features=sqrt, max_depth=20, score=0.794, total=   0.3s\n",
            "[CV] min_samples_split=4, min_samples_leaf=11, max_features=sqrt, max_depth=20 \n",
            "[CV]  min_samples_split=4, min_samples_leaf=11, max_features=sqrt, max_depth=20, score=0.813, total=   0.3s\n",
            "[CV] min_samples_split=13, min_samples_leaf=9, max_features=auto, max_depth=75 \n",
            "[CV]  min_samples_split=13, min_samples_leaf=9, max_features=auto, max_depth=75, score=0.825, total=   1.3s\n",
            "[CV] min_samples_split=13, min_samples_leaf=9, max_features=auto, max_depth=75 \n",
            "[CV]  min_samples_split=13, min_samples_leaf=9, max_features=auto, max_depth=75, score=0.832, total=   1.3s\n",
            "[CV] min_samples_split=13, min_samples_leaf=9, max_features=auto, max_depth=75 \n",
            "[CV]  min_samples_split=13, min_samples_leaf=9, max_features=auto, max_depth=75, score=0.833, total=   1.2s\n",
            "[CV] min_samples_split=6, min_samples_leaf=10, max_features=auto, max_depth=105 \n",
            "[CV]  min_samples_split=6, min_samples_leaf=10, max_features=auto, max_depth=105, score=0.826, total=   1.3s\n",
            "[CV] min_samples_split=6, min_samples_leaf=10, max_features=auto, max_depth=105 \n",
            "[CV]  min_samples_split=6, min_samples_leaf=10, max_features=auto, max_depth=105, score=0.833, total=   1.2s\n",
            "[CV] min_samples_split=6, min_samples_leaf=10, max_features=auto, max_depth=105 \n",
            "[CV]  min_samples_split=6, min_samples_leaf=10, max_features=auto, max_depth=105, score=0.832, total=   1.2s\n",
            "[CV] min_samples_split=7, min_samples_leaf=11, max_features=sqrt, max_depth=90 \n",
            "[CV]  min_samples_split=7, min_samples_leaf=11, max_features=sqrt, max_depth=90, score=0.799, total=   0.3s\n",
            "[CV] min_samples_split=7, min_samples_leaf=11, max_features=sqrt, max_depth=90 \n",
            "[CV]  min_samples_split=7, min_samples_leaf=11, max_features=sqrt, max_depth=90, score=0.801, total=   0.3s\n",
            "[CV] min_samples_split=7, min_samples_leaf=11, max_features=sqrt, max_depth=90 \n",
            "[CV]  min_samples_split=7, min_samples_leaf=11, max_features=sqrt, max_depth=90, score=0.798, total=   0.3s\n",
            "[CV] min_samples_split=11, min_samples_leaf=15, max_features=sqrt, max_depth=120 \n",
            "[CV]  min_samples_split=11, min_samples_leaf=15, max_features=sqrt, max_depth=120, score=0.792, total=   0.3s\n",
            "[CV] min_samples_split=11, min_samples_leaf=15, max_features=sqrt, max_depth=120 \n",
            "[CV]  min_samples_split=11, min_samples_leaf=15, max_features=sqrt, max_depth=120, score=0.784, total=   0.3s\n",
            "[CV] min_samples_split=11, min_samples_leaf=15, max_features=sqrt, max_depth=120 \n",
            "[CV]  min_samples_split=11, min_samples_leaf=15, max_features=sqrt, max_depth=120, score=0.802, total=   0.4s\n",
            "[CV] min_samples_split=12, min_samples_leaf=17, max_features=auto, max_depth=85 \n",
            "[CV]  min_samples_split=12, min_samples_leaf=17, max_features=auto, max_depth=85, score=0.826, total=   1.1s\n",
            "[CV] min_samples_split=12, min_samples_leaf=17, max_features=auto, max_depth=85 \n",
            "[CV]  min_samples_split=12, min_samples_leaf=17, max_features=auto, max_depth=85, score=0.834, total=   1.1s\n",
            "[CV] min_samples_split=12, min_samples_leaf=17, max_features=auto, max_depth=85 \n",
            "[CV]  min_samples_split=12, min_samples_leaf=17, max_features=auto, max_depth=85, score=0.834, total=   1.1s\n",
            "[CV] min_samples_split=9, min_samples_leaf=6, max_features=auto, max_depth=110 \n",
            "[CV]  min_samples_split=9, min_samples_leaf=6, max_features=auto, max_depth=110, score=0.824, total=   1.4s\n",
            "[CV] min_samples_split=9, min_samples_leaf=6, max_features=auto, max_depth=110 \n",
            "[CV]  min_samples_split=9, min_samples_leaf=6, max_features=auto, max_depth=110, score=0.832, total=   1.4s\n",
            "[CV] min_samples_split=9, min_samples_leaf=6, max_features=auto, max_depth=110 \n",
            "[CV]  min_samples_split=9, min_samples_leaf=6, max_features=auto, max_depth=110, score=0.832, total=   1.3s\n",
            "[CV] min_samples_split=5, min_samples_leaf=3, max_features=sqrt, max_depth=55 \n",
            "[CV]  min_samples_split=5, min_samples_leaf=3, max_features=sqrt, max_depth=55, score=0.817, total=   0.4s\n",
            "[CV] min_samples_split=5, min_samples_leaf=3, max_features=sqrt, max_depth=55 \n",
            "[CV]  min_samples_split=5, min_samples_leaf=3, max_features=sqrt, max_depth=55, score=0.820, total=   0.5s\n",
            "[CV] min_samples_split=5, min_samples_leaf=3, max_features=sqrt, max_depth=55 \n",
            "[CV]  min_samples_split=5, min_samples_leaf=3, max_features=sqrt, max_depth=55, score=0.833, total=   0.4s\n",
            "[CV] min_samples_split=8, min_samples_leaf=15, max_features=auto, max_depth=25 \n",
            "[CV]  min_samples_split=8, min_samples_leaf=15, max_features=auto, max_depth=25, score=0.826, total=   1.1s\n",
            "[CV] min_samples_split=8, min_samples_leaf=15, max_features=auto, max_depth=25 \n",
            "[CV]  min_samples_split=8, min_samples_leaf=15, max_features=auto, max_depth=25, score=0.834, total=   1.1s\n",
            "[CV] min_samples_split=8, min_samples_leaf=15, max_features=auto, max_depth=25 \n",
            "[CV]  min_samples_split=8, min_samples_leaf=15, max_features=auto, max_depth=25, score=0.833, total=   1.1s\n",
            "[CV] min_samples_split=2, min_samples_leaf=17, max_features=sqrt, max_depth=145 \n",
            "[CV]  min_samples_split=2, min_samples_leaf=17, max_features=sqrt, max_depth=145, score=0.777, total=   0.3s\n",
            "[CV] min_samples_split=2, min_samples_leaf=17, max_features=sqrt, max_depth=145 \n",
            "[CV]  min_samples_split=2, min_samples_leaf=17, max_features=sqrt, max_depth=145, score=0.780, total=   0.3s\n",
            "[CV] min_samples_split=2, min_samples_leaf=17, max_features=sqrt, max_depth=145 \n",
            "[CV]  min_samples_split=2, min_samples_leaf=17, max_features=sqrt, max_depth=145, score=0.796, total=   0.3s\n",
            "[CV] min_samples_split=5, min_samples_leaf=10, max_features=sqrt, max_depth=10 \n",
            "[CV]  min_samples_split=5, min_samples_leaf=10, max_features=sqrt, max_depth=10, score=0.799, total=   0.3s\n",
            "[CV] min_samples_split=5, min_samples_leaf=10, max_features=sqrt, max_depth=10 \n",
            "[CV]  min_samples_split=5, min_samples_leaf=10, max_features=sqrt, max_depth=10, score=0.807, total=   0.3s\n",
            "[CV] min_samples_split=5, min_samples_leaf=10, max_features=sqrt, max_depth=10 \n",
            "[CV]  min_samples_split=5, min_samples_leaf=10, max_features=sqrt, max_depth=10, score=0.811, total=   0.3s\n",
            "[CV] min_samples_split=14, min_samples_leaf=11, max_features=sqrt, max_depth=20 \n",
            "[CV]  min_samples_split=14, min_samples_leaf=11, max_features=sqrt, max_depth=20, score=0.806, total=   0.3s\n",
            "[CV] min_samples_split=14, min_samples_leaf=11, max_features=sqrt, max_depth=20 \n",
            "[CV]  min_samples_split=14, min_samples_leaf=11, max_features=sqrt, max_depth=20, score=0.811, total=   0.3s\n",
            "[CV] min_samples_split=14, min_samples_leaf=11, max_features=sqrt, max_depth=20 \n",
            "[CV]  min_samples_split=14, min_samples_leaf=11, max_features=sqrt, max_depth=20, score=0.799, total=   0.3s\n",
            "[CV] min_samples_split=14, min_samples_leaf=10, max_features=auto, max_depth=15 \n",
            "[CV]  min_samples_split=14, min_samples_leaf=10, max_features=auto, max_depth=15, score=0.825, total=   1.3s\n",
            "[CV] min_samples_split=14, min_samples_leaf=10, max_features=auto, max_depth=15 \n",
            "[CV]  min_samples_split=14, min_samples_leaf=10, max_features=auto, max_depth=15, score=0.832, total=   1.2s\n",
            "[CV] min_samples_split=14, min_samples_leaf=10, max_features=auto, max_depth=15 \n",
            "[CV]  min_samples_split=14, min_samples_leaf=10, max_features=auto, max_depth=15, score=0.834, total=   1.2s\n",
            "[CV] min_samples_split=7, min_samples_leaf=5, max_features=sqrt, max_depth=35 \n",
            "[CV]  min_samples_split=7, min_samples_leaf=5, max_features=sqrt, max_depth=35, score=0.813, total=   0.4s\n",
            "[CV] min_samples_split=7, min_samples_leaf=5, max_features=sqrt, max_depth=35 \n",
            "[CV]  min_samples_split=7, min_samples_leaf=5, max_features=sqrt, max_depth=35, score=0.821, total=   0.4s\n",
            "[CV] min_samples_split=7, min_samples_leaf=5, max_features=sqrt, max_depth=35 \n",
            "[CV]  min_samples_split=7, min_samples_leaf=5, max_features=sqrt, max_depth=35, score=0.820, total=   0.4s\n"
          ]
        },
        {
          "output_type": "stream",
          "name": "stderr",
          "text": [
            "[Parallel(n_jobs=1)]: Done  60 out of  60 | elapsed:   46.6s finished\n"
          ]
        },
        {
          "output_type": "execute_result",
          "data": {
            "text/plain": [
              "RandomizedSearchCV(cv=3, error_score=make_scorer(mean_squared_error),\n",
              "                   estimator=RandomForestRegressor(bootstrap=True,\n",
              "                                                   ccp_alpha=0.0,\n",
              "                                                   criterion='mse',\n",
              "                                                   max_depth=None,\n",
              "                                                   max_features='auto',\n",
              "                                                   max_leaf_nodes=None,\n",
              "                                                   max_samples=None,\n",
              "                                                   min_impurity_decrease=0.0,\n",
              "                                                   min_impurity_split=None,\n",
              "                                                   min_samples_leaf=1,\n",
              "                                                   min_samples_split=2,\n",
              "                                                   min_weight_fraction_leaf=0.0,\n",
              "                                                   n_estimators=10...\n",
              "                   param_distributions={'max_depth': array([  5,  10,  15,  20,  25,  30,  35,  40,  45,  50,  55,  60,  65,\n",
              "        70,  75,  80,  85,  90,  95, 100, 105, 110, 115, 120, 125, 130,\n",
              "       135, 140, 145]),\n",
              "                                        'max_features': ['auto', 'sqrt'],\n",
              "                                        'min_samples_leaf': array([ 2,  3,  4,  5,  6,  7,  8,  9, 10, 11, 12, 13, 14, 15, 16, 17, 18,\n",
              "       19]),\n",
              "                                        'min_samples_split': array([ 2,  3,  4,  5,  6,  7,  8,  9, 10, 11, 12, 13, 14, 15, 16, 17, 18,\n",
              "       19])},\n",
              "                   pre_dispatch='2*n_jobs', random_state=None, refit=True,\n",
              "                   return_train_score=False, scoring=None, verbose=10)"
            ]
          },
          "metadata": {},
          "execution_count": 29
        }
      ]
    },
    {
      "cell_type": "code",
      "metadata": {
        "id": "qLpjY5L26Wlg",
        "colab": {
          "base_uri": "https://localhost:8080/"
        },
        "outputId": "a5d93b86-9de0-46b5-d679-c4538eba4d43"
      },
      "source": [
        "print(randomsearch.best_params_)\n",
        "print(randomsearch.best_score_)\n",
        "print(randomsearch.best_estimator_)"
      ],
      "execution_count": null,
      "outputs": [
        {
          "output_type": "stream",
          "name": "stdout",
          "text": [
            "{'min_samples_split': 12, 'min_samples_leaf': 17, 'max_features': 'auto', 'max_depth': 85}\n",
            "0.8312699140688936\n",
            "RandomForestRegressor(bootstrap=True, ccp_alpha=0.0, criterion='mse',\n",
            "                      max_depth=85, max_features='auto', max_leaf_nodes=None,\n",
            "                      max_samples=None, min_impurity_decrease=0.0,\n",
            "                      min_impurity_split=None, min_samples_leaf=17,\n",
            "                      min_samples_split=12, min_weight_fraction_leaf=0.0,\n",
            "                      n_estimators=100, n_jobs=None, oob_score=False,\n",
            "                      random_state=None, verbose=0, warm_start=False)\n"
          ]
        }
      ]
    },
    {
      "cell_type": "code",
      "metadata": {
        "colab": {
          "base_uri": "https://localhost:8080/"
        },
        "id": "oYyp4PfI5wIE",
        "outputId": "6c0ffbc0-a144-4ede-bacc-dbfa99c20483"
      },
      "source": [
        "from sklearn.svm import SVR\n",
        "\n",
        "search = {\"C\": np.arange(1, 10, 0.5),\n",
        "             \"gamma\": ['scale', 'auto'],\n",
        "             'kernel': ['linear', 'rbf', 'sigmoid']}\n",
        "\n",
        "randomsearch = RandomizedSearchCV(SVR(), search, cv=3, \n",
        "                            error_score=make_scorer(mean_squared_error), \n",
        "                            verbose=10, n_iter=10)\n",
        "randomsearch.fit(X_train, y_train)"
      ],
      "execution_count": null,
      "outputs": [
        {
          "output_type": "stream",
          "name": "stdout",
          "text": [
            "Fitting 3 folds for each of 10 candidates, totalling 30 fits\n",
            "[CV] kernel=rbf, gamma=scale, C=5.0 ..................................\n"
          ]
        },
        {
          "output_type": "stream",
          "name": "stderr",
          "text": [
            "[Parallel(n_jobs=1)]: Using backend SequentialBackend with 1 concurrent workers.\n"
          ]
        },
        {
          "output_type": "stream",
          "name": "stdout",
          "text": [
            "[CV] ...... kernel=rbf, gamma=scale, C=5.0, score=0.096, total=   2.2s\n",
            "[CV] kernel=rbf, gamma=scale, C=5.0 ..................................\n"
          ]
        },
        {
          "output_type": "stream",
          "name": "stderr",
          "text": [
            "[Parallel(n_jobs=1)]: Done   1 out of   1 | elapsed:    2.2s remaining:    0.0s\n"
          ]
        },
        {
          "output_type": "stream",
          "name": "stdout",
          "text": [
            "[CV] ...... kernel=rbf, gamma=scale, C=5.0, score=0.084, total=   2.1s\n",
            "[CV] kernel=rbf, gamma=scale, C=5.0 ..................................\n"
          ]
        },
        {
          "output_type": "stream",
          "name": "stderr",
          "text": [
            "[Parallel(n_jobs=1)]: Done   2 out of   2 | elapsed:    4.2s remaining:    0.0s\n"
          ]
        },
        {
          "output_type": "stream",
          "name": "stdout",
          "text": [
            "[CV] ...... kernel=rbf, gamma=scale, C=5.0, score=0.104, total=   2.1s\n",
            "[CV] kernel=sigmoid, gamma=scale, C=9.5 ..............................\n"
          ]
        },
        {
          "output_type": "stream",
          "name": "stderr",
          "text": [
            "[Parallel(n_jobs=1)]: Done   3 out of   3 | elapsed:    6.3s remaining:    0.0s\n"
          ]
        },
        {
          "output_type": "stream",
          "name": "stdout",
          "text": [
            "[CV]  kernel=sigmoid, gamma=scale, C=9.5, score=-1358.463, total=   2.4s\n",
            "[CV] kernel=sigmoid, gamma=scale, C=9.5 ..............................\n"
          ]
        },
        {
          "output_type": "stream",
          "name": "stderr",
          "text": [
            "[Parallel(n_jobs=1)]: Done   4 out of   4 | elapsed:    8.7s remaining:    0.0s\n"
          ]
        },
        {
          "output_type": "stream",
          "name": "stdout",
          "text": [
            "[CV]  kernel=sigmoid, gamma=scale, C=9.5, score=-1446.082, total=   2.5s\n",
            "[CV] kernel=sigmoid, gamma=scale, C=9.5 ..............................\n"
          ]
        },
        {
          "output_type": "stream",
          "name": "stderr",
          "text": [
            "[Parallel(n_jobs=1)]: Done   5 out of   5 | elapsed:   11.2s remaining:    0.0s\n"
          ]
        },
        {
          "output_type": "stream",
          "name": "stdout",
          "text": [
            "[CV]  kernel=sigmoid, gamma=scale, C=9.5, score=-540.130, total=   2.4s\n",
            "[CV] kernel=rbf, gamma=auto, C=2.5 ...................................\n"
          ]
        },
        {
          "output_type": "stream",
          "name": "stderr",
          "text": [
            "[Parallel(n_jobs=1)]: Done   6 out of   6 | elapsed:   13.6s remaining:    0.0s\n"
          ]
        },
        {
          "output_type": "stream",
          "name": "stdout",
          "text": [
            "[CV] ....... kernel=rbf, gamma=auto, C=2.5, score=0.095, total=   2.0s\n",
            "[CV] kernel=rbf, gamma=auto, C=2.5 ...................................\n"
          ]
        },
        {
          "output_type": "stream",
          "name": "stderr",
          "text": [
            "[Parallel(n_jobs=1)]: Done   7 out of   7 | elapsed:   15.6s remaining:    0.0s\n"
          ]
        },
        {
          "output_type": "stream",
          "name": "stdout",
          "text": [
            "[CV] ....... kernel=rbf, gamma=auto, C=2.5, score=0.071, total=   2.0s\n",
            "[CV] kernel=rbf, gamma=auto, C=2.5 ...................................\n"
          ]
        },
        {
          "output_type": "stream",
          "name": "stderr",
          "text": [
            "[Parallel(n_jobs=1)]: Done   8 out of   8 | elapsed:   17.6s remaining:    0.0s\n"
          ]
        },
        {
          "output_type": "stream",
          "name": "stdout",
          "text": [
            "[CV] ....... kernel=rbf, gamma=auto, C=2.5, score=0.101, total=   2.0s\n",
            "[CV] kernel=linear, gamma=scale, C=5.5 ...............................\n"
          ]
        },
        {
          "output_type": "stream",
          "name": "stderr",
          "text": [
            "[Parallel(n_jobs=1)]: Done   9 out of   9 | elapsed:   19.6s remaining:    0.0s\n"
          ]
        },
        {
          "output_type": "stream",
          "name": "stdout",
          "text": [
            "[CV] ... kernel=linear, gamma=scale, C=5.5, score=0.023, total=   9.8s\n",
            "[CV] kernel=linear, gamma=scale, C=5.5 ...............................\n",
            "[CV] .. kernel=linear, gamma=scale, C=5.5, score=-0.039, total=  10.8s\n",
            "[CV] kernel=linear, gamma=scale, C=5.5 ...............................\n",
            "[CV] .. kernel=linear, gamma=scale, C=5.5, score=-0.009, total=  10.1s\n",
            "[CV] kernel=linear, gamma=auto, C=7.0 ................................\n",
            "[CV] .... kernel=linear, gamma=auto, C=7.0, score=0.023, total=  12.1s\n",
            "[CV] kernel=linear, gamma=auto, C=7.0 ................................\n",
            "[CV] ... kernel=linear, gamma=auto, C=7.0, score=-0.039, total=  12.9s\n",
            "[CV] kernel=linear, gamma=auto, C=7.0 ................................\n",
            "[CV] ... kernel=linear, gamma=auto, C=7.0, score=-0.009, total=  14.1s\n",
            "[CV] kernel=sigmoid, gamma=auto, C=8.0 ...............................\n",
            "[CV]  kernel=sigmoid, gamma=auto, C=8.0, score=-888.218, total=   2.3s\n",
            "[CV] kernel=sigmoid, gamma=auto, C=8.0 ...............................\n",
            "[CV]  kernel=sigmoid, gamma=auto, C=8.0, score=-849.645, total=   2.6s\n",
            "[CV] kernel=sigmoid, gamma=auto, C=8.0 ...............................\n",
            "[CV]  kernel=sigmoid, gamma=auto, C=8.0, score=-429.370, total=   2.6s\n",
            "[CV] kernel=rbf, gamma=auto, C=6.5 ...................................\n",
            "[CV] ....... kernel=rbf, gamma=auto, C=6.5, score=0.094, total=   2.2s\n",
            "[CV] kernel=rbf, gamma=auto, C=6.5 ...................................\n",
            "[CV] ....... kernel=rbf, gamma=auto, C=6.5, score=0.086, total=   2.2s\n",
            "[CV] kernel=rbf, gamma=auto, C=6.5 ...................................\n",
            "[CV] ....... kernel=rbf, gamma=auto, C=6.5, score=0.101, total=   2.2s\n",
            "[CV] kernel=sigmoid, gamma=auto, C=3.5 ...............................\n",
            "[CV]  kernel=sigmoid, gamma=auto, C=3.5, score=-175.776, total=   2.4s\n",
            "[CV] kernel=sigmoid, gamma=auto, C=3.5 ...............................\n",
            "[CV]  kernel=sigmoid, gamma=auto, C=3.5, score=-161.541, total=   2.4s\n",
            "[CV] kernel=sigmoid, gamma=auto, C=3.5 ...............................\n",
            "[CV] . kernel=sigmoid, gamma=auto, C=3.5, score=-89.153, total=   2.4s\n",
            "[CV] kernel=linear, gamma=scale, C=9.0 ...............................\n",
            "[CV] ... kernel=linear, gamma=scale, C=9.0, score=0.023, total=  14.2s\n",
            "[CV] kernel=linear, gamma=scale, C=9.0 ...............................\n",
            "[CV] .. kernel=linear, gamma=scale, C=9.0, score=-0.039, total=  15.2s\n",
            "[CV] kernel=linear, gamma=scale, C=9.0 ...............................\n",
            "[CV] .. kernel=linear, gamma=scale, C=9.0, score=-0.009, total=  16.4s\n",
            "[CV] kernel=sigmoid, gamma=scale, C=7.5 ..............................\n",
            "[CV]  kernel=sigmoid, gamma=scale, C=7.5, score=-857.063, total=   2.4s\n",
            "[CV] kernel=sigmoid, gamma=scale, C=7.5 ..............................\n",
            "[CV]  kernel=sigmoid, gamma=scale, C=7.5, score=-829.608, total=   2.5s\n",
            "[CV] kernel=sigmoid, gamma=scale, C=7.5 ..............................\n",
            "[CV]  kernel=sigmoid, gamma=scale, C=7.5, score=-379.918, total=   2.5s\n"
          ]
        },
        {
          "output_type": "stream",
          "name": "stderr",
          "text": [
            "[Parallel(n_jobs=1)]: Done  30 out of  30 | elapsed:  2.7min finished\n"
          ]
        },
        {
          "output_type": "execute_result",
          "data": {
            "text/plain": [
              "RandomizedSearchCV(cv=3, error_score=make_scorer(mean_squared_error),\n",
              "                   estimator=SVR(C=1.0, cache_size=200, coef0=0.0, degree=3,\n",
              "                                 epsilon=0.1, gamma='scale', kernel='rbf',\n",
              "                                 max_iter=-1, shrinking=True, tol=0.001,\n",
              "                                 verbose=False),\n",
              "                   iid='deprecated', n_iter=10, n_jobs=None,\n",
              "                   param_distributions={'C': array([1. , 1.5, 2. , 2.5, 3. , 3.5, 4. , 4.5, 5. , 5.5, 6. , 6.5, 7. ,\n",
              "       7.5, 8. , 8.5, 9. , 9.5]),\n",
              "                                        'gamma': ['scale', 'auto'],\n",
              "                                        'kernel': ['linear', 'rbf', 'sigmoid']},\n",
              "                   pre_dispatch='2*n_jobs', random_state=None, refit=True,\n",
              "                   return_train_score=False, scoring=None, verbose=10)"
            ]
          },
          "metadata": {},
          "execution_count": 31
        }
      ]
    },
    {
      "cell_type": "code",
      "metadata": {
        "colab": {
          "base_uri": "https://localhost:8080/"
        },
        "id": "flI7kdPy5wLJ",
        "outputId": "cfd8beaa-4f7b-4d12-c229-41bac5886a67"
      },
      "source": [
        "print(randomsearch.best_params_)\n",
        "print(randomsearch.best_score_)\n",
        "print(randomsearch.best_estimator_)"
      ],
      "execution_count": null,
      "outputs": [
        {
          "output_type": "stream",
          "name": "stdout",
          "text": [
            "{'kernel': 'rbf', 'gamma': 'scale', 'C': 5.0}\n",
            "0.09434455530741352\n",
            "SVR(C=5.0, cache_size=200, coef0=0.0, degree=3, epsilon=0.1, gamma='scale',\n",
            "    kernel='rbf', max_iter=-1, shrinking=True, tol=0.001, verbose=False)\n"
          ]
        }
      ]
    },
    {
      "cell_type": "code",
      "metadata": {
        "id": "_eqnD0_E6Wpm",
        "colab": {
          "base_uri": "https://localhost:8080/"
        },
        "outputId": "1517f9d6-3cd7-4054-f3e6-d81ae52a041d"
      },
      "source": [
        "from sklearn.linear_model import RidgeCV\n",
        "\n",
        "clf = RidgeCV(alphas=[1e-3, 1e-2, 1e-1, 1, 10], cv=5, scoring=make_scorer(mean_squared_error)).fit(X_train, y_train)\n",
        "clf.score(X_train, y_train)"
      ],
      "execution_count": null,
      "outputs": [
        {
          "output_type": "execute_result",
          "data": {
            "text/plain": [
              "0.13742167336791578"
            ]
          },
          "metadata": {},
          "execution_count": 33
        }
      ]
    },
    {
      "cell_type": "code",
      "metadata": {
        "colab": {
          "base_uri": "https://localhost:8080/"
        },
        "id": "i_qLeVcRp3te",
        "outputId": "b3d9f70e-5021-4e88-c155-5fbef743939e"
      },
      "source": [
        "from sklearn.linear_model import LassoCV\n",
        "\n",
        "clf = LassoCV(alphas=[1e-3, 1e-2, 1e-1, 1, 10], cv=5).fit(X_train, y_train)\n",
        "clf.score(X_train, y_train)"
      ],
      "execution_count": null,
      "outputs": [
        {
          "output_type": "execute_result",
          "data": {
            "text/plain": [
              "0.1364096051815875"
            ]
          },
          "metadata": {},
          "execution_count": 34
        }
      ]
    },
    {
      "cell_type": "code",
      "metadata": {
        "colab": {
          "base_uri": "https://localhost:8080/"
        },
        "id": "cTL5y53EqKP6",
        "outputId": "67448851-b0cf-4b27-8411-ab81f8a1852f"
      },
      "source": [
        "from sklearn.tree import DecisionTreeRegressor\n",
        "\n",
        "search = {'max_depth': np.arange(5, 150, 5), 'max_features': ['auto', 'sqrt'],\n",
        "        'min_samples_leaf': np.arange(2, 20, 1), 'min_samples_split': np.arange(2, 20, 1)}\n",
        "\n",
        "randomsearch = RandomizedSearchCV(DecisionTreeRegressor(), search, cv=3,\n",
        "                               error_score=make_scorer(mean_squared_error),\n",
        "                               verbose=10, n_iter=20)\n",
        "\n",
        "randomsearch.fit(X_train, y_train)"
      ],
      "execution_count": null,
      "outputs": [
        {
          "output_type": "stream",
          "name": "stdout",
          "text": [
            "Fitting 3 folds for each of 20 candidates, totalling 60 fits\n",
            "[CV] min_samples_split=12, min_samples_leaf=8, max_features=sqrt, max_depth=140 \n",
            "[CV]  min_samples_split=12, min_samples_leaf=8, max_features=sqrt, max_depth=140, score=0.597, total=   0.0s\n",
            "[CV] min_samples_split=12, min_samples_leaf=8, max_features=sqrt, max_depth=140 \n",
            "[CV]  min_samples_split=12, min_samples_leaf=8, max_features=sqrt, max_depth=140, score=0.759, total=   0.0s\n",
            "[CV] min_samples_split=12, min_samples_leaf=8, max_features=sqrt, max_depth=140 \n",
            "[CV]  min_samples_split=12, min_samples_leaf=8, max_features=sqrt, max_depth=140, score=0.798, total=   0.0s\n",
            "[CV] min_samples_split=11, min_samples_leaf=2, max_features=auto, max_depth=130 \n",
            "[CV]  min_samples_split=11, min_samples_leaf=2, max_features=auto, max_depth=130, score=0.721, total=   0.0s\n",
            "[CV] min_samples_split=11, min_samples_leaf=2, max_features=auto, max_depth=130 \n",
            "[CV]  min_samples_split=11, min_samples_leaf=2, max_features=auto, max_depth=130, score=0.746, total=   0.0s\n",
            "[CV] min_samples_split=11, min_samples_leaf=2, max_features=auto, max_depth=130 \n",
            "[CV]  min_samples_split=11, min_samples_leaf=2, max_features=auto, max_depth=130, score=0.725, total=   0.0s\n",
            "[CV] min_samples_split=16, min_samples_leaf=7, max_features=auto, max_depth=20 \n",
            "[CV]  min_samples_split=16, min_samples_leaf=7, max_features=auto, max_depth=20, score=0.770, total=   0.0s\n",
            "[CV] min_samples_split=16, min_samples_leaf=7, max_features=auto, max_depth=20 \n",
            "[CV]  min_samples_split=16, min_samples_leaf=7, max_features=auto, max_depth=20, score=0.777, total=   0.0s\n",
            "[CV] min_samples_split=16, min_samples_leaf=7, max_features=auto, max_depth=20 \n",
            "[CV]  min_samples_split=16, min_samples_leaf=7, max_features=auto, max_depth=20, score=0.772, total=   0.0s\n",
            "[CV] min_samples_split=16, min_samples_leaf=18, max_features=sqrt, max_depth=120 \n",
            "[CV]  min_samples_split=16, min_samples_leaf=18, max_features=sqrt, max_depth=120, score=0.653, total=   0.0s\n",
            "[CV] min_samples_split=16, min_samples_leaf=18, max_features=sqrt, max_depth=120 \n"
          ]
        },
        {
          "output_type": "stream",
          "name": "stderr",
          "text": [
            "[Parallel(n_jobs=1)]: Using backend SequentialBackend with 1 concurrent workers.\n",
            "[Parallel(n_jobs=1)]: Done   1 out of   1 | elapsed:    0.0s remaining:    0.0s\n",
            "[Parallel(n_jobs=1)]: Done   2 out of   2 | elapsed:    0.0s remaining:    0.0s\n",
            "[Parallel(n_jobs=1)]: Done   3 out of   3 | elapsed:    0.0s remaining:    0.0s\n",
            "[Parallel(n_jobs=1)]: Done   4 out of   4 | elapsed:    0.1s remaining:    0.0s\n",
            "[Parallel(n_jobs=1)]: Done   5 out of   5 | elapsed:    0.1s remaining:    0.0s\n",
            "[Parallel(n_jobs=1)]: Done   6 out of   6 | elapsed:    0.1s remaining:    0.0s\n",
            "[Parallel(n_jobs=1)]: Done   7 out of   7 | elapsed:    0.1s remaining:    0.0s\n",
            "[Parallel(n_jobs=1)]: Done   8 out of   8 | elapsed:    0.2s remaining:    0.0s\n",
            "[Parallel(n_jobs=1)]: Done   9 out of   9 | elapsed:    0.2s remaining:    0.0s\n"
          ]
        },
        {
          "output_type": "stream",
          "name": "stdout",
          "text": [
            "[CV]  min_samples_split=16, min_samples_leaf=18, max_features=sqrt, max_depth=120, score=0.651, total=   0.0s\n",
            "[CV] min_samples_split=16, min_samples_leaf=18, max_features=sqrt, max_depth=120 \n",
            "[CV]  min_samples_split=16, min_samples_leaf=18, max_features=sqrt, max_depth=120, score=0.819, total=   0.0s\n",
            "[CV] min_samples_split=10, min_samples_leaf=8, max_features=sqrt, max_depth=85 \n",
            "[CV]  min_samples_split=10, min_samples_leaf=8, max_features=sqrt, max_depth=85, score=0.666, total=   0.0s\n",
            "[CV] min_samples_split=10, min_samples_leaf=8, max_features=sqrt, max_depth=85 \n",
            "[CV]  min_samples_split=10, min_samples_leaf=8, max_features=sqrt, max_depth=85, score=0.747, total=   0.0s\n",
            "[CV] min_samples_split=10, min_samples_leaf=8, max_features=sqrt, max_depth=85 \n",
            "[CV]  min_samples_split=10, min_samples_leaf=8, max_features=sqrt, max_depth=85, score=0.744, total=   0.0s\n",
            "[CV] min_samples_split=3, min_samples_leaf=4, max_features=sqrt, max_depth=80 \n",
            "[CV]  min_samples_split=3, min_samples_leaf=4, max_features=sqrt, max_depth=80, score=0.608, total=   0.0s\n",
            "[CV] min_samples_split=3, min_samples_leaf=4, max_features=sqrt, max_depth=80 \n",
            "[CV]  min_samples_split=3, min_samples_leaf=4, max_features=sqrt, max_depth=80, score=0.796, total=   0.0s\n",
            "[CV] min_samples_split=3, min_samples_leaf=4, max_features=sqrt, max_depth=80 \n",
            "[CV]  min_samples_split=3, min_samples_leaf=4, max_features=sqrt, max_depth=80, score=0.663, total=   0.0s\n",
            "[CV] min_samples_split=19, min_samples_leaf=3, max_features=auto, max_depth=40 \n",
            "[CV]  min_samples_split=19, min_samples_leaf=3, max_features=auto, max_depth=40, score=0.761, total=   0.0s\n",
            "[CV] min_samples_split=19, min_samples_leaf=3, max_features=auto, max_depth=40 \n",
            "[CV]  min_samples_split=19, min_samples_leaf=3, max_features=auto, max_depth=40, score=0.772, total=   0.0s\n",
            "[CV] min_samples_split=19, min_samples_leaf=3, max_features=auto, max_depth=40 \n",
            "[CV]  min_samples_split=19, min_samples_leaf=3, max_features=auto, max_depth=40, score=0.761, total=   0.0s\n",
            "[CV] min_samples_split=8, min_samples_leaf=11, max_features=auto, max_depth=25 \n",
            "[CV]  min_samples_split=8, min_samples_leaf=11, max_features=auto, max_depth=25, score=0.787, total=   0.0s\n",
            "[CV] min_samples_split=8, min_samples_leaf=11, max_features=auto, max_depth=25 \n",
            "[CV]  min_samples_split=8, min_samples_leaf=11, max_features=auto, max_depth=25, score=0.796, total=   0.0s\n",
            "[CV] min_samples_split=8, min_samples_leaf=11, max_features=auto, max_depth=25 \n",
            "[CV]  min_samples_split=8, min_samples_leaf=11, max_features=auto, max_depth=25, score=0.799, total=   0.0s\n",
            "[CV] min_samples_split=6, min_samples_leaf=14, max_features=sqrt, max_depth=30 \n",
            "[CV]  min_samples_split=6, min_samples_leaf=14, max_features=sqrt, max_depth=30, score=0.716, total=   0.0s\n",
            "[CV] min_samples_split=6, min_samples_leaf=14, max_features=sqrt, max_depth=30 \n",
            "[CV]  min_samples_split=6, min_samples_leaf=14, max_features=sqrt, max_depth=30, score=0.720, total=   0.0s\n",
            "[CV] min_samples_split=6, min_samples_leaf=14, max_features=sqrt, max_depth=30 \n",
            "[CV]  min_samples_split=6, min_samples_leaf=14, max_features=sqrt, max_depth=30, score=0.825, total=   0.0s\n",
            "[CV] min_samples_split=8, min_samples_leaf=16, max_features=auto, max_depth=130 \n",
            "[CV]  min_samples_split=8, min_samples_leaf=16, max_features=auto, max_depth=130, score=0.798, total=   0.0s\n",
            "[CV] min_samples_split=8, min_samples_leaf=16, max_features=auto, max_depth=130 \n",
            "[CV]  min_samples_split=8, min_samples_leaf=16, max_features=auto, max_depth=130, score=0.806, total=   0.0s\n",
            "[CV] min_samples_split=8, min_samples_leaf=16, max_features=auto, max_depth=130 \n",
            "[CV]  min_samples_split=8, min_samples_leaf=16, max_features=auto, max_depth=130, score=0.807, total=   0.0s\n",
            "[CV] min_samples_split=6, min_samples_leaf=6, max_features=sqrt, max_depth=20 \n",
            "[CV]  min_samples_split=6, min_samples_leaf=6, max_features=sqrt, max_depth=20, score=0.639, total=   0.0s\n",
            "[CV] min_samples_split=6, min_samples_leaf=6, max_features=sqrt, max_depth=20 \n",
            "[CV]  min_samples_split=6, min_samples_leaf=6, max_features=sqrt, max_depth=20, score=0.709, total=   0.0s\n",
            "[CV] min_samples_split=6, min_samples_leaf=6, max_features=sqrt, max_depth=20 \n",
            "[CV]  min_samples_split=6, min_samples_leaf=6, max_features=sqrt, max_depth=20, score=0.805, total=   0.0s\n",
            "[CV] min_samples_split=15, min_samples_leaf=14, max_features=sqrt, max_depth=80 \n",
            "[CV]  min_samples_split=15, min_samples_leaf=14, max_features=sqrt, max_depth=80, score=0.720, total=   0.0s\n",
            "[CV] min_samples_split=15, min_samples_leaf=14, max_features=sqrt, max_depth=80 \n",
            "[CV]  min_samples_split=15, min_samples_leaf=14, max_features=sqrt, max_depth=80, score=0.560, total=   0.0s\n",
            "[CV] min_samples_split=15, min_samples_leaf=14, max_features=sqrt, max_depth=80 \n",
            "[CV]  min_samples_split=15, min_samples_leaf=14, max_features=sqrt, max_depth=80, score=0.737, total=   0.0s\n",
            "[CV] min_samples_split=17, min_samples_leaf=4, max_features=sqrt, max_depth=55 \n",
            "[CV]  min_samples_split=17, min_samples_leaf=4, max_features=sqrt, max_depth=55, score=0.757, total=   0.0s\n",
            "[CV] min_samples_split=17, min_samples_leaf=4, max_features=sqrt, max_depth=55 \n",
            "[CV]  min_samples_split=17, min_samples_leaf=4, max_features=sqrt, max_depth=55, score=0.763, total=   0.0s\n",
            "[CV] min_samples_split=17, min_samples_leaf=4, max_features=sqrt, max_depth=55 \n",
            "[CV]  min_samples_split=17, min_samples_leaf=4, max_features=sqrt, max_depth=55, score=0.716, total=   0.0s\n",
            "[CV] min_samples_split=5, min_samples_leaf=2, max_features=sqrt, max_depth=50 \n",
            "[CV]  min_samples_split=5, min_samples_leaf=2, max_features=sqrt, max_depth=50, score=0.544, total=   0.0s\n",
            "[CV] min_samples_split=5, min_samples_leaf=2, max_features=sqrt, max_depth=50 \n",
            "[CV]  min_samples_split=5, min_samples_leaf=2, max_features=sqrt, max_depth=50, score=0.722, total=   0.0s\n",
            "[CV] min_samples_split=5, min_samples_leaf=2, max_features=sqrt, max_depth=50 \n",
            "[CV]  min_samples_split=5, min_samples_leaf=2, max_features=sqrt, max_depth=50, score=0.693, total=   0.0s\n",
            "[CV] min_samples_split=3, min_samples_leaf=8, max_features=auto, max_depth=30 \n",
            "[CV]  min_samples_split=3, min_samples_leaf=8, max_features=auto, max_depth=30, score=0.780, total=   0.0s\n",
            "[CV] min_samples_split=3, min_samples_leaf=8, max_features=auto, max_depth=30 \n",
            "[CV]  min_samples_split=3, min_samples_leaf=8, max_features=auto, max_depth=30, score=0.781, total=   0.0s\n",
            "[CV] min_samples_split=3, min_samples_leaf=8, max_features=auto, max_depth=30 \n",
            "[CV]  min_samples_split=3, min_samples_leaf=8, max_features=auto, max_depth=30, score=0.785, total=   0.0s\n",
            "[CV] min_samples_split=2, min_samples_leaf=11, max_features=sqrt, max_depth=40 \n",
            "[CV]  min_samples_split=2, min_samples_leaf=11, max_features=sqrt, max_depth=40, score=0.597, total=   0.0s\n",
            "[CV] min_samples_split=2, min_samples_leaf=11, max_features=sqrt, max_depth=40 \n",
            "[CV]  min_samples_split=2, min_samples_leaf=11, max_features=sqrt, max_depth=40, score=0.819, total=   0.0s\n",
            "[CV] min_samples_split=2, min_samples_leaf=11, max_features=sqrt, max_depth=40 \n",
            "[CV]  min_samples_split=2, min_samples_leaf=11, max_features=sqrt, max_depth=40, score=0.628, total=   0.0s\n",
            "[CV] min_samples_split=15, min_samples_leaf=17, max_features=sqrt, max_depth=20 \n",
            "[CV]  min_samples_split=15, min_samples_leaf=17, max_features=sqrt, max_depth=20, score=0.772, total=   0.0s\n",
            "[CV] min_samples_split=15, min_samples_leaf=17, max_features=sqrt, max_depth=20 \n",
            "[CV]  min_samples_split=15, min_samples_leaf=17, max_features=sqrt, max_depth=20, score=0.796, total=   0.0s\n",
            "[CV] min_samples_split=15, min_samples_leaf=17, max_features=sqrt, max_depth=20 \n",
            "[CV]  min_samples_split=15, min_samples_leaf=17, max_features=sqrt, max_depth=20, score=0.813, total=   0.0s\n",
            "[CV] min_samples_split=7, min_samples_leaf=12, max_features=sqrt, max_depth=15 \n",
            "[CV]  min_samples_split=7, min_samples_leaf=12, max_features=sqrt, max_depth=15, score=0.765, total=   0.0s\n",
            "[CV] min_samples_split=7, min_samples_leaf=12, max_features=sqrt, max_depth=15 \n",
            "[CV]  min_samples_split=7, min_samples_leaf=12, max_features=sqrt, max_depth=15, score=0.736, total=   0.0s\n",
            "[CV] min_samples_split=7, min_samples_leaf=12, max_features=sqrt, max_depth=15 \n",
            "[CV]  min_samples_split=7, min_samples_leaf=12, max_features=sqrt, max_depth=15, score=0.789, total=   0.0s\n",
            "[CV] min_samples_split=8, min_samples_leaf=7, max_features=auto, max_depth=95 \n",
            "[CV]  min_samples_split=8, min_samples_leaf=7, max_features=auto, max_depth=95, score=0.764, total=   0.0s\n",
            "[CV] min_samples_split=8, min_samples_leaf=7, max_features=auto, max_depth=95 \n",
            "[CV]  min_samples_split=8, min_samples_leaf=7, max_features=auto, max_depth=95, score=0.774, total=   0.0s\n",
            "[CV] min_samples_split=8, min_samples_leaf=7, max_features=auto, max_depth=95 \n",
            "[CV]  min_samples_split=8, min_samples_leaf=7, max_features=auto, max_depth=95, score=0.771, total=   0.0s\n",
            "[CV] min_samples_split=8, min_samples_leaf=11, max_features=sqrt, max_depth=115 \n",
            "[CV]  min_samples_split=8, min_samples_leaf=11, max_features=sqrt, max_depth=115, score=0.537, total=   0.0s\n",
            "[CV] min_samples_split=8, min_samples_leaf=11, max_features=sqrt, max_depth=115 \n",
            "[CV]  min_samples_split=8, min_samples_leaf=11, max_features=sqrt, max_depth=115, score=0.822, total=   0.0s\n",
            "[CV] min_samples_split=8, min_samples_leaf=11, max_features=sqrt, max_depth=115 \n",
            "[CV]  min_samples_split=8, min_samples_leaf=11, max_features=sqrt, max_depth=115, score=0.626, total=   0.0s\n"
          ]
        },
        {
          "output_type": "stream",
          "name": "stderr",
          "text": [
            "[Parallel(n_jobs=1)]: Done  60 out of  60 | elapsed:    0.9s finished\n"
          ]
        },
        {
          "output_type": "execute_result",
          "data": {
            "text/plain": [
              "RandomizedSearchCV(cv=3, error_score=make_scorer(mean_squared_error),\n",
              "                   estimator=DecisionTreeRegressor(ccp_alpha=0.0,\n",
              "                                                   criterion='mse',\n",
              "                                                   max_depth=None,\n",
              "                                                   max_features=None,\n",
              "                                                   max_leaf_nodes=None,\n",
              "                                                   min_impurity_decrease=0.0,\n",
              "                                                   min_impurity_split=None,\n",
              "                                                   min_samples_leaf=1,\n",
              "                                                   min_samples_split=2,\n",
              "                                                   min_weight_fraction_leaf=0.0,\n",
              "                                                   presort='deprecated',\n",
              "                                                   random_state=None,\n",
              "                                                   splitter='...\n",
              "                   param_distributions={'max_depth': array([  5,  10,  15,  20,  25,  30,  35,  40,  45,  50,  55,  60,  65,\n",
              "        70,  75,  80,  85,  90,  95, 100, 105, 110, 115, 120, 125, 130,\n",
              "       135, 140, 145]),\n",
              "                                        'max_features': ['auto', 'sqrt'],\n",
              "                                        'min_samples_leaf': array([ 2,  3,  4,  5,  6,  7,  8,  9, 10, 11, 12, 13, 14, 15, 16, 17, 18,\n",
              "       19]),\n",
              "                                        'min_samples_split': array([ 2,  3,  4,  5,  6,  7,  8,  9, 10, 11, 12, 13, 14, 15, 16, 17, 18,\n",
              "       19])},\n",
              "                   pre_dispatch='2*n_jobs', random_state=None, refit=True,\n",
              "                   return_train_score=False, scoring=None, verbose=10)"
            ]
          },
          "metadata": {},
          "execution_count": 35
        }
      ]
    },
    {
      "cell_type": "code",
      "metadata": {
        "colab": {
          "base_uri": "https://localhost:8080/"
        },
        "id": "S9v9_ImvqfZk",
        "outputId": "e3e4fe68-1fac-4285-acf7-821fa4adfc49"
      },
      "source": [
        "print(randomsearch.best_params_)\n",
        "print(randomsearch.best_score_)\n",
        "print(randomsearch.best_estimator_)"
      ],
      "execution_count": null,
      "outputs": [
        {
          "output_type": "stream",
          "name": "stdout",
          "text": [
            "{'min_samples_split': 8, 'min_samples_leaf': 16, 'max_features': 'auto', 'max_depth': 130}\n",
            "0.8035038093550894\n",
            "DecisionTreeRegressor(ccp_alpha=0.0, criterion='mse', max_depth=130,\n",
            "                      max_features='auto', max_leaf_nodes=None,\n",
            "                      min_impurity_decrease=0.0, min_impurity_split=None,\n",
            "                      min_samples_leaf=16, min_samples_split=8,\n",
            "                      min_weight_fraction_leaf=0.0, presort='deprecated',\n",
            "                      random_state=None, splitter='best')\n"
          ]
        }
      ]
    }
  ]
}