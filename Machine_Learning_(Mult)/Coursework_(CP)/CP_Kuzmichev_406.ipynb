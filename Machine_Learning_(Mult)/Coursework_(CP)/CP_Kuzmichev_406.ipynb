{
  "nbformat": 4,
  "nbformat_minor": 0,
  "metadata": {
    "kernelspec": {
      "display_name": "Python 3",
      "language": "python",
      "name": "python3"
    },
    "language_info": {
      "codemirror_mode": {
        "name": "ipython",
        "version": 3
      },
      "file_extension": ".py",
      "mimetype": "text/x-python",
      "name": "python",
      "nbconvert_exporter": "python",
      "pygments_lexer": "ipython3",
      "version": "3.8.8"
    },
    "colab": {
      "name": "Mult_4.ipynb",
      "provenance": [],
      "collapsed_sections": []
    }
  },
  "cells": [
    {
      "cell_type": "markdown",
      "source": [
        "Курсовой проект студента группы М8О-406Б-18 Кузьмичева Александра"
      ],
      "metadata": {
        "id": "gxAm5uQE98El"
      }
    },
    {
      "cell_type": "markdown",
      "metadata": {
        "id": "Zl93IzA9O8sJ"
      },
      "source": [
        "## Imports"
      ]
    },
    {
      "cell_type": "code",
      "metadata": {
        "colab": {
          "base_uri": "https://localhost:8080/"
        },
        "id": "rzNo750qbg73",
        "outputId": "04e20b3a-5908-4d6e-b938-99abf3604d62"
      },
      "source": [
        "from google.colab import drive\n",
        "drive.mount('/content/drive')"
      ],
      "execution_count": 1,
      "outputs": [
        {
          "output_type": "stream",
          "name": "stdout",
          "text": [
            "Mounted at /content/drive\n"
          ]
        }
      ]
    },
    {
      "cell_type": "code",
      "metadata": {
        "id": "boDqXqpgXgee"
      },
      "source": [
        "import matplotlib.pyplot as plt\n",
        "import seaborn as sns\n",
        "import pandas as pd\n",
        "import numpy as np\n",
        "import warnings\n",
        "%matplotlib inline"
      ],
      "execution_count": 2,
      "outputs": []
    },
    {
      "cell_type": "markdown",
      "metadata": {
        "id": "Y5IL_FUGP7YX"
      },
      "source": [
        "## Данные\n",
        "\n",
        "Данные содержат взятые измерения банкнот с картинок и класс, которому они \n",
        "относятся: подлинные или нет.\n",
        "\n",
        "Столбец | Описание\n",
        ":-----: | :------\n",
        "0       | Среднеквадратическое отклонение вейвлет-преобразованой картинки\n",
        "1       | Ассиметрия вейвлет-преобразованой картинки\n",
        "2       | Коэффициент эксцесса вейвлет-преобразованой картинки\n",
        "3       | Энтропия картинки\n",
        "4       | Класс (0 - подлинная, 1 - нет)"
      ]
    },
    {
      "cell_type": "code",
      "metadata": {
        "colab": {
          "base_uri": "https://localhost:8080/",
          "height": 206
        },
        "id": "ilDSEnlqXgej",
        "outputId": "da5436d3-ce68-44a0-bc7e-327c0b5935f3"
      },
      "source": [
        "csv_path = '/content/drive/My Drive/data_banknote_authentication.csv'\n",
        "notes = pd.read_csv(csv_path, header=None)\n",
        "notes.head()"
      ],
      "execution_count": 3,
      "outputs": [
        {
          "output_type": "execute_result",
          "data": {
            "text/html": [
              "\n",
              "  <div id=\"df-a3c65a49-3758-4908-965f-1d1e5065c574\">\n",
              "    <div class=\"colab-df-container\">\n",
              "      <div>\n",
              "<style scoped>\n",
              "    .dataframe tbody tr th:only-of-type {\n",
              "        vertical-align: middle;\n",
              "    }\n",
              "\n",
              "    .dataframe tbody tr th {\n",
              "        vertical-align: top;\n",
              "    }\n",
              "\n",
              "    .dataframe thead th {\n",
              "        text-align: right;\n",
              "    }\n",
              "</style>\n",
              "<table border=\"1\" class=\"dataframe\">\n",
              "  <thead>\n",
              "    <tr style=\"text-align: right;\">\n",
              "      <th></th>\n",
              "      <th>0</th>\n",
              "      <th>1</th>\n",
              "      <th>2</th>\n",
              "      <th>3</th>\n",
              "      <th>4</th>\n",
              "    </tr>\n",
              "  </thead>\n",
              "  <tbody>\n",
              "    <tr>\n",
              "      <th>0</th>\n",
              "      <td>3.62160</td>\n",
              "      <td>8.6661</td>\n",
              "      <td>-2.8073</td>\n",
              "      <td>-0.44699</td>\n",
              "      <td>0</td>\n",
              "    </tr>\n",
              "    <tr>\n",
              "      <th>1</th>\n",
              "      <td>4.54590</td>\n",
              "      <td>8.1674</td>\n",
              "      <td>-2.4586</td>\n",
              "      <td>-1.46210</td>\n",
              "      <td>0</td>\n",
              "    </tr>\n",
              "    <tr>\n",
              "      <th>2</th>\n",
              "      <td>3.86600</td>\n",
              "      <td>-2.6383</td>\n",
              "      <td>1.9242</td>\n",
              "      <td>0.10645</td>\n",
              "      <td>0</td>\n",
              "    </tr>\n",
              "    <tr>\n",
              "      <th>3</th>\n",
              "      <td>3.45660</td>\n",
              "      <td>9.5228</td>\n",
              "      <td>-4.0112</td>\n",
              "      <td>-3.59440</td>\n",
              "      <td>0</td>\n",
              "    </tr>\n",
              "    <tr>\n",
              "      <th>4</th>\n",
              "      <td>0.32924</td>\n",
              "      <td>-4.4552</td>\n",
              "      <td>4.5718</td>\n",
              "      <td>-0.98880</td>\n",
              "      <td>0</td>\n",
              "    </tr>\n",
              "  </tbody>\n",
              "</table>\n",
              "</div>\n",
              "      <button class=\"colab-df-convert\" onclick=\"convertToInteractive('df-a3c65a49-3758-4908-965f-1d1e5065c574')\"\n",
              "              title=\"Convert this dataframe to an interactive table.\"\n",
              "              style=\"display:none;\">\n",
              "        \n",
              "  <svg xmlns=\"http://www.w3.org/2000/svg\" height=\"24px\"viewBox=\"0 0 24 24\"\n",
              "       width=\"24px\">\n",
              "    <path d=\"M0 0h24v24H0V0z\" fill=\"none\"/>\n",
              "    <path d=\"M18.56 5.44l.94 2.06.94-2.06 2.06-.94-2.06-.94-.94-2.06-.94 2.06-2.06.94zm-11 1L8.5 8.5l.94-2.06 2.06-.94-2.06-.94L8.5 2.5l-.94 2.06-2.06.94zm10 10l.94 2.06.94-2.06 2.06-.94-2.06-.94-.94-2.06-.94 2.06-2.06.94z\"/><path d=\"M17.41 7.96l-1.37-1.37c-.4-.4-.92-.59-1.43-.59-.52 0-1.04.2-1.43.59L10.3 9.45l-7.72 7.72c-.78.78-.78 2.05 0 2.83L4 21.41c.39.39.9.59 1.41.59.51 0 1.02-.2 1.41-.59l7.78-7.78 2.81-2.81c.8-.78.8-2.07 0-2.86zM5.41 20L4 18.59l7.72-7.72 1.47 1.35L5.41 20z\"/>\n",
              "  </svg>\n",
              "      </button>\n",
              "      \n",
              "  <style>\n",
              "    .colab-df-container {\n",
              "      display:flex;\n",
              "      flex-wrap:wrap;\n",
              "      gap: 12px;\n",
              "    }\n",
              "\n",
              "    .colab-df-convert {\n",
              "      background-color: #E8F0FE;\n",
              "      border: none;\n",
              "      border-radius: 50%;\n",
              "      cursor: pointer;\n",
              "      display: none;\n",
              "      fill: #1967D2;\n",
              "      height: 32px;\n",
              "      padding: 0 0 0 0;\n",
              "      width: 32px;\n",
              "    }\n",
              "\n",
              "    .colab-df-convert:hover {\n",
              "      background-color: #E2EBFA;\n",
              "      box-shadow: 0px 1px 2px rgba(60, 64, 67, 0.3), 0px 1px 3px 1px rgba(60, 64, 67, 0.15);\n",
              "      fill: #174EA6;\n",
              "    }\n",
              "\n",
              "    [theme=dark] .colab-df-convert {\n",
              "      background-color: #3B4455;\n",
              "      fill: #D2E3FC;\n",
              "    }\n",
              "\n",
              "    [theme=dark] .colab-df-convert:hover {\n",
              "      background-color: #434B5C;\n",
              "      box-shadow: 0px 1px 3px 1px rgba(0, 0, 0, 0.15);\n",
              "      filter: drop-shadow(0px 1px 2px rgba(0, 0, 0, 0.3));\n",
              "      fill: #FFFFFF;\n",
              "    }\n",
              "  </style>\n",
              "\n",
              "      <script>\n",
              "        const buttonEl =\n",
              "          document.querySelector('#df-a3c65a49-3758-4908-965f-1d1e5065c574 button.colab-df-convert');\n",
              "        buttonEl.style.display =\n",
              "          google.colab.kernel.accessAllowed ? 'block' : 'none';\n",
              "\n",
              "        async function convertToInteractive(key) {\n",
              "          const element = document.querySelector('#df-a3c65a49-3758-4908-965f-1d1e5065c574');\n",
              "          const dataTable =\n",
              "            await google.colab.kernel.invokeFunction('convertToInteractive',\n",
              "                                                     [key], {});\n",
              "          if (!dataTable) return;\n",
              "\n",
              "          const docLinkHtml = 'Like what you see? Visit the ' +\n",
              "            '<a target=\"_blank\" href=https://colab.research.google.com/notebooks/data_table.ipynb>data table notebook</a>'\n",
              "            + ' to learn more about interactive tables.';\n",
              "          element.innerHTML = '';\n",
              "          dataTable['output_type'] = 'display_data';\n",
              "          await google.colab.output.renderOutput(dataTable, element);\n",
              "          const docLink = document.createElement('div');\n",
              "          docLink.innerHTML = docLinkHtml;\n",
              "          element.appendChild(docLink);\n",
              "        }\n",
              "      </script>\n",
              "    </div>\n",
              "  </div>\n",
              "  "
            ],
            "text/plain": [
              "         0       1       2        3  4\n",
              "0  3.62160  8.6661 -2.8073 -0.44699  0\n",
              "1  4.54590  8.1674 -2.4586 -1.46210  0\n",
              "2  3.86600 -2.6383  1.9242  0.10645  0\n",
              "3  3.45660  9.5228 -4.0112 -3.59440  0\n",
              "4  0.32924 -4.4552  4.5718 -0.98880  0"
            ]
          },
          "metadata": {},
          "execution_count": 3
        }
      ]
    },
    {
      "cell_type": "markdown",
      "source": [
        "Размер данных и проверка на наличие пустых элементов:"
      ],
      "metadata": {
        "id": "YkmtUcGA6tUM"
      }
    },
    {
      "cell_type": "code",
      "metadata": {
        "colab": {
          "base_uri": "https://localhost:8080/"
        },
        "id": "q7DePR8nQWCc",
        "outputId": "721e4b2d-b9fe-43ac-cb70-35f1dee7370f"
      },
      "source": [
        "print(\"Dataframe shape:\", notes.shape)\n",
        "notes.isnull().sum()"
      ],
      "execution_count": 4,
      "outputs": [
        {
          "output_type": "stream",
          "name": "stdout",
          "text": [
            "Dataframe shape: (1372, 5)\n"
          ]
        },
        {
          "output_type": "execute_result",
          "data": {
            "text/plain": [
              "0    0\n",
              "1    0\n",
              "2    0\n",
              "3    0\n",
              "4    0\n",
              "dtype: int64"
            ]
          },
          "metadata": {},
          "execution_count": 4
        }
      ]
    },
    {
      "cell_type": "markdown",
      "metadata": {
        "id": "7wrnADKgVjmZ"
      },
      "source": [
        "Рассмотрим корреляцию между особенностями:"
      ]
    },
    {
      "cell_type": "code",
      "metadata": {
        "colab": {
          "base_uri": "https://localhost:8080/",
          "height": 341
        },
        "id": "aIr7MUtKVoT-",
        "outputId": "d97cb859-851e-4146-b55d-481478a3b7a1"
      },
      "source": [
        "plt.subplots(figsize=(7, 5))\n",
        "notes_corr = notes.iloc[:, :-1].corr().abs()\n",
        "sns.heatmap(notes_corr, annot=True)"
      ],
      "execution_count": 5,
      "outputs": [
        {
          "output_type": "execute_result",
          "data": {
            "text/plain": [
              "<matplotlib.axes._subplots.AxesSubplot at 0x7f4b01de90d0>"
            ]
          },
          "metadata": {},
          "execution_count": 5
        },
        {
          "output_type": "display_data",
          "data": {
            "image/png": "[encoded data removed]",
            "text/plain": [
              "<Figure size 504x360 with 2 Axes>"
            ]
          },
          "metadata": {
            "needs_background": "light"
          }
        }
      ]
    },
    {
      "cell_type": "markdown",
      "metadata": {
        "id": "q-JXZsA1WC21"
      },
      "source": [
        "На графике видно, первый столбец имеет высокую коррелиацию с двумя другими, \n",
        "поэтому исключим его:"
      ]
    },
    {
      "cell_type": "code",
      "metadata": {
        "id": "76tuwxUPXBb6"
      },
      "source": [
        "notes = notes.drop(\n",
        "    columns=notes.columns[1], axis=1\n",
        ")"
      ],
      "execution_count": 6,
      "outputs": []
    },
    {
      "cell_type": "markdown",
      "metadata": {
        "id": "_ku0-ydchS7a"
      },
      "source": [
        "При обучении будут использоваться стандартные метрики:\n",
        "* **Precision** (точность) - количество правильно классифицированных \n",
        "  положительных предметов из выбранных для классификации:\n",
        "  $$\n",
        "    precision = \\frac{TP}{TP + FP}\n",
        "  $$\n",
        "* **Recall** (полнота) - количество правильно классифицированных \n",
        "  положительных предметов из всех возможных\n",
        "  (т.е. множество правильно и неправильно классифицированных предметов):\n",
        "  $$\n",
        "    recall = \\frac{TP}{TP + FN}\n",
        "  $$\n",
        "\n",
        "$TP$ - количество корректно классифицированных положительных предметов,\n",
        "$FP$ - количество некорректно классифицированных отрицательных предметов,\n",
        "$TP$ - количество некорректно классифицированных положительных предметов.\n",
        "\n",
        "Можно также использовать **accuracy** (количество правильно классифицированных\n",
        "предметов из всех доступных), но её точность малозначима, так как классов \n",
        "неравное количество."
      ]
    },
    {
      "cell_type": "code",
      "metadata": {
        "id": "1cYgp6mEj4_k"
      },
      "source": [
        "def precision(pred, real):\n",
        "    matrix = np.zeros((2, 2))\n",
        "    for y, p in zip(pred, real):\n",
        "        matrix[1 - y, 1 - p] += 1\n",
        "    \n",
        "    if matrix[0, 0] + matrix[1, 0] == 0:\n",
        "        return 0\n",
        "    return matrix[0, 0] / (matrix[0, 0] + matrix[1, 0])\n",
        "\n",
        "def recall(pred, real):\n",
        "    matrix = np.zeros((2, 2))\n",
        "    for y, p in zip(pred, real):\n",
        "        matrix[1 - y, 1 - p] += 1\n",
        "    \n",
        "    if matrix[0, 0] + matrix[0, 1] == 0:\n",
        "        return 0\n",
        "    return matrix[0, 0] / (matrix[0, 0] + matrix[0, 1])"
      ],
      "execution_count": 7,
      "outputs": []
    },
    {
      "cell_type": "markdown",
      "metadata": {
        "id": "lyLfwZ0KhNQ_"
      },
      "source": [
        "## Модель"
      ]
    },
    {
      "cell_type": "markdown",
      "metadata": {
        "id": "TswfkUV5pcdq"
      },
      "source": [
        "Модель - логистическая регрессия и **L2** ругляризацией."
      ]
    },
    {
      "cell_type": "code",
      "metadata": {
        "id": "ALOPph7Vpo72"
      },
      "source": [
        "import numpy as np\n",
        "\n",
        "class LogisticRegression:\n",
        "    def __init__(self, *, reg_param=1.0, lr=0.01, max_iter=100):\n",
        "        self._a  = reg_param\n",
        "        self._lr = lr\n",
        "        self._max_iter = max_iter\n",
        "        self._feat_count = 0\n",
        "        self._weights = None\n",
        "        self._bias = 0\n",
        "\n",
        "    def fit(self, feats, labels):\n",
        "        if self._weights is None:\n",
        "            self._feat_count = feats.shape[1]\n",
        "            self._weights = np.zeros(self._feat_count)\n",
        "        elif self._feat_count != feats.shape[1]:\n",
        "            err = f\"Feature count does not match previous count {self._feat_count}\"\n",
        "            raise ValueError(err)\n",
        "\n",
        "        costs      = np.zeros((self._max_iter))\n",
        "        precisions = np.zeros((self._max_iter))\n",
        "        recalls    = np.zeros((self._max_iter))\n",
        "\n",
        "        for i in range(self._max_iter):\n",
        "            pred = self._predict(feats)\n",
        "\n",
        "            costs[i] = self._cost(pred, labels)\n",
        "            precisions[i] = precision(pred.round().astype(int), labels)\n",
        "            recalls[i] = recall(pred.round().astype(int), labels)\n",
        "\n",
        "            sample_count = len(labels)\n",
        "            norm_coef = self._a\n",
        "            coef = np.mean(pred - labels)\n",
        "\n",
        "            dw = np.dot(feats.T, pred - labels) / sample_count + norm_coef * self._weights\n",
        "            db = coef + norm_coef * self._bias\n",
        "\n",
        "            self._weights -= dw * self._lr\n",
        "            self._bias    -= db * self._lr\n",
        "        \n",
        "        return {\n",
        "            \"cost\": costs,\n",
        "            \"precision\": precisions,\n",
        "            \"recall\": recalls,\n",
        "            \"max_iter\": self._max_iter,\n",
        "        }\n",
        "\n",
        "    def predict(self, X):\n",
        "        return self._predict(X).round()\n",
        "\n",
        "    def _predict(self, feats):\n",
        "        weights = self._weights\n",
        "        bias    = self._bias\n",
        "        return 1 / (1 + np.exp(-( np.dot(feats, weights) + bias)))\n",
        "    \n",
        "    def _cost(self, preds, labels):\n",
        "        return -1 * np.mean( \n",
        "            np.multiply(labels, np.log(preds)) \\\n",
        "            + np.multiply(1 - labels, np.log(1 - preds))\n",
        "        )        "
      ],
      "execution_count": 20,
      "outputs": []
    },
    {
      "cell_type": "markdown",
      "metadata": {
        "id": "HXDlL7vtpUdo"
      },
      "source": [
        "## Обучение"
      ]
    },
    {
      "cell_type": "markdown",
      "metadata": {
        "id": "ViAsAl84g36P"
      },
      "source": [
        "Маштабирование данных и дальнейшее разделение на обучающее и тестовое множества:"
      ]
    },
    {
      "cell_type": "code",
      "metadata": {
        "id": "1Ws8EGEbXgel"
      },
      "source": [
        "from sklearn.model_selection import train_test_split\n",
        "\n",
        "\n",
        "X = notes.iloc[:, :-1]\n",
        "y = notes.iloc[:, -1]\n",
        "\n",
        "from sklearn.preprocessing import StandardScaler\n",
        "ss = StandardScaler()\n",
        "\n",
        "X_train, X_test, y_train, y_test = train_test_split(\n",
        "    ss.fit_transform(X), y, \n",
        "    test_size=0.3, random_state=10\n",
        ")"
      ],
      "execution_count": 21,
      "outputs": []
    },
    {
      "cell_type": "markdown",
      "metadata": {
        "id": "1TFuYgGeI_dW"
      },
      "source": [
        "Само обучение модели:"
      ]
    },
    {
      "cell_type": "code",
      "metadata": {
        "colab": {
          "base_uri": "https://localhost:8080/",
          "height": 300
        },
        "id": "gQ4pKdyZXger",
        "outputId": "baa3930d-8a3e-4ba7-fc01-df0072c057ee"
      },
      "source": [
        "custom_model = LogisticRegression(max_iter=200, reg_param = 1)\n",
        "graphs = custom_model.fit(X_train, y_train)\n",
        "\n",
        "plt.plot(graphs[\"cost\"],                      label=\"Cost\")\n",
        "plt.plot(graphs[\"precision\"], linestyle='--', label=\"Precision\")\n",
        "plt.plot(graphs[\"recall\"],    linestyle='--', label=\"Recall\")\n",
        "plt.grid()\n",
        "plt.legend()\n",
        "\n",
        "preds = custom_model.predict(X_test).astype(int)\n",
        "\n",
        "print(\"Final precision:\", precision(preds, y_test))\n",
        "print(\"Final recall:\", recall(preds, y_test))"
      ],
      "execution_count": 36,
      "outputs": [
        {
          "output_type": "stream",
          "name": "stdout",
          "text": [
            "Final precision: 0.7903225806451613\n",
            "Final recall: 0.8258426966292135\n"
          ]
        },
        {
          "output_type": "display_data",
          "data": {
            "image/png": "[encoded data removed]",
            "text/plain": [
              "<Figure size 432x288 with 1 Axes>"
            ]
          },
          "metadata": {
            "needs_background": "light"
          }
        }
      ]
    },
    {
      "cell_type": "markdown",
      "source": [
        "Обучение с sklearn:"
      ],
      "metadata": {
        "id": "kIF7C2VGMA9r"
      }
    },
    {
      "cell_type": "code",
      "metadata": {
        "colab": {
          "base_uri": "https://localhost:8080/"
        },
        "id": "qV89ycma-VKn",
        "outputId": "9d456dc3-878c-4845-97a4-cf3cf0a4914e"
      },
      "source": [
        "from sklearn import linear_model\n",
        "\n",
        "sklearn_model = linear_model.LogisticRegression()\n",
        "\n",
        "sklearn_model.fit(X_train, y_train)\n",
        "\n",
        "preds = sklearn_model.predict(X_test).astype(int)\n",
        "\n",
        "print(\"Final precision:\", precision(preds, y_test))\n",
        "print(\"Final recall:\", recall(preds, y_test))"
      ],
      "execution_count": null,
      "outputs": [
        {
          "output_type": "stream",
          "name": "stdout",
          "text": [
            "Final precision: 0.9354838709677419\n",
            "Final recall: 0.9015544041450777\n"
          ]
        }
      ]
    },
    {
      "cell_type": "markdown",
      "source": [
        "Попробуем оптимизировать алгоритм, убрав L2 нормализацию. Для этого обнулим параметр reg_param."
      ],
      "metadata": {
        "id": "e5LSnd_79Q2_"
      }
    },
    {
      "cell_type": "code",
      "source": [
        "custom_model = LogisticRegression(max_iter=200, reg_param = 0)\n",
        "graphs = custom_model.fit(X_train, y_train)\n",
        "\n",
        "plt.plot(graphs[\"cost\"],                      label=\"Cost\")\n",
        "plt.plot(graphs[\"precision\"], linestyle='--', label=\"Precision\")\n",
        "plt.plot(graphs[\"recall\"],    linestyle='--', label=\"Recall\")\n",
        "plt.grid()\n",
        "plt.legend()\n",
        "\n",
        "preds = custom_model.predict(X_test).astype(int)\n",
        "\n",
        "print(\"Final precision:\", precision(preds, y_test))\n",
        "print(\"Final recall:\", recall(preds, y_test))"
      ],
      "metadata": {
        "colab": {
          "base_uri": "https://localhost:8080/",
          "height": 300
        },
        "id": "G_hIONK69i2w",
        "outputId": "4e99c8f8-0623-4cf1-de84-8664468d476c"
      },
      "execution_count": 38,
      "outputs": [
        {
          "output_type": "stream",
          "name": "stdout",
          "text": [
            "Final precision: 0.7903225806451613\n",
            "Final recall: 0.8305084745762712\n"
          ]
        },
        {
          "output_type": "display_data",
          "data": {
            "image/png": "[encoded data removed]",
            "text/plain": [
              "<Figure size 432x288 with 1 Axes>"
            ]
          },
          "metadata": {
            "needs_background": "light"
          }
        }
      ]
    }
  ]
}